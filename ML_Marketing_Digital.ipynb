{
  "nbformat": 4,
  "nbformat_minor": 0,
  "metadata": {
    "colab": {
      "name": "ML - Marketing Digital.ipynb",
      "provenance": []
    },
    "kernelspec": {
      "name": "python3",
      "display_name": "Python 3"
    }
  },
  "cells": [
    {
      "cell_type": "markdown",
      "metadata": {
        "id": "JTIxQAMN9MWn"
      },
      "source": [
        "# **1 - Preparação dos dados**"
      ]
    },
    {
      "cell_type": "code",
      "metadata": {
        "colab": {
          "base_uri": "https://localhost:8080/",
          "height": 462
        },
        "id": "5P8vYkQy7DEj",
        "outputId": "2e357681-2582-410e-d6a8-269ae99e6150"
      },
      "source": [
        "import pandas as pd\n",
        "\n",
        "df = pd.read_csv('https://raw.githubusercontent.com/alura-cursos/digital-marketing-ml/master/train.csv')\n",
        "df.head()"
      ],
      "execution_count": null,
      "outputs": [
        {
          "output_type": "execute_result",
          "data": {
            "text/html": [
              "<div>\n",
              "<style scoped>\n",
              "    .dataframe tbody tr th:only-of-type {\n",
              "        vertical-align: middle;\n",
              "    }\n",
              "\n",
              "    .dataframe tbody tr th {\n",
              "        vertical-align: top;\n",
              "    }\n",
              "\n",
              "    .dataframe thead th {\n",
              "        text-align: right;\n",
              "    }\n",
              "</style>\n",
              "<table border=\"1\" class=\"dataframe\">\n",
              "  <thead>\n",
              "    <tr style=\"text-align: right;\">\n",
              "      <th></th>\n",
              "      <th>channelGrouping</th>\n",
              "      <th>date</th>\n",
              "      <th>device</th>\n",
              "      <th>fullVisitorId</th>\n",
              "      <th>geoNetwork</th>\n",
              "      <th>sessionId</th>\n",
              "      <th>socialEngagementType</th>\n",
              "      <th>totals</th>\n",
              "      <th>trafficSource</th>\n",
              "      <th>visitId</th>\n",
              "      <th>visitNumber</th>\n",
              "      <th>visitStartTime</th>\n",
              "    </tr>\n",
              "  </thead>\n",
              "  <tbody>\n",
              "    <tr>\n",
              "      <th>0</th>\n",
              "      <td>Organic Search</td>\n",
              "      <td>20160902</td>\n",
              "      <td>{\"browser\": \"Chrome\", \"browserVersion\": \"not a...</td>\n",
              "      <td>9674781571160116268</td>\n",
              "      <td>{\"continent\": \"Asia\", \"subContinent\": \"Southea...</td>\n",
              "      <td>9674781571160116268_1472804607</td>\n",
              "      <td>Not Socially Engaged</td>\n",
              "      <td>{\"visits\": \"1\", \"hits\": \"1\", \"pageviews\": \"1\",...</td>\n",
              "      <td>{\"campaign\": \"(not set)\", \"source\": \"google\", ...</td>\n",
              "      <td>1472804607</td>\n",
              "      <td>1</td>\n",
              "      <td>1472804607</td>\n",
              "    </tr>\n",
              "    <tr>\n",
              "      <th>1</th>\n",
              "      <td>Organic Search</td>\n",
              "      <td>20160902</td>\n",
              "      <td>{\"browser\": \"Chrome\", \"browserVersion\": \"not a...</td>\n",
              "      <td>8590648239310839049</td>\n",
              "      <td>{\"continent\": \"Europe\", \"subContinent\": \"Easte...</td>\n",
              "      <td>8590648239310839049_1472835928</td>\n",
              "      <td>Not Socially Engaged</td>\n",
              "      <td>{\"visits\": \"1\", \"hits\": \"1\", \"pageviews\": \"1\",...</td>\n",
              "      <td>{\"campaign\": \"(not set)\", \"source\": \"google\", ...</td>\n",
              "      <td>1472835928</td>\n",
              "      <td>1</td>\n",
              "      <td>1472835928</td>\n",
              "    </tr>\n",
              "    <tr>\n",
              "      <th>2</th>\n",
              "      <td>Affiliates</td>\n",
              "      <td>20160902</td>\n",
              "      <td>{\"browser\": \"Chrome\", \"browserVersion\": \"not a...</td>\n",
              "      <td>9772828344252850532</td>\n",
              "      <td>{\"continent\": \"Americas\", \"subContinent\": \"Sou...</td>\n",
              "      <td>9772828344252850532_1472856802</td>\n",
              "      <td>Not Socially Engaged</td>\n",
              "      <td>{\"visits\": \"1\", \"hits\": \"1\", \"pageviews\": \"1\",...</td>\n",
              "      <td>{\"campaign\": \"Data Share Promo\", \"source\": \"Pa...</td>\n",
              "      <td>1472856802</td>\n",
              "      <td>1</td>\n",
              "      <td>1472856802</td>\n",
              "    </tr>\n",
              "    <tr>\n",
              "      <th>3</th>\n",
              "      <td>Organic Search</td>\n",
              "      <td>20160902</td>\n",
              "      <td>{\"browser\": \"Safari\", \"browserVersion\": \"not a...</td>\n",
              "      <td>1350700416054916432</td>\n",
              "      <td>{\"continent\": \"Americas\", \"subContinent\": \"Nor...</td>\n",
              "      <td>1350700416054916432_1472879649</td>\n",
              "      <td>Not Socially Engaged</td>\n",
              "      <td>{\"visits\": \"1\", \"hits\": \"1\", \"pageviews\": \"1\",...</td>\n",
              "      <td>{\"campaign\": \"(not set)\", \"source\": \"google\", ...</td>\n",
              "      <td>1472879649</td>\n",
              "      <td>2</td>\n",
              "      <td>1472879649</td>\n",
              "    </tr>\n",
              "    <tr>\n",
              "      <th>4</th>\n",
              "      <td>Organic Search</td>\n",
              "      <td>20160902</td>\n",
              "      <td>{\"browser\": \"Safari\", \"browserVersion\": \"not a...</td>\n",
              "      <td>1350700416054916432</td>\n",
              "      <td>{\"continent\": \"Americas\", \"subContinent\": \"Nor...</td>\n",
              "      <td>1350700416054916432_1472829671</td>\n",
              "      <td>Not Socially Engaged</td>\n",
              "      <td>{\"visits\": \"1\", \"hits\": \"5\", \"pageviews\": \"4\",...</td>\n",
              "      <td>{\"campaign\": \"(not set)\", \"source\": \"google\", ...</td>\n",
              "      <td>1472829671</td>\n",
              "      <td>1</td>\n",
              "      <td>1472829671</td>\n",
              "    </tr>\n",
              "  </tbody>\n",
              "</table>\n",
              "</div>"
            ],
            "text/plain": [
              "  channelGrouping      date  ... visitNumber  visitStartTime\n",
              "0  Organic Search  20160902  ...           1      1472804607\n",
              "1  Organic Search  20160902  ...           1      1472835928\n",
              "2      Affiliates  20160902  ...           1      1472856802\n",
              "3  Organic Search  20160902  ...           2      1472879649\n",
              "4  Organic Search  20160902  ...           1      1472829671\n",
              "\n",
              "[5 rows x 12 columns]"
            ]
          },
          "metadata": {
            "tags": []
          },
          "execution_count": 1
        }
      ]
    },
    {
      "cell_type": "code",
      "metadata": {
        "colab": {
          "base_uri": "https://localhost:8080/"
        },
        "id": "uHuVN1I37aKX",
        "outputId": "452c0682-a567-47d5-ca53-85076cb907c9"
      },
      "source": [
        "df.shape"
      ],
      "execution_count": null,
      "outputs": [
        {
          "output_type": "execute_result",
          "data": {
            "text/plain": [
              "(12283, 12)"
            ]
          },
          "metadata": {
            "tags": []
          },
          "execution_count": 2
        }
      ]
    },
    {
      "cell_type": "code",
      "metadata": {
        "colab": {
          "base_uri": "https://localhost:8080/"
        },
        "id": "_l_qW_D-_fiN",
        "outputId": "ee739dbd-18d0-45d4-cbae-1816a441b91e"
      },
      "source": [
        "len(df.fullVisitorId.unique()) # quantidade de usuários únicos"
      ],
      "execution_count": null,
      "outputs": [
        {
          "output_type": "execute_result",
          "data": {
            "text/plain": [
              "9996"
            ]
          },
          "metadata": {
            "tags": []
          },
          "execution_count": 3
        }
      ]
    },
    {
      "cell_type": "code",
      "metadata": {
        "colab": {
          "base_uri": "https://localhost:8080/"
        },
        "id": "rNuKRW5z_zEc",
        "outputId": "e4f9b136-da1d-49d8-c226-053734491ed4"
      },
      "source": [
        "df.dtypes"
      ],
      "execution_count": null,
      "outputs": [
        {
          "output_type": "execute_result",
          "data": {
            "text/plain": [
              "channelGrouping         object\n",
              "date                     int64\n",
              "device                  object\n",
              "fullVisitorId           uint64\n",
              "geoNetwork              object\n",
              "sessionId               object\n",
              "socialEngagementType    object\n",
              "totals                  object\n",
              "trafficSource           object\n",
              "visitId                  int64\n",
              "visitNumber              int64\n",
              "visitStartTime           int64\n",
              "dtype: object"
            ]
          },
          "metadata": {
            "tags": []
          },
          "execution_count": 4
        }
      ]
    },
    {
      "cell_type": "markdown",
      "metadata": {
        "id": "_f3HWXGvALFP"
      },
      "source": [
        "A coluna date pode ter um problema já que não é um inteiro de fato, isso é os 4 primeiros algarismos representa o ano, os 2 seguintes o mês e os outros dois o dia."
      ]
    },
    {
      "cell_type": "code",
      "metadata": {
        "colab": {
          "base_uri": "https://localhost:8080/"
        },
        "id": "-PwhnWj9AFDf",
        "outputId": "0adb9a77-803f-4433-e5eb-0bd3da18bd54"
      },
      "source": [
        "data = df.date.iloc[0]\n",
        "data"
      ],
      "execution_count": null,
      "outputs": [
        {
          "output_type": "execute_result",
          "data": {
            "text/plain": [
              "20160902"
            ]
          },
          "metadata": {
            "tags": []
          },
          "execution_count": 5
        }
      ]
    },
    {
      "cell_type": "code",
      "metadata": {
        "colab": {
          "base_uri": "https://localhost:8080/"
        },
        "id": "YOSeYMk4Ak2l",
        "outputId": "8695f3eb-d9cd-4fe6-de5c-4688fd93a499"
      },
      "source": [
        "type(data)"
      ],
      "execution_count": null,
      "outputs": [
        {
          "output_type": "execute_result",
          "data": {
            "text/plain": [
              "numpy.int64"
            ]
          },
          "metadata": {
            "tags": []
          },
          "execution_count": 6
        }
      ]
    },
    {
      "cell_type": "code",
      "metadata": {
        "colab": {
          "base_uri": "https://localhost:8080/",
          "height": 165
        },
        "id": "rHlrMVTOAq8z",
        "outputId": "15c1f019-8e71-4754-f03e-8ec7e4ec75ce"
      },
      "source": [
        "data[0:4] #dá erro porque é um inteiro"
      ],
      "execution_count": null,
      "outputs": [
        {
          "output_type": "error",
          "ename": "IndexError",
          "evalue": "ignored",
          "traceback": [
            "\u001b[0;31m---------------------------------------------------------------------------\u001b[0m",
            "\u001b[0;31mIndexError\u001b[0m                                Traceback (most recent call last)",
            "\u001b[0;32m<ipython-input-7-06194aaf7f91>\u001b[0m in \u001b[0;36m<module>\u001b[0;34m()\u001b[0m\n\u001b[0;32m----> 1\u001b[0;31m \u001b[0mdata\u001b[0m\u001b[0;34m[\u001b[0m\u001b[0;36m0\u001b[0m\u001b[0;34m:\u001b[0m\u001b[0;36m4\u001b[0m\u001b[0;34m]\u001b[0m \u001b[0;31m#dá erro porque é um inteiro\u001b[0m\u001b[0;34m\u001b[0m\u001b[0;34m\u001b[0m\u001b[0m\n\u001b[0m",
            "\u001b[0;31mIndexError\u001b[0m: invalid index to scalar variable."
          ]
        }
      ]
    },
    {
      "cell_type": "code",
      "metadata": {
        "colab": {
          "base_uri": "https://localhost:8080/",
          "height": 34
        },
        "id": "-BBhk6LAAw0C",
        "outputId": "4aeb2cad-b6d9-463d-8819-1b892390eacc"
      },
      "source": [
        "data = str(df.date[0]) #transformando em um string, funciona!\n",
        "\n",
        "data[0:4]"
      ],
      "execution_count": null,
      "outputs": [
        {
          "output_type": "execute_result",
          "data": {
            "application/vnd.google.colaboratory.intrinsic+json": {
              "type": "string"
            },
            "text/plain": [
              "'2016'"
            ]
          },
          "metadata": {
            "tags": []
          },
          "execution_count": 8
        }
      ]
    },
    {
      "cell_type": "markdown",
      "metadata": {
        "id": "ZCjffM51BVEy"
      },
      "source": [
        "A coluna fullVisitorID está como inteiro e isso pode gerar problemas, por exemplo com zeros à esquerda."
      ]
    },
    {
      "cell_type": "code",
      "metadata": {
        "colab": {
          "base_uri": "https://localhost:8080/"
        },
        "id": "IemhY4CoBA5_",
        "outputId": "5fd48078-3ec2-406b-f626-66c14f2fd485"
      },
      "source": [
        "numero = int(\"00123\")\n",
        "numero"
      ],
      "execution_count": null,
      "outputs": [
        {
          "output_type": "execute_result",
          "data": {
            "text/plain": [
              "123"
            ]
          },
          "metadata": {
            "tags": []
          },
          "execution_count": 9
        }
      ]
    },
    {
      "cell_type": "markdown",
      "metadata": {
        "id": "y55S9lQpB-af"
      },
      "source": [
        "## **Corrigindo os dados**\n",
        "\n",
        "Alteramos direto na hora de ler o arquivo pois o pandas pode ler e interpretar e retirar o zero à esquerda por exemplo."
      ]
    },
    {
      "cell_type": "code",
      "metadata": {
        "id": "0tYjJ8PgBoMa"
      },
      "source": [
        "df = pd.read_csv('https://raw.githubusercontent.com/alura-cursos/digital-marketing-ml/master/train.csv',\n",
        "                 dtype = {'date':object, 'fullVisitorId':object, 'VisitId':object})\n"
      ],
      "execution_count": null,
      "outputs": []
    },
    {
      "cell_type": "code",
      "metadata": {
        "id": "2IZi0xIZDHgg",
        "colab": {
          "base_uri": "https://localhost:8080/"
        },
        "outputId": "1dcc8693-69b9-4d1f-aad1-e770917376a2"
      },
      "source": [
        "df.dtypes # agora os arquivos estão com o formato correto"
      ],
      "execution_count": null,
      "outputs": [
        {
          "output_type": "execute_result",
          "data": {
            "text/plain": [
              "channelGrouping              object\n",
              "date                         object\n",
              "fullVisitorId                object\n",
              "sessionId                    object\n",
              "socialEngagementType         object\n",
              "visitId                       int64\n",
              "visitNumber                   int64\n",
              "visitStartTime                int64\n",
              "browser                      object\n",
              "browserVersion               object\n",
              "browserSize                  object\n",
              "operatingSystem              object\n",
              "operatingSystemVersion       object\n",
              "isMobile                       bool\n",
              "mobileDeviceBranding         object\n",
              "mobileDeviceModel            object\n",
              "mobileInputSelector          object\n",
              "mobileDeviceInfo             object\n",
              "mobileDeviceMarketingName    object\n",
              "flashVersion                 object\n",
              "language                     object\n",
              "screenColors                 object\n",
              "screenResolution             object\n",
              "deviceCategory               object\n",
              "continent                    object\n",
              "subContinent                 object\n",
              "country                      object\n",
              "region                       object\n",
              "metro                        object\n",
              "city                         object\n",
              "cityId                       object\n",
              "networkDomain                object\n",
              "latitude                     object\n",
              "longitude                    object\n",
              "networkLocation              object\n",
              "campaign                     object\n",
              "source                       object\n",
              "medium                       object\n",
              "keyword                      object\n",
              "adwordsClickInfo             object\n",
              "isTrueDirect                 object\n",
              "referralPath                 object\n",
              "adContent                    object\n",
              "campaignCode                 object\n",
              "visits                       object\n",
              "hits                         object\n",
              "pageviews                    object\n",
              "bounces                      object\n",
              "newVisits                    object\n",
              "transactionRevenue           object\n",
              "dtype: object"
            ]
          },
          "metadata": {
            "tags": []
          },
          "execution_count": 24
        }
      ]
    },
    {
      "cell_type": "markdown",
      "metadata": {
        "id": "SQXhXUTP_qHs"
      },
      "source": [
        "##**Trabalho com dicionários**"
      ]
    },
    {
      "cell_type": "code",
      "metadata": {
        "id": "W_Vu-wkwDI5K",
        "colab": {
          "base_uri": "https://localhost:8080/",
          "height": 482
        },
        "outputId": "ec882a2c-a730-469a-ee14-bc2866af1dd9"
      },
      "source": [
        "df.head()\n",
        "    \n"
      ],
      "execution_count": null,
      "outputs": [
        {
          "output_type": "execute_result",
          "data": {
            "text/html": [
              "<div>\n",
              "<style scoped>\n",
              "    .dataframe tbody tr th:only-of-type {\n",
              "        vertical-align: middle;\n",
              "    }\n",
              "\n",
              "    .dataframe tbody tr th {\n",
              "        vertical-align: top;\n",
              "    }\n",
              "\n",
              "    .dataframe thead th {\n",
              "        text-align: right;\n",
              "    }\n",
              "</style>\n",
              "<table border=\"1\" class=\"dataframe\">\n",
              "  <thead>\n",
              "    <tr style=\"text-align: right;\">\n",
              "      <th></th>\n",
              "      <th>channelGrouping</th>\n",
              "      <th>date</th>\n",
              "      <th>fullVisitorId</th>\n",
              "      <th>sessionId</th>\n",
              "      <th>socialEngagementType</th>\n",
              "      <th>visitId</th>\n",
              "      <th>visitNumber</th>\n",
              "      <th>visitStartTime</th>\n",
              "      <th>browser</th>\n",
              "      <th>browserVersion</th>\n",
              "      <th>browserSize</th>\n",
              "      <th>operatingSystem</th>\n",
              "      <th>operatingSystemVersion</th>\n",
              "      <th>isMobile</th>\n",
              "      <th>mobileDeviceBranding</th>\n",
              "      <th>mobileDeviceModel</th>\n",
              "      <th>mobileInputSelector</th>\n",
              "      <th>mobileDeviceInfo</th>\n",
              "      <th>mobileDeviceMarketingName</th>\n",
              "      <th>flashVersion</th>\n",
              "      <th>language</th>\n",
              "      <th>screenColors</th>\n",
              "      <th>screenResolution</th>\n",
              "      <th>deviceCategory</th>\n",
              "      <th>continent</th>\n",
              "      <th>subContinent</th>\n",
              "      <th>country</th>\n",
              "      <th>region</th>\n",
              "      <th>metro</th>\n",
              "      <th>city</th>\n",
              "      <th>cityId</th>\n",
              "      <th>networkDomain</th>\n",
              "      <th>latitude</th>\n",
              "      <th>longitude</th>\n",
              "      <th>networkLocation</th>\n",
              "      <th>campaign</th>\n",
              "      <th>source</th>\n",
              "      <th>medium</th>\n",
              "      <th>keyword</th>\n",
              "      <th>adwordsClickInfo</th>\n",
              "      <th>isTrueDirect</th>\n",
              "      <th>referralPath</th>\n",
              "      <th>adContent</th>\n",
              "      <th>campaignCode</th>\n",
              "      <th>visits</th>\n",
              "      <th>hits</th>\n",
              "      <th>pageviews</th>\n",
              "      <th>bounces</th>\n",
              "      <th>newVisits</th>\n",
              "      <th>transactionRevenue</th>\n",
              "    </tr>\n",
              "  </thead>\n",
              "  <tbody>\n",
              "    <tr>\n",
              "      <th>0</th>\n",
              "      <td>Organic Search</td>\n",
              "      <td>20160902</td>\n",
              "      <td>9674781571160116268</td>\n",
              "      <td>9674781571160116268_1472804607</td>\n",
              "      <td>Not Socially Engaged</td>\n",
              "      <td>1472804607</td>\n",
              "      <td>1</td>\n",
              "      <td>1472804607</td>\n",
              "      <td>Chrome</td>\n",
              "      <td>not available in demo dataset</td>\n",
              "      <td>not available in demo dataset</td>\n",
              "      <td>Windows</td>\n",
              "      <td>not available in demo dataset</td>\n",
              "      <td>False</td>\n",
              "      <td>not available in demo dataset</td>\n",
              "      <td>not available in demo dataset</td>\n",
              "      <td>not available in demo dataset</td>\n",
              "      <td>not available in demo dataset</td>\n",
              "      <td>not available in demo dataset</td>\n",
              "      <td>not available in demo dataset</td>\n",
              "      <td>not available in demo dataset</td>\n",
              "      <td>not available in demo dataset</td>\n",
              "      <td>not available in demo dataset</td>\n",
              "      <td>desktop</td>\n",
              "      <td>Asia</td>\n",
              "      <td>Southeast Asia</td>\n",
              "      <td>Singapore</td>\n",
              "      <td>(not set)</td>\n",
              "      <td>(not set)</td>\n",
              "      <td>Singapore</td>\n",
              "      <td>not available in demo dataset</td>\n",
              "      <td>unknown.unknown</td>\n",
              "      <td>not available in demo dataset</td>\n",
              "      <td>not available in demo dataset</td>\n",
              "      <td>not available in demo dataset</td>\n",
              "      <td>(not set)</td>\n",
              "      <td>google</td>\n",
              "      <td>organic</td>\n",
              "      <td>(not provided)</td>\n",
              "      <td>{'criteriaParameters': 'not available in demo ...</td>\n",
              "      <td>NaN</td>\n",
              "      <td>NaN</td>\n",
              "      <td>NaN</td>\n",
              "      <td>NaN</td>\n",
              "      <td>1</td>\n",
              "      <td>1</td>\n",
              "      <td>1</td>\n",
              "      <td>1</td>\n",
              "      <td>1</td>\n",
              "      <td>NaN</td>\n",
              "    </tr>\n",
              "    <tr>\n",
              "      <th>1</th>\n",
              "      <td>Organic Search</td>\n",
              "      <td>20160902</td>\n",
              "      <td>8590648239310839049</td>\n",
              "      <td>8590648239310839049_1472835928</td>\n",
              "      <td>Not Socially Engaged</td>\n",
              "      <td>1472835928</td>\n",
              "      <td>1</td>\n",
              "      <td>1472835928</td>\n",
              "      <td>Chrome</td>\n",
              "      <td>not available in demo dataset</td>\n",
              "      <td>not available in demo dataset</td>\n",
              "      <td>Macintosh</td>\n",
              "      <td>not available in demo dataset</td>\n",
              "      <td>False</td>\n",
              "      <td>not available in demo dataset</td>\n",
              "      <td>not available in demo dataset</td>\n",
              "      <td>not available in demo dataset</td>\n",
              "      <td>not available in demo dataset</td>\n",
              "      <td>not available in demo dataset</td>\n",
              "      <td>not available in demo dataset</td>\n",
              "      <td>not available in demo dataset</td>\n",
              "      <td>not available in demo dataset</td>\n",
              "      <td>not available in demo dataset</td>\n",
              "      <td>desktop</td>\n",
              "      <td>Europe</td>\n",
              "      <td>Eastern Europe</td>\n",
              "      <td>Poland</td>\n",
              "      <td>not available in demo dataset</td>\n",
              "      <td>not available in demo dataset</td>\n",
              "      <td>not available in demo dataset</td>\n",
              "      <td>not available in demo dataset</td>\n",
              "      <td>tpnet.pl</td>\n",
              "      <td>not available in demo dataset</td>\n",
              "      <td>not available in demo dataset</td>\n",
              "      <td>not available in demo dataset</td>\n",
              "      <td>(not set)</td>\n",
              "      <td>google</td>\n",
              "      <td>organic</td>\n",
              "      <td>(not provided)</td>\n",
              "      <td>{'criteriaParameters': 'not available in demo ...</td>\n",
              "      <td>NaN</td>\n",
              "      <td>NaN</td>\n",
              "      <td>NaN</td>\n",
              "      <td>NaN</td>\n",
              "      <td>1</td>\n",
              "      <td>1</td>\n",
              "      <td>1</td>\n",
              "      <td>1</td>\n",
              "      <td>1</td>\n",
              "      <td>NaN</td>\n",
              "    </tr>\n",
              "    <tr>\n",
              "      <th>2</th>\n",
              "      <td>Affiliates</td>\n",
              "      <td>20160902</td>\n",
              "      <td>9772828344252850532</td>\n",
              "      <td>9772828344252850532_1472856802</td>\n",
              "      <td>Not Socially Engaged</td>\n",
              "      <td>1472856802</td>\n",
              "      <td>1</td>\n",
              "      <td>1472856802</td>\n",
              "      <td>Chrome</td>\n",
              "      <td>not available in demo dataset</td>\n",
              "      <td>not available in demo dataset</td>\n",
              "      <td>Macintosh</td>\n",
              "      <td>not available in demo dataset</td>\n",
              "      <td>False</td>\n",
              "      <td>not available in demo dataset</td>\n",
              "      <td>not available in demo dataset</td>\n",
              "      <td>not available in demo dataset</td>\n",
              "      <td>not available in demo dataset</td>\n",
              "      <td>not available in demo dataset</td>\n",
              "      <td>not available in demo dataset</td>\n",
              "      <td>not available in demo dataset</td>\n",
              "      <td>not available in demo dataset</td>\n",
              "      <td>not available in demo dataset</td>\n",
              "      <td>desktop</td>\n",
              "      <td>Americas</td>\n",
              "      <td>South America</td>\n",
              "      <td>Argentina</td>\n",
              "      <td>Buenos Aires</td>\n",
              "      <td>(not set)</td>\n",
              "      <td>Buenos Aires</td>\n",
              "      <td>not available in demo dataset</td>\n",
              "      <td>phonevision.com.ar</td>\n",
              "      <td>not available in demo dataset</td>\n",
              "      <td>not available in demo dataset</td>\n",
              "      <td>not available in demo dataset</td>\n",
              "      <td>Data Share Promo</td>\n",
              "      <td>Partners</td>\n",
              "      <td>affiliate</td>\n",
              "      <td>NaN</td>\n",
              "      <td>{'criteriaParameters': 'not available in demo ...</td>\n",
              "      <td>NaN</td>\n",
              "      <td>NaN</td>\n",
              "      <td>NaN</td>\n",
              "      <td>NaN</td>\n",
              "      <td>1</td>\n",
              "      <td>1</td>\n",
              "      <td>1</td>\n",
              "      <td>1</td>\n",
              "      <td>1</td>\n",
              "      <td>NaN</td>\n",
              "    </tr>\n",
              "    <tr>\n",
              "      <th>3</th>\n",
              "      <td>Organic Search</td>\n",
              "      <td>20160902</td>\n",
              "      <td>1350700416054916432</td>\n",
              "      <td>1350700416054916432_1472879649</td>\n",
              "      <td>Not Socially Engaged</td>\n",
              "      <td>1472879649</td>\n",
              "      <td>2</td>\n",
              "      <td>1472879649</td>\n",
              "      <td>Safari</td>\n",
              "      <td>not available in demo dataset</td>\n",
              "      <td>not available in demo dataset</td>\n",
              "      <td>iOS</td>\n",
              "      <td>not available in demo dataset</td>\n",
              "      <td>True</td>\n",
              "      <td>not available in demo dataset</td>\n",
              "      <td>not available in demo dataset</td>\n",
              "      <td>not available in demo dataset</td>\n",
              "      <td>not available in demo dataset</td>\n",
              "      <td>not available in demo dataset</td>\n",
              "      <td>not available in demo dataset</td>\n",
              "      <td>not available in demo dataset</td>\n",
              "      <td>not available in demo dataset</td>\n",
              "      <td>not available in demo dataset</td>\n",
              "      <td>mobile</td>\n",
              "      <td>Americas</td>\n",
              "      <td>Northern America</td>\n",
              "      <td>United States</td>\n",
              "      <td>not available in demo dataset</td>\n",
              "      <td>not available in demo dataset</td>\n",
              "      <td>not available in demo dataset</td>\n",
              "      <td>not available in demo dataset</td>\n",
              "      <td>comcast.net</td>\n",
              "      <td>not available in demo dataset</td>\n",
              "      <td>not available in demo dataset</td>\n",
              "      <td>not available in demo dataset</td>\n",
              "      <td>(not set)</td>\n",
              "      <td>google</td>\n",
              "      <td>organic</td>\n",
              "      <td>(not provided)</td>\n",
              "      <td>{'criteriaParameters': 'not available in demo ...</td>\n",
              "      <td>True</td>\n",
              "      <td>NaN</td>\n",
              "      <td>NaN</td>\n",
              "      <td>NaN</td>\n",
              "      <td>1</td>\n",
              "      <td>1</td>\n",
              "      <td>1</td>\n",
              "      <td>1</td>\n",
              "      <td>NaN</td>\n",
              "      <td>NaN</td>\n",
              "    </tr>\n",
              "    <tr>\n",
              "      <th>4</th>\n",
              "      <td>Organic Search</td>\n",
              "      <td>20160902</td>\n",
              "      <td>1350700416054916432</td>\n",
              "      <td>1350700416054916432_1472829671</td>\n",
              "      <td>Not Socially Engaged</td>\n",
              "      <td>1472829671</td>\n",
              "      <td>1</td>\n",
              "      <td>1472829671</td>\n",
              "      <td>Safari</td>\n",
              "      <td>not available in demo dataset</td>\n",
              "      <td>not available in demo dataset</td>\n",
              "      <td>iOS</td>\n",
              "      <td>not available in demo dataset</td>\n",
              "      <td>True</td>\n",
              "      <td>not available in demo dataset</td>\n",
              "      <td>not available in demo dataset</td>\n",
              "      <td>not available in demo dataset</td>\n",
              "      <td>not available in demo dataset</td>\n",
              "      <td>not available in demo dataset</td>\n",
              "      <td>not available in demo dataset</td>\n",
              "      <td>not available in demo dataset</td>\n",
              "      <td>not available in demo dataset</td>\n",
              "      <td>not available in demo dataset</td>\n",
              "      <td>mobile</td>\n",
              "      <td>Americas</td>\n",
              "      <td>Northern America</td>\n",
              "      <td>United States</td>\n",
              "      <td>not available in demo dataset</td>\n",
              "      <td>not available in demo dataset</td>\n",
              "      <td>not available in demo dataset</td>\n",
              "      <td>not available in demo dataset</td>\n",
              "      <td>att.net</td>\n",
              "      <td>not available in demo dataset</td>\n",
              "      <td>not available in demo dataset</td>\n",
              "      <td>not available in demo dataset</td>\n",
              "      <td>(not set)</td>\n",
              "      <td>google</td>\n",
              "      <td>organic</td>\n",
              "      <td>(not provided)</td>\n",
              "      <td>{'criteriaParameters': 'not available in demo ...</td>\n",
              "      <td>NaN</td>\n",
              "      <td>NaN</td>\n",
              "      <td>NaN</td>\n",
              "      <td>NaN</td>\n",
              "      <td>1</td>\n",
              "      <td>5</td>\n",
              "      <td>4</td>\n",
              "      <td>NaN</td>\n",
              "      <td>1</td>\n",
              "      <td>NaN</td>\n",
              "    </tr>\n",
              "  </tbody>\n",
              "</table>\n",
              "</div>"
            ],
            "text/plain": [
              "  channelGrouping      date  ... newVisits transactionRevenue\n",
              "0  Organic Search  20160902  ...         1                NaN\n",
              "1  Organic Search  20160902  ...         1                NaN\n",
              "2      Affiliates  20160902  ...         1                NaN\n",
              "3  Organic Search  20160902  ...       NaN                NaN\n",
              "4  Organic Search  20160902  ...         1                NaN\n",
              "\n",
              "[5 rows x 50 columns]"
            ]
          },
          "metadata": {
            "tags": []
          },
          "execution_count": 27
        }
      ]
    },
    {
      "cell_type": "markdown",
      "metadata": {
        "id": "7hM2o6CaAS01"
      },
      "source": [
        "No python é cohecido como dicionário, chave e valor que  também é conhecido como json.\n",
        "\n",
        "Para passar para o modelo será melhor colocar esses valores em colunas."
      ]
    },
    {
      "cell_type": "code",
      "metadata": {
        "colab": {
          "base_uri": "https://localhost:8080/",
          "height": 86
        },
        "id": "SxlwoZvZ_wey",
        "outputId": "bf24ded8-fcf0-4116-987c-ff7a1ea3ec27"
      },
      "source": [
        "df.device.iloc[0]\n"
      ],
      "execution_count": null,
      "outputs": [
        {
          "output_type": "execute_result",
          "data": {
            "application/vnd.google.colaboratory.intrinsic+json": {
              "type": "string"
            },
            "text/plain": [
              "'{\"browser\": \"Chrome\", \"browserVersion\": \"not available in demo dataset\", \"browserSize\": \"not available in demo dataset\", \"operatingSystem\": \"Windows\", \"operatingSystemVersion\": \"not available in demo dataset\", \"isMobile\": false, \"mobileDeviceBranding\": \"not available in demo dataset\", \"mobileDeviceModel\": \"not available in demo dataset\", \"mobileInputSelector\": \"not available in demo dataset\", \"mobileDeviceInfo\": \"not available in demo dataset\", \"mobileDeviceMarketingName\": \"not available in demo dataset\", \"flashVersion\": \"not available in demo dataset\", \"language\": \"not available in demo dataset\", \"screenColors\": \"not available in demo dataset\", \"screenResolution\": \"not available in demo dataset\", \"deviceCategory\": \"desktop\"}'"
            ]
          },
          "metadata": {
            "tags": []
          },
          "execution_count": 30
        }
      ]
    },
    {
      "cell_type": "code",
      "metadata": {
        "colab": {
          "base_uri": "https://localhost:8080/"
        },
        "id": "MHrVX85zAkJY",
        "outputId": "512fb08a-d81e-46bd-93c1-1cf83a3f20b4"
      },
      "source": [
        "type(df.device.iloc[0]) \n"
      ],
      "execution_count": null,
      "outputs": [
        {
          "output_type": "execute_result",
          "data": {
            "text/plain": [
              "str"
            ]
          },
          "metadata": {
            "tags": []
          },
          "execution_count": 31
        }
      ]
    },
    {
      "cell_type": "markdown",
      "metadata": {
        "id": "6dadB-YFA5vr"
      },
      "source": [
        "Está como uma string, mas primeiro precisamos converter em dict para trabalhar com o pandas. Para isso usamos a biblioteca json."
      ]
    },
    {
      "cell_type": "code",
      "metadata": {
        "id": "jvFqDE-_Ao5M"
      },
      "source": [
        "import json"
      ],
      "execution_count": null,
      "outputs": []
    },
    {
      "cell_type": "code",
      "metadata": {
        "colab": {
          "base_uri": "https://localhost:8080/"
        },
        "id": "P4u5xL-OA1ns",
        "outputId": "055b2f19-27b3-4118-cf00-572d5240498e"
      },
      "source": [
        "json.loads(df.device.iloc[0])\n",
        "# notamos que essa função separa em valores de um dicionário"
      ],
      "execution_count": null,
      "outputs": [
        {
          "output_type": "execute_result",
          "data": {
            "text/plain": [
              "{'browser': 'Chrome',\n",
              " 'browserSize': 'not available in demo dataset',\n",
              " 'browserVersion': 'not available in demo dataset',\n",
              " 'deviceCategory': 'desktop',\n",
              " 'flashVersion': 'not available in demo dataset',\n",
              " 'isMobile': False,\n",
              " 'language': 'not available in demo dataset',\n",
              " 'mobileDeviceBranding': 'not available in demo dataset',\n",
              " 'mobileDeviceInfo': 'not available in demo dataset',\n",
              " 'mobileDeviceMarketingName': 'not available in demo dataset',\n",
              " 'mobileDeviceModel': 'not available in demo dataset',\n",
              " 'mobileInputSelector': 'not available in demo dataset',\n",
              " 'operatingSystem': 'Windows',\n",
              " 'operatingSystemVersion': 'not available in demo dataset',\n",
              " 'screenColors': 'not available in demo dataset',\n",
              " 'screenResolution': 'not available in demo dataset'}"
            ]
          },
          "metadata": {
            "tags": []
          },
          "execution_count": 33
        }
      ]
    },
    {
      "cell_type": "code",
      "metadata": {
        "colab": {
          "base_uri": "https://localhost:8080/"
        },
        "id": "LRImRUlvBVSi",
        "outputId": "ad6c6dbe-cded-4754-a2d5-7bbf4ad8c788"
      },
      "source": [
        "type(json.loads(df.device.iloc[0]))\n"
      ],
      "execution_count": null,
      "outputs": [
        {
          "output_type": "execute_result",
          "data": {
            "text/plain": [
              "dict"
            ]
          },
          "metadata": {
            "tags": []
          },
          "execution_count": 34
        }
      ]
    },
    {
      "cell_type": "markdown",
      "metadata": {
        "id": "CFJrv9A2CJKd"
      },
      "source": [
        "Por meio de um list comprehension aplicamos a função json.loads que transformou a coluna device em uma lista de dicionários e em seguida transformamos em um DataFrame."
      ]
    },
    {
      "cell_type": "code",
      "metadata": {
        "colab": {
          "base_uri": "https://localhost:8080/",
          "height": 956
        },
        "id": "gN7kRUglBbk1",
        "outputId": "13a06628-e408-4404-a892-3f467f708edf"
      },
      "source": [
        "pd.DataFrame([json.loads(linha) for linha in df.device]) \n"
      ],
      "execution_count": null,
      "outputs": [
        {
          "output_type": "execute_result",
          "data": {
            "text/html": [
              "<div>\n",
              "<style scoped>\n",
              "    .dataframe tbody tr th:only-of-type {\n",
              "        vertical-align: middle;\n",
              "    }\n",
              "\n",
              "    .dataframe tbody tr th {\n",
              "        vertical-align: top;\n",
              "    }\n",
              "\n",
              "    .dataframe thead th {\n",
              "        text-align: right;\n",
              "    }\n",
              "</style>\n",
              "<table border=\"1\" class=\"dataframe\">\n",
              "  <thead>\n",
              "    <tr style=\"text-align: right;\">\n",
              "      <th></th>\n",
              "      <th>browser</th>\n",
              "      <th>browserVersion</th>\n",
              "      <th>browserSize</th>\n",
              "      <th>operatingSystem</th>\n",
              "      <th>operatingSystemVersion</th>\n",
              "      <th>isMobile</th>\n",
              "      <th>mobileDeviceBranding</th>\n",
              "      <th>mobileDeviceModel</th>\n",
              "      <th>mobileInputSelector</th>\n",
              "      <th>mobileDeviceInfo</th>\n",
              "      <th>mobileDeviceMarketingName</th>\n",
              "      <th>flashVersion</th>\n",
              "      <th>language</th>\n",
              "      <th>screenColors</th>\n",
              "      <th>screenResolution</th>\n",
              "      <th>deviceCategory</th>\n",
              "    </tr>\n",
              "  </thead>\n",
              "  <tbody>\n",
              "    <tr>\n",
              "      <th>0</th>\n",
              "      <td>Chrome</td>\n",
              "      <td>not available in demo dataset</td>\n",
              "      <td>not available in demo dataset</td>\n",
              "      <td>Windows</td>\n",
              "      <td>not available in demo dataset</td>\n",
              "      <td>False</td>\n",
              "      <td>not available in demo dataset</td>\n",
              "      <td>not available in demo dataset</td>\n",
              "      <td>not available in demo dataset</td>\n",
              "      <td>not available in demo dataset</td>\n",
              "      <td>not available in demo dataset</td>\n",
              "      <td>not available in demo dataset</td>\n",
              "      <td>not available in demo dataset</td>\n",
              "      <td>not available in demo dataset</td>\n",
              "      <td>not available in demo dataset</td>\n",
              "      <td>desktop</td>\n",
              "    </tr>\n",
              "    <tr>\n",
              "      <th>1</th>\n",
              "      <td>Chrome</td>\n",
              "      <td>not available in demo dataset</td>\n",
              "      <td>not available in demo dataset</td>\n",
              "      <td>Macintosh</td>\n",
              "      <td>not available in demo dataset</td>\n",
              "      <td>False</td>\n",
              "      <td>not available in demo dataset</td>\n",
              "      <td>not available in demo dataset</td>\n",
              "      <td>not available in demo dataset</td>\n",
              "      <td>not available in demo dataset</td>\n",
              "      <td>not available in demo dataset</td>\n",
              "      <td>not available in demo dataset</td>\n",
              "      <td>not available in demo dataset</td>\n",
              "      <td>not available in demo dataset</td>\n",
              "      <td>not available in demo dataset</td>\n",
              "      <td>desktop</td>\n",
              "    </tr>\n",
              "    <tr>\n",
              "      <th>2</th>\n",
              "      <td>Chrome</td>\n",
              "      <td>not available in demo dataset</td>\n",
              "      <td>not available in demo dataset</td>\n",
              "      <td>Macintosh</td>\n",
              "      <td>not available in demo dataset</td>\n",
              "      <td>False</td>\n",
              "      <td>not available in demo dataset</td>\n",
              "      <td>not available in demo dataset</td>\n",
              "      <td>not available in demo dataset</td>\n",
              "      <td>not available in demo dataset</td>\n",
              "      <td>not available in demo dataset</td>\n",
              "      <td>not available in demo dataset</td>\n",
              "      <td>not available in demo dataset</td>\n",
              "      <td>not available in demo dataset</td>\n",
              "      <td>not available in demo dataset</td>\n",
              "      <td>desktop</td>\n",
              "    </tr>\n",
              "    <tr>\n",
              "      <th>3</th>\n",
              "      <td>Safari</td>\n",
              "      <td>not available in demo dataset</td>\n",
              "      <td>not available in demo dataset</td>\n",
              "      <td>iOS</td>\n",
              "      <td>not available in demo dataset</td>\n",
              "      <td>True</td>\n",
              "      <td>not available in demo dataset</td>\n",
              "      <td>not available in demo dataset</td>\n",
              "      <td>not available in demo dataset</td>\n",
              "      <td>not available in demo dataset</td>\n",
              "      <td>not available in demo dataset</td>\n",
              "      <td>not available in demo dataset</td>\n",
              "      <td>not available in demo dataset</td>\n",
              "      <td>not available in demo dataset</td>\n",
              "      <td>not available in demo dataset</td>\n",
              "      <td>mobile</td>\n",
              "    </tr>\n",
              "    <tr>\n",
              "      <th>4</th>\n",
              "      <td>Safari</td>\n",
              "      <td>not available in demo dataset</td>\n",
              "      <td>not available in demo dataset</td>\n",
              "      <td>iOS</td>\n",
              "      <td>not available in demo dataset</td>\n",
              "      <td>True</td>\n",
              "      <td>not available in demo dataset</td>\n",
              "      <td>not available in demo dataset</td>\n",
              "      <td>not available in demo dataset</td>\n",
              "      <td>not available in demo dataset</td>\n",
              "      <td>not available in demo dataset</td>\n",
              "      <td>not available in demo dataset</td>\n",
              "      <td>not available in demo dataset</td>\n",
              "      <td>not available in demo dataset</td>\n",
              "      <td>not available in demo dataset</td>\n",
              "      <td>mobile</td>\n",
              "    </tr>\n",
              "    <tr>\n",
              "      <th>...</th>\n",
              "      <td>...</td>\n",
              "      <td>...</td>\n",
              "      <td>...</td>\n",
              "      <td>...</td>\n",
              "      <td>...</td>\n",
              "      <td>...</td>\n",
              "      <td>...</td>\n",
              "      <td>...</td>\n",
              "      <td>...</td>\n",
              "      <td>...</td>\n",
              "      <td>...</td>\n",
              "      <td>...</td>\n",
              "      <td>...</td>\n",
              "      <td>...</td>\n",
              "      <td>...</td>\n",
              "      <td>...</td>\n",
              "    </tr>\n",
              "    <tr>\n",
              "      <th>12278</th>\n",
              "      <td>Chrome</td>\n",
              "      <td>not available in demo dataset</td>\n",
              "      <td>not available in demo dataset</td>\n",
              "      <td>Windows</td>\n",
              "      <td>not available in demo dataset</td>\n",
              "      <td>False</td>\n",
              "      <td>not available in demo dataset</td>\n",
              "      <td>not available in demo dataset</td>\n",
              "      <td>not available in demo dataset</td>\n",
              "      <td>not available in demo dataset</td>\n",
              "      <td>not available in demo dataset</td>\n",
              "      <td>not available in demo dataset</td>\n",
              "      <td>not available in demo dataset</td>\n",
              "      <td>not available in demo dataset</td>\n",
              "      <td>not available in demo dataset</td>\n",
              "      <td>desktop</td>\n",
              "    </tr>\n",
              "    <tr>\n",
              "      <th>12279</th>\n",
              "      <td>Chrome</td>\n",
              "      <td>not available in demo dataset</td>\n",
              "      <td>not available in demo dataset</td>\n",
              "      <td>Android</td>\n",
              "      <td>not available in demo dataset</td>\n",
              "      <td>True</td>\n",
              "      <td>not available in demo dataset</td>\n",
              "      <td>not available in demo dataset</td>\n",
              "      <td>not available in demo dataset</td>\n",
              "      <td>not available in demo dataset</td>\n",
              "      <td>not available in demo dataset</td>\n",
              "      <td>not available in demo dataset</td>\n",
              "      <td>not available in demo dataset</td>\n",
              "      <td>not available in demo dataset</td>\n",
              "      <td>not available in demo dataset</td>\n",
              "      <td>mobile</td>\n",
              "    </tr>\n",
              "    <tr>\n",
              "      <th>12280</th>\n",
              "      <td>Chrome</td>\n",
              "      <td>not available in demo dataset</td>\n",
              "      <td>not available in demo dataset</td>\n",
              "      <td>Linux</td>\n",
              "      <td>not available in demo dataset</td>\n",
              "      <td>False</td>\n",
              "      <td>not available in demo dataset</td>\n",
              "      <td>not available in demo dataset</td>\n",
              "      <td>not available in demo dataset</td>\n",
              "      <td>not available in demo dataset</td>\n",
              "      <td>not available in demo dataset</td>\n",
              "      <td>not available in demo dataset</td>\n",
              "      <td>not available in demo dataset</td>\n",
              "      <td>not available in demo dataset</td>\n",
              "      <td>not available in demo dataset</td>\n",
              "      <td>desktop</td>\n",
              "    </tr>\n",
              "    <tr>\n",
              "      <th>12281</th>\n",
              "      <td>Chrome</td>\n",
              "      <td>not available in demo dataset</td>\n",
              "      <td>not available in demo dataset</td>\n",
              "      <td>Android</td>\n",
              "      <td>not available in demo dataset</td>\n",
              "      <td>True</td>\n",
              "      <td>not available in demo dataset</td>\n",
              "      <td>not available in demo dataset</td>\n",
              "      <td>not available in demo dataset</td>\n",
              "      <td>not available in demo dataset</td>\n",
              "      <td>not available in demo dataset</td>\n",
              "      <td>not available in demo dataset</td>\n",
              "      <td>not available in demo dataset</td>\n",
              "      <td>not available in demo dataset</td>\n",
              "      <td>not available in demo dataset</td>\n",
              "      <td>mobile</td>\n",
              "    </tr>\n",
              "    <tr>\n",
              "      <th>12282</th>\n",
              "      <td>Android Webview</td>\n",
              "      <td>not available in demo dataset</td>\n",
              "      <td>not available in demo dataset</td>\n",
              "      <td>Android</td>\n",
              "      <td>not available in demo dataset</td>\n",
              "      <td>True</td>\n",
              "      <td>not available in demo dataset</td>\n",
              "      <td>not available in demo dataset</td>\n",
              "      <td>not available in demo dataset</td>\n",
              "      <td>not available in demo dataset</td>\n",
              "      <td>not available in demo dataset</td>\n",
              "      <td>not available in demo dataset</td>\n",
              "      <td>not available in demo dataset</td>\n",
              "      <td>not available in demo dataset</td>\n",
              "      <td>not available in demo dataset</td>\n",
              "      <td>tablet</td>\n",
              "    </tr>\n",
              "  </tbody>\n",
              "</table>\n",
              "<p>12283 rows × 16 columns</p>\n",
              "</div>"
            ],
            "text/plain": [
              "               browser  ... deviceCategory\n",
              "0               Chrome  ...        desktop\n",
              "1               Chrome  ...        desktop\n",
              "2               Chrome  ...        desktop\n",
              "3               Safari  ...         mobile\n",
              "4               Safari  ...         mobile\n",
              "...                ...  ...            ...\n",
              "12278           Chrome  ...        desktop\n",
              "12279           Chrome  ...         mobile\n",
              "12280           Chrome  ...        desktop\n",
              "12281           Chrome  ...         mobile\n",
              "12282  Android Webview  ...         tablet\n",
              "\n",
              "[12283 rows x 16 columns]"
            ]
          },
          "metadata": {
            "tags": []
          },
          "execution_count": 36
        }
      ]
    },
    {
      "cell_type": "code",
      "metadata": {
        "id": "JTXH9tEeCc2h"
      },
      "source": [
        "dicionario = ['device','geoNetwork', 'trafficSource','totals' ]"
      ],
      "execution_count": null,
      "outputs": []
    },
    {
      "cell_type": "code",
      "metadata": {
        "id": "UtxveKwvC5e5"
      },
      "source": [
        "for coluna in dicionario:\n",
        "  df = df.join(pd.DataFrame([json.loads(linha) for linha in df[coluna]]))"
      ],
      "execution_count": null,
      "outputs": []
    },
    {
      "cell_type": "code",
      "metadata": {
        "colab": {
          "base_uri": "https://localhost:8080/",
          "height": 482
        },
        "id": "2WZBKQxIDZvH",
        "outputId": "8db4dafd-38bd-4b2a-9181-aedab69ad83a"
      },
      "source": [
        "df.head()"
      ],
      "execution_count": null,
      "outputs": [
        {
          "output_type": "execute_result",
          "data": {
            "text/html": [
              "<div>\n",
              "<style scoped>\n",
              "    .dataframe tbody tr th:only-of-type {\n",
              "        vertical-align: middle;\n",
              "    }\n",
              "\n",
              "    .dataframe tbody tr th {\n",
              "        vertical-align: top;\n",
              "    }\n",
              "\n",
              "    .dataframe thead th {\n",
              "        text-align: right;\n",
              "    }\n",
              "</style>\n",
              "<table border=\"1\" class=\"dataframe\">\n",
              "  <thead>\n",
              "    <tr style=\"text-align: right;\">\n",
              "      <th></th>\n",
              "      <th>channelGrouping</th>\n",
              "      <th>date</th>\n",
              "      <th>device</th>\n",
              "      <th>fullVisitorId</th>\n",
              "      <th>geoNetwork</th>\n",
              "      <th>sessionId</th>\n",
              "      <th>socialEngagementType</th>\n",
              "      <th>totals</th>\n",
              "      <th>trafficSource</th>\n",
              "      <th>visitId</th>\n",
              "      <th>visitNumber</th>\n",
              "      <th>visitStartTime</th>\n",
              "      <th>browser</th>\n",
              "      <th>browserVersion</th>\n",
              "      <th>browserSize</th>\n",
              "      <th>operatingSystem</th>\n",
              "      <th>operatingSystemVersion</th>\n",
              "      <th>isMobile</th>\n",
              "      <th>mobileDeviceBranding</th>\n",
              "      <th>mobileDeviceModel</th>\n",
              "      <th>mobileInputSelector</th>\n",
              "      <th>mobileDeviceInfo</th>\n",
              "      <th>mobileDeviceMarketingName</th>\n",
              "      <th>flashVersion</th>\n",
              "      <th>language</th>\n",
              "      <th>screenColors</th>\n",
              "      <th>screenResolution</th>\n",
              "      <th>deviceCategory</th>\n",
              "      <th>continent</th>\n",
              "      <th>subContinent</th>\n",
              "      <th>country</th>\n",
              "      <th>region</th>\n",
              "      <th>metro</th>\n",
              "      <th>city</th>\n",
              "      <th>cityId</th>\n",
              "      <th>networkDomain</th>\n",
              "      <th>latitude</th>\n",
              "      <th>longitude</th>\n",
              "      <th>networkLocation</th>\n",
              "      <th>campaign</th>\n",
              "      <th>source</th>\n",
              "      <th>medium</th>\n",
              "      <th>keyword</th>\n",
              "      <th>adwordsClickInfo</th>\n",
              "      <th>isTrueDirect</th>\n",
              "      <th>referralPath</th>\n",
              "      <th>adContent</th>\n",
              "      <th>campaignCode</th>\n",
              "      <th>visits</th>\n",
              "      <th>hits</th>\n",
              "      <th>pageviews</th>\n",
              "      <th>bounces</th>\n",
              "      <th>newVisits</th>\n",
              "      <th>transactionRevenue</th>\n",
              "    </tr>\n",
              "  </thead>\n",
              "  <tbody>\n",
              "    <tr>\n",
              "      <th>0</th>\n",
              "      <td>Organic Search</td>\n",
              "      <td>20160902</td>\n",
              "      <td>{\"browser\": \"Chrome\", \"browserVersion\": \"not a...</td>\n",
              "      <td>9674781571160116268</td>\n",
              "      <td>{\"continent\": \"Asia\", \"subContinent\": \"Southea...</td>\n",
              "      <td>9674781571160116268_1472804607</td>\n",
              "      <td>Not Socially Engaged</td>\n",
              "      <td>{\"visits\": \"1\", \"hits\": \"1\", \"pageviews\": \"1\",...</td>\n",
              "      <td>{\"campaign\": \"(not set)\", \"source\": \"google\", ...</td>\n",
              "      <td>1472804607</td>\n",
              "      <td>1</td>\n",
              "      <td>1472804607</td>\n",
              "      <td>Chrome</td>\n",
              "      <td>not available in demo dataset</td>\n",
              "      <td>not available in demo dataset</td>\n",
              "      <td>Windows</td>\n",
              "      <td>not available in demo dataset</td>\n",
              "      <td>False</td>\n",
              "      <td>not available in demo dataset</td>\n",
              "      <td>not available in demo dataset</td>\n",
              "      <td>not available in demo dataset</td>\n",
              "      <td>not available in demo dataset</td>\n",
              "      <td>not available in demo dataset</td>\n",
              "      <td>not available in demo dataset</td>\n",
              "      <td>not available in demo dataset</td>\n",
              "      <td>not available in demo dataset</td>\n",
              "      <td>not available in demo dataset</td>\n",
              "      <td>desktop</td>\n",
              "      <td>Asia</td>\n",
              "      <td>Southeast Asia</td>\n",
              "      <td>Singapore</td>\n",
              "      <td>(not set)</td>\n",
              "      <td>(not set)</td>\n",
              "      <td>Singapore</td>\n",
              "      <td>not available in demo dataset</td>\n",
              "      <td>unknown.unknown</td>\n",
              "      <td>not available in demo dataset</td>\n",
              "      <td>not available in demo dataset</td>\n",
              "      <td>not available in demo dataset</td>\n",
              "      <td>(not set)</td>\n",
              "      <td>google</td>\n",
              "      <td>organic</td>\n",
              "      <td>(not provided)</td>\n",
              "      <td>{'criteriaParameters': 'not available in demo ...</td>\n",
              "      <td>NaN</td>\n",
              "      <td>NaN</td>\n",
              "      <td>NaN</td>\n",
              "      <td>NaN</td>\n",
              "      <td>1</td>\n",
              "      <td>1</td>\n",
              "      <td>1</td>\n",
              "      <td>1</td>\n",
              "      <td>1</td>\n",
              "      <td>NaN</td>\n",
              "    </tr>\n",
              "    <tr>\n",
              "      <th>1</th>\n",
              "      <td>Organic Search</td>\n",
              "      <td>20160902</td>\n",
              "      <td>{\"browser\": \"Chrome\", \"browserVersion\": \"not a...</td>\n",
              "      <td>8590648239310839049</td>\n",
              "      <td>{\"continent\": \"Europe\", \"subContinent\": \"Easte...</td>\n",
              "      <td>8590648239310839049_1472835928</td>\n",
              "      <td>Not Socially Engaged</td>\n",
              "      <td>{\"visits\": \"1\", \"hits\": \"1\", \"pageviews\": \"1\",...</td>\n",
              "      <td>{\"campaign\": \"(not set)\", \"source\": \"google\", ...</td>\n",
              "      <td>1472835928</td>\n",
              "      <td>1</td>\n",
              "      <td>1472835928</td>\n",
              "      <td>Chrome</td>\n",
              "      <td>not available in demo dataset</td>\n",
              "      <td>not available in demo dataset</td>\n",
              "      <td>Macintosh</td>\n",
              "      <td>not available in demo dataset</td>\n",
              "      <td>False</td>\n",
              "      <td>not available in demo dataset</td>\n",
              "      <td>not available in demo dataset</td>\n",
              "      <td>not available in demo dataset</td>\n",
              "      <td>not available in demo dataset</td>\n",
              "      <td>not available in demo dataset</td>\n",
              "      <td>not available in demo dataset</td>\n",
              "      <td>not available in demo dataset</td>\n",
              "      <td>not available in demo dataset</td>\n",
              "      <td>not available in demo dataset</td>\n",
              "      <td>desktop</td>\n",
              "      <td>Europe</td>\n",
              "      <td>Eastern Europe</td>\n",
              "      <td>Poland</td>\n",
              "      <td>not available in demo dataset</td>\n",
              "      <td>not available in demo dataset</td>\n",
              "      <td>not available in demo dataset</td>\n",
              "      <td>not available in demo dataset</td>\n",
              "      <td>tpnet.pl</td>\n",
              "      <td>not available in demo dataset</td>\n",
              "      <td>not available in demo dataset</td>\n",
              "      <td>not available in demo dataset</td>\n",
              "      <td>(not set)</td>\n",
              "      <td>google</td>\n",
              "      <td>organic</td>\n",
              "      <td>(not provided)</td>\n",
              "      <td>{'criteriaParameters': 'not available in demo ...</td>\n",
              "      <td>NaN</td>\n",
              "      <td>NaN</td>\n",
              "      <td>NaN</td>\n",
              "      <td>NaN</td>\n",
              "      <td>1</td>\n",
              "      <td>1</td>\n",
              "      <td>1</td>\n",
              "      <td>1</td>\n",
              "      <td>1</td>\n",
              "      <td>NaN</td>\n",
              "    </tr>\n",
              "    <tr>\n",
              "      <th>2</th>\n",
              "      <td>Affiliates</td>\n",
              "      <td>20160902</td>\n",
              "      <td>{\"browser\": \"Chrome\", \"browserVersion\": \"not a...</td>\n",
              "      <td>9772828344252850532</td>\n",
              "      <td>{\"continent\": \"Americas\", \"subContinent\": \"Sou...</td>\n",
              "      <td>9772828344252850532_1472856802</td>\n",
              "      <td>Not Socially Engaged</td>\n",
              "      <td>{\"visits\": \"1\", \"hits\": \"1\", \"pageviews\": \"1\",...</td>\n",
              "      <td>{\"campaign\": \"Data Share Promo\", \"source\": \"Pa...</td>\n",
              "      <td>1472856802</td>\n",
              "      <td>1</td>\n",
              "      <td>1472856802</td>\n",
              "      <td>Chrome</td>\n",
              "      <td>not available in demo dataset</td>\n",
              "      <td>not available in demo dataset</td>\n",
              "      <td>Macintosh</td>\n",
              "      <td>not available in demo dataset</td>\n",
              "      <td>False</td>\n",
              "      <td>not available in demo dataset</td>\n",
              "      <td>not available in demo dataset</td>\n",
              "      <td>not available in demo dataset</td>\n",
              "      <td>not available in demo dataset</td>\n",
              "      <td>not available in demo dataset</td>\n",
              "      <td>not available in demo dataset</td>\n",
              "      <td>not available in demo dataset</td>\n",
              "      <td>not available in demo dataset</td>\n",
              "      <td>not available in demo dataset</td>\n",
              "      <td>desktop</td>\n",
              "      <td>Americas</td>\n",
              "      <td>South America</td>\n",
              "      <td>Argentina</td>\n",
              "      <td>Buenos Aires</td>\n",
              "      <td>(not set)</td>\n",
              "      <td>Buenos Aires</td>\n",
              "      <td>not available in demo dataset</td>\n",
              "      <td>phonevision.com.ar</td>\n",
              "      <td>not available in demo dataset</td>\n",
              "      <td>not available in demo dataset</td>\n",
              "      <td>not available in demo dataset</td>\n",
              "      <td>Data Share Promo</td>\n",
              "      <td>Partners</td>\n",
              "      <td>affiliate</td>\n",
              "      <td>NaN</td>\n",
              "      <td>{'criteriaParameters': 'not available in demo ...</td>\n",
              "      <td>NaN</td>\n",
              "      <td>NaN</td>\n",
              "      <td>NaN</td>\n",
              "      <td>NaN</td>\n",
              "      <td>1</td>\n",
              "      <td>1</td>\n",
              "      <td>1</td>\n",
              "      <td>1</td>\n",
              "      <td>1</td>\n",
              "      <td>NaN</td>\n",
              "    </tr>\n",
              "    <tr>\n",
              "      <th>3</th>\n",
              "      <td>Organic Search</td>\n",
              "      <td>20160902</td>\n",
              "      <td>{\"browser\": \"Safari\", \"browserVersion\": \"not a...</td>\n",
              "      <td>1350700416054916432</td>\n",
              "      <td>{\"continent\": \"Americas\", \"subContinent\": \"Nor...</td>\n",
              "      <td>1350700416054916432_1472879649</td>\n",
              "      <td>Not Socially Engaged</td>\n",
              "      <td>{\"visits\": \"1\", \"hits\": \"1\", \"pageviews\": \"1\",...</td>\n",
              "      <td>{\"campaign\": \"(not set)\", \"source\": \"google\", ...</td>\n",
              "      <td>1472879649</td>\n",
              "      <td>2</td>\n",
              "      <td>1472879649</td>\n",
              "      <td>Safari</td>\n",
              "      <td>not available in demo dataset</td>\n",
              "      <td>not available in demo dataset</td>\n",
              "      <td>iOS</td>\n",
              "      <td>not available in demo dataset</td>\n",
              "      <td>True</td>\n",
              "      <td>not available in demo dataset</td>\n",
              "      <td>not available in demo dataset</td>\n",
              "      <td>not available in demo dataset</td>\n",
              "      <td>not available in demo dataset</td>\n",
              "      <td>not available in demo dataset</td>\n",
              "      <td>not available in demo dataset</td>\n",
              "      <td>not available in demo dataset</td>\n",
              "      <td>not available in demo dataset</td>\n",
              "      <td>not available in demo dataset</td>\n",
              "      <td>mobile</td>\n",
              "      <td>Americas</td>\n",
              "      <td>Northern America</td>\n",
              "      <td>United States</td>\n",
              "      <td>not available in demo dataset</td>\n",
              "      <td>not available in demo dataset</td>\n",
              "      <td>not available in demo dataset</td>\n",
              "      <td>not available in demo dataset</td>\n",
              "      <td>comcast.net</td>\n",
              "      <td>not available in demo dataset</td>\n",
              "      <td>not available in demo dataset</td>\n",
              "      <td>not available in demo dataset</td>\n",
              "      <td>(not set)</td>\n",
              "      <td>google</td>\n",
              "      <td>organic</td>\n",
              "      <td>(not provided)</td>\n",
              "      <td>{'criteriaParameters': 'not available in demo ...</td>\n",
              "      <td>True</td>\n",
              "      <td>NaN</td>\n",
              "      <td>NaN</td>\n",
              "      <td>NaN</td>\n",
              "      <td>1</td>\n",
              "      <td>1</td>\n",
              "      <td>1</td>\n",
              "      <td>1</td>\n",
              "      <td>NaN</td>\n",
              "      <td>NaN</td>\n",
              "    </tr>\n",
              "    <tr>\n",
              "      <th>4</th>\n",
              "      <td>Organic Search</td>\n",
              "      <td>20160902</td>\n",
              "      <td>{\"browser\": \"Safari\", \"browserVersion\": \"not a...</td>\n",
              "      <td>1350700416054916432</td>\n",
              "      <td>{\"continent\": \"Americas\", \"subContinent\": \"Nor...</td>\n",
              "      <td>1350700416054916432_1472829671</td>\n",
              "      <td>Not Socially Engaged</td>\n",
              "      <td>{\"visits\": \"1\", \"hits\": \"5\", \"pageviews\": \"4\",...</td>\n",
              "      <td>{\"campaign\": \"(not set)\", \"source\": \"google\", ...</td>\n",
              "      <td>1472829671</td>\n",
              "      <td>1</td>\n",
              "      <td>1472829671</td>\n",
              "      <td>Safari</td>\n",
              "      <td>not available in demo dataset</td>\n",
              "      <td>not available in demo dataset</td>\n",
              "      <td>iOS</td>\n",
              "      <td>not available in demo dataset</td>\n",
              "      <td>True</td>\n",
              "      <td>not available in demo dataset</td>\n",
              "      <td>not available in demo dataset</td>\n",
              "      <td>not available in demo dataset</td>\n",
              "      <td>not available in demo dataset</td>\n",
              "      <td>not available in demo dataset</td>\n",
              "      <td>not available in demo dataset</td>\n",
              "      <td>not available in demo dataset</td>\n",
              "      <td>not available in demo dataset</td>\n",
              "      <td>not available in demo dataset</td>\n",
              "      <td>mobile</td>\n",
              "      <td>Americas</td>\n",
              "      <td>Northern America</td>\n",
              "      <td>United States</td>\n",
              "      <td>not available in demo dataset</td>\n",
              "      <td>not available in demo dataset</td>\n",
              "      <td>not available in demo dataset</td>\n",
              "      <td>not available in demo dataset</td>\n",
              "      <td>att.net</td>\n",
              "      <td>not available in demo dataset</td>\n",
              "      <td>not available in demo dataset</td>\n",
              "      <td>not available in demo dataset</td>\n",
              "      <td>(not set)</td>\n",
              "      <td>google</td>\n",
              "      <td>organic</td>\n",
              "      <td>(not provided)</td>\n",
              "      <td>{'criteriaParameters': 'not available in demo ...</td>\n",
              "      <td>NaN</td>\n",
              "      <td>NaN</td>\n",
              "      <td>NaN</td>\n",
              "      <td>NaN</td>\n",
              "      <td>1</td>\n",
              "      <td>5</td>\n",
              "      <td>4</td>\n",
              "      <td>NaN</td>\n",
              "      <td>1</td>\n",
              "      <td>NaN</td>\n",
              "    </tr>\n",
              "  </tbody>\n",
              "</table>\n",
              "</div>"
            ],
            "text/plain": [
              "  channelGrouping      date  ... newVisits transactionRevenue\n",
              "0  Organic Search  20160902  ...         1                NaN\n",
              "1  Organic Search  20160902  ...         1                NaN\n",
              "2      Affiliates  20160902  ...         1                NaN\n",
              "3  Organic Search  20160902  ...       NaN                NaN\n",
              "4  Organic Search  20160902  ...         1                NaN\n",
              "\n",
              "[5 rows x 54 columns]"
            ]
          },
          "metadata": {
            "tags": []
          },
          "execution_count": 39
        }
      ]
    },
    {
      "cell_type": "code",
      "metadata": {
        "colab": {
          "base_uri": "https://localhost:8080/"
        },
        "id": "b2eMmDuXDa9p",
        "outputId": "6a774fa8-9325-4dd4-c453-a8ed63bc3644"
      },
      "source": [
        "df.shape\n"
      ],
      "execution_count": null,
      "outputs": [
        {
          "output_type": "execute_result",
          "data": {
            "text/plain": [
              "(12283, 54)"
            ]
          },
          "metadata": {
            "tags": []
          },
          "execution_count": 40
        }
      ]
    },
    {
      "cell_type": "code",
      "metadata": {
        "id": "T4Ry3dNTDrrX"
      },
      "source": [
        "df.drop(dicionario, axis=1,inplace=True )\n"
      ],
      "execution_count": null,
      "outputs": []
    },
    {
      "cell_type": "code",
      "metadata": {
        "colab": {
          "base_uri": "https://localhost:8080/"
        },
        "id": "M6j4qxQpECYq",
        "outputId": "2be64e73-5575-491e-8fea-d80850d48de6"
      },
      "source": [
        "df.shape"
      ],
      "execution_count": null,
      "outputs": [
        {
          "output_type": "execute_result",
          "data": {
            "text/plain": [
              "(12283, 50)"
            ]
          },
          "metadata": {
            "tags": []
          },
          "execution_count": 42
        }
      ]
    },
    {
      "cell_type": "markdown",
      "metadata": {
        "id": "ahGvmJt6Eg50"
      },
      "source": [
        "##**Limpando a base de dados**"
      ]
    },
    {
      "cell_type": "code",
      "metadata": {
        "colab": {
          "base_uri": "https://localhost:8080/"
        },
        "id": "ZxwtLAd3Ef0h",
        "outputId": "743d0545-b785-4449-8044-d7f09a54adb6"
      },
      "source": [
        "len(df.channelGrouping.unique())"
      ],
      "execution_count": null,
      "outputs": [
        {
          "output_type": "execute_result",
          "data": {
            "text/plain": [
              "8"
            ]
          },
          "metadata": {
            "tags": []
          },
          "execution_count": 43
        }
      ]
    },
    {
      "cell_type": "code",
      "metadata": {
        "colab": {
          "base_uri": "https://localhost:8080/"
        },
        "id": "oXeEPGIJFgy-",
        "outputId": "c360c9ee-59c7-4fcf-ab46-efa4a6f83683"
      },
      "source": [
        "df.columns"
      ],
      "execution_count": null,
      "outputs": [
        {
          "output_type": "execute_result",
          "data": {
            "text/plain": [
              "Index(['channelGrouping', 'date', 'fullVisitorId', 'sessionId',\n",
              "       'socialEngagementType', 'visitId', 'visitNumber', 'visitStartTime',\n",
              "       'browser', 'browserVersion', 'browserSize', 'operatingSystem',\n",
              "       'operatingSystemVersion', 'isMobile', 'mobileDeviceBranding',\n",
              "       'mobileDeviceModel', 'mobileInputSelector', 'mobileDeviceInfo',\n",
              "       'mobileDeviceMarketingName', 'flashVersion', 'language', 'screenColors',\n",
              "       'screenResolution', 'deviceCategory', 'continent', 'subContinent',\n",
              "       'country', 'region', 'metro', 'city', 'cityId', 'networkDomain',\n",
              "       'latitude', 'longitude', 'networkLocation', 'campaign', 'source',\n",
              "       'medium', 'keyword', 'adwordsClickInfo', 'isTrueDirect', 'referralPath',\n",
              "       'adContent', 'campaignCode', 'visits', 'hits', 'pageviews', 'bounces',\n",
              "       'newVisits', 'transactionRevenue'],\n",
              "      dtype='object')"
            ]
          },
          "metadata": {
            "tags": []
          },
          "execution_count": 44
        }
      ]
    },
    {
      "cell_type": "code",
      "metadata": {
        "colab": {
          "base_uri": "https://localhost:8080/",
          "height": 1000
        },
        "id": "tEVbf6BUE7WC",
        "outputId": "b3080e7a-35e1-4e8e-8b12-a0b23f68e1a8"
      },
      "source": [
        "for coluna in df.columns:\n",
        "  print(f'{coluna}:  {len(df[coluna].unique())}')\n"
      ],
      "execution_count": null,
      "outputs": [
        {
          "output_type": "stream",
          "text": [
            "channelGrouping:  8\n",
            "date:  366\n",
            "fullVisitorId:  9997\n",
            "sessionId:  12276\n",
            "socialEngagementType:  1\n",
            "visitId:  12272\n",
            "visitNumber:  50\n",
            "visitStartTime:  12279\n",
            "browser:  22\n",
            "browserVersion:  1\n",
            "browserSize:  1\n",
            "operatingSystem:  12\n",
            "operatingSystemVersion:  1\n",
            "isMobile:  2\n",
            "mobileDeviceBranding:  1\n",
            "mobileDeviceModel:  1\n",
            "mobileInputSelector:  1\n",
            "mobileDeviceInfo:  1\n",
            "mobileDeviceMarketingName:  1\n",
            "flashVersion:  1\n",
            "language:  1\n",
            "screenColors:  1\n",
            "screenResolution:  1\n",
            "deviceCategory:  3\n",
            "continent:  6\n",
            "subContinent:  22\n",
            "country:  145\n",
            "region:  212\n",
            "metro:  53\n",
            "city:  296\n",
            "cityId:  1\n",
            "networkDomain:  1747\n",
            "latitude:  1\n",
            "longitude:  1\n",
            "networkLocation:  1\n",
            "campaign:  7\n",
            "source:  76\n",
            "medium:  7\n",
            "keyword:  129\n"
          ],
          "name": "stdout"
        },
        {
          "output_type": "error",
          "ename": "TypeError",
          "evalue": "ignored",
          "traceback": [
            "\u001b[0;31m---------------------------------------------------------------------------\u001b[0m",
            "\u001b[0;31mTypeError\u001b[0m                                 Traceback (most recent call last)",
            "\u001b[0;32m<ipython-input-45-8c2498a04fc4>\u001b[0m in \u001b[0;36m<module>\u001b[0;34m()\u001b[0m\n\u001b[1;32m      1\u001b[0m \u001b[0;32mfor\u001b[0m \u001b[0mcoluna\u001b[0m \u001b[0;32min\u001b[0m \u001b[0mdf\u001b[0m\u001b[0;34m.\u001b[0m\u001b[0mcolumns\u001b[0m\u001b[0;34m:\u001b[0m\u001b[0;34m\u001b[0m\u001b[0;34m\u001b[0m\u001b[0m\n\u001b[0;32m----> 2\u001b[0;31m   \u001b[0mprint\u001b[0m\u001b[0;34m(\u001b[0m\u001b[0;34mf'{coluna}:  {len(df[coluna].unique())}'\u001b[0m\u001b[0;34m)\u001b[0m\u001b[0;34m\u001b[0m\u001b[0;34m\u001b[0m\u001b[0m\n\u001b[0m",
            "\u001b[0;32m/usr/local/lib/python3.6/dist-packages/pandas/core/series.py\u001b[0m in \u001b[0;36munique\u001b[0;34m(self)\u001b[0m\n\u001b[1;32m   1879\u001b[0m         \u001b[0mCategories\u001b[0m \u001b[0;34m(\u001b[0m\u001b[0;36m3\u001b[0m\u001b[0;34m,\u001b[0m \u001b[0mobject\u001b[0m\u001b[0;34m)\u001b[0m\u001b[0;34m:\u001b[0m \u001b[0;34m[\u001b[0m\u001b[0;34m'a'\u001b[0m \u001b[0;34m<\u001b[0m \u001b[0;34m'b'\u001b[0m \u001b[0;34m<\u001b[0m \u001b[0;34m'c'\u001b[0m\u001b[0;34m]\u001b[0m\u001b[0;34m\u001b[0m\u001b[0;34m\u001b[0m\u001b[0m\n\u001b[1;32m   1880\u001b[0m         \"\"\"\n\u001b[0;32m-> 1881\u001b[0;31m         \u001b[0mresult\u001b[0m \u001b[0;34m=\u001b[0m \u001b[0msuper\u001b[0m\u001b[0;34m(\u001b[0m\u001b[0;34m)\u001b[0m\u001b[0;34m.\u001b[0m\u001b[0munique\u001b[0m\u001b[0;34m(\u001b[0m\u001b[0;34m)\u001b[0m\u001b[0;34m\u001b[0m\u001b[0;34m\u001b[0m\u001b[0m\n\u001b[0m\u001b[1;32m   1882\u001b[0m         \u001b[0;32mreturn\u001b[0m \u001b[0mresult\u001b[0m\u001b[0;34m\u001b[0m\u001b[0;34m\u001b[0m\u001b[0m\n\u001b[1;32m   1883\u001b[0m \u001b[0;34m\u001b[0m\u001b[0m\n",
            "\u001b[0;32m/usr/local/lib/python3.6/dist-packages/pandas/core/base.py\u001b[0m in \u001b[0;36munique\u001b[0;34m(self)\u001b[0m\n\u001b[1;32m   1263\u001b[0m                     \u001b[0mresult\u001b[0m \u001b[0;34m=\u001b[0m \u001b[0mnp\u001b[0m\u001b[0;34m.\u001b[0m\u001b[0masarray\u001b[0m\u001b[0;34m(\u001b[0m\u001b[0mresult\u001b[0m\u001b[0;34m)\u001b[0m\u001b[0;34m\u001b[0m\u001b[0;34m\u001b[0m\u001b[0m\n\u001b[1;32m   1264\u001b[0m         \u001b[0;32melse\u001b[0m\u001b[0;34m:\u001b[0m\u001b[0;34m\u001b[0m\u001b[0;34m\u001b[0m\u001b[0m\n\u001b[0;32m-> 1265\u001b[0;31m             \u001b[0mresult\u001b[0m \u001b[0;34m=\u001b[0m \u001b[0munique1d\u001b[0m\u001b[0;34m(\u001b[0m\u001b[0mvalues\u001b[0m\u001b[0;34m)\u001b[0m\u001b[0;34m\u001b[0m\u001b[0;34m\u001b[0m\u001b[0m\n\u001b[0m\u001b[1;32m   1266\u001b[0m \u001b[0;34m\u001b[0m\u001b[0m\n\u001b[1;32m   1267\u001b[0m         \u001b[0;32mreturn\u001b[0m \u001b[0mresult\u001b[0m\u001b[0;34m\u001b[0m\u001b[0;34m\u001b[0m\u001b[0m\n",
            "\u001b[0;32m/usr/local/lib/python3.6/dist-packages/pandas/core/algorithms.py\u001b[0m in \u001b[0;36munique\u001b[0;34m(values)\u001b[0m\n\u001b[1;32m    397\u001b[0m \u001b[0;34m\u001b[0m\u001b[0m\n\u001b[1;32m    398\u001b[0m     \u001b[0mtable\u001b[0m \u001b[0;34m=\u001b[0m \u001b[0mhtable\u001b[0m\u001b[0;34m(\u001b[0m\u001b[0mlen\u001b[0m\u001b[0;34m(\u001b[0m\u001b[0mvalues\u001b[0m\u001b[0;34m)\u001b[0m\u001b[0;34m)\u001b[0m\u001b[0;34m\u001b[0m\u001b[0;34m\u001b[0m\u001b[0m\n\u001b[0;32m--> 399\u001b[0;31m     \u001b[0muniques\u001b[0m \u001b[0;34m=\u001b[0m \u001b[0mtable\u001b[0m\u001b[0;34m.\u001b[0m\u001b[0munique\u001b[0m\u001b[0;34m(\u001b[0m\u001b[0mvalues\u001b[0m\u001b[0;34m)\u001b[0m\u001b[0;34m\u001b[0m\u001b[0;34m\u001b[0m\u001b[0m\n\u001b[0m\u001b[1;32m    400\u001b[0m     \u001b[0muniques\u001b[0m \u001b[0;34m=\u001b[0m \u001b[0m_reconstruct_data\u001b[0m\u001b[0;34m(\u001b[0m\u001b[0muniques\u001b[0m\u001b[0;34m,\u001b[0m \u001b[0moriginal\u001b[0m\u001b[0;34m.\u001b[0m\u001b[0mdtype\u001b[0m\u001b[0;34m,\u001b[0m \u001b[0moriginal\u001b[0m\u001b[0;34m)\u001b[0m\u001b[0;34m\u001b[0m\u001b[0;34m\u001b[0m\u001b[0m\n\u001b[1;32m    401\u001b[0m     \u001b[0;32mreturn\u001b[0m \u001b[0muniques\u001b[0m\u001b[0;34m\u001b[0m\u001b[0;34m\u001b[0m\u001b[0m\n",
            "\u001b[0;32mpandas/_libs/hashtable_class_helper.pxi\u001b[0m in \u001b[0;36mpandas._libs.hashtable.PyObjectHashTable.unique\u001b[0;34m()\u001b[0m\n",
            "\u001b[0;32mpandas/_libs/hashtable_class_helper.pxi\u001b[0m in \u001b[0;36mpandas._libs.hashtable.PyObjectHashTable._unique\u001b[0;34m()\u001b[0m\n",
            "\u001b[0;31mTypeError\u001b[0m: unhashable type: 'dict'"
          ]
        }
      ]
    },
    {
      "cell_type": "markdown",
      "metadata": {
        "id": "T9SGfbJDFeGZ"
      },
      "source": [
        "Deu erro na variável que parou, para descobrir qual a variável com erro. Basta pesquisar o valor da variável no momento em que parou"
      ]
    },
    {
      "cell_type": "code",
      "metadata": {
        "id": "bjJFQpPBFQCy",
        "colab": {
          "base_uri": "https://localhost:8080/",
          "height": 34
        },
        "outputId": "4981ea8e-8ad0-4b98-943c-766a84d5c1fa"
      },
      "source": [
        "coluna"
      ],
      "execution_count": null,
      "outputs": [
        {
          "output_type": "execute_result",
          "data": {
            "application/vnd.google.colaboratory.intrinsic+json": {
              "type": "string"
            },
            "text/plain": [
              "'adwordsClickInfo'"
            ]
          },
          "metadata": {
            "tags": []
          },
          "execution_count": 46
        }
      ]
    },
    {
      "cell_type": "code",
      "metadata": {
        "id": "R-0Jm0gwGZ2e",
        "colab": {
          "base_uri": "https://localhost:8080/"
        },
        "outputId": "f3235588-c638-4df3-b0ca-fee4e45d7d98"
      },
      "source": [
        "df['adwordsClickInfo'] # vamos investigar se vale a pena transformar os valores dessa coluna"
      ],
      "execution_count": null,
      "outputs": [
        {
          "output_type": "execute_result",
          "data": {
            "text/plain": [
              "0        {'criteriaParameters': 'not available in demo ...\n",
              "1        {'criteriaParameters': 'not available in demo ...\n",
              "2        {'criteriaParameters': 'not available in demo ...\n",
              "3        {'criteriaParameters': 'not available in demo ...\n",
              "4        {'criteriaParameters': 'not available in demo ...\n",
              "                               ...                        \n",
              "12278    {'criteriaParameters': 'not available in demo ...\n",
              "12279    {'criteriaParameters': 'not available in demo ...\n",
              "12280    {'criteriaParameters': 'not available in demo ...\n",
              "12281    {'criteriaParameters': 'not available in demo ...\n",
              "12282    {'criteriaParameters': 'not available in demo ...\n",
              "Name: adwordsClickInfo, Length: 12283, dtype: object"
            ]
          },
          "metadata": {
            "tags": []
          },
          "execution_count": 47
        }
      ]
    },
    {
      "cell_type": "code",
      "metadata": {
        "id": "SJQOpfhWGizB",
        "colab": {
          "base_uri": "https://localhost:8080/"
        },
        "outputId": "f654e745-48f6-49a4-82ab-ded388daa04d"
      },
      "source": [
        "df['adwordsClickInfo'].iloc[0] \n",
        "#Como não tem informação que contribuirá com o modelo, vamos excluir a coluna"
      ],
      "execution_count": null,
      "outputs": [
        {
          "output_type": "execute_result",
          "data": {
            "text/plain": [
              "{'criteriaParameters': 'not available in demo dataset'}"
            ]
          },
          "metadata": {
            "tags": []
          },
          "execution_count": 48
        }
      ]
    },
    {
      "cell_type": "code",
      "metadata": {
        "id": "OpOXge-OH5Nd"
      },
      "source": [
        "df.drop(columns=['adwordsClickInfo'], inplace = True)\n"
      ],
      "execution_count": null,
      "outputs": []
    },
    {
      "cell_type": "code",
      "metadata": {
        "id": "gPvzsbBEIN_q",
        "colab": {
          "base_uri": "https://localhost:8080/"
        },
        "outputId": "c9a3ce49-67be-4019-fd3d-3bf73bc3c2da"
      },
      "source": [
        "df.shape"
      ],
      "execution_count": null,
      "outputs": [
        {
          "output_type": "execute_result",
          "data": {
            "text/plain": [
              "(12283, 49)"
            ]
          },
          "metadata": {
            "tags": []
          },
          "execution_count": 51
        }
      ]
    },
    {
      "cell_type": "code",
      "metadata": {
        "id": "lVqJJFZ_IecW",
        "colab": {
          "base_uri": "https://localhost:8080/"
        },
        "outputId": "97637cba-15ed-4183-d63a-b340af7ce5c2"
      },
      "source": [
        "for coluna in df.columns:\n",
        "  print(f'{coluna}:  {len(df[coluna].unique())}')"
      ],
      "execution_count": null,
      "outputs": [
        {
          "output_type": "stream",
          "text": [
            "channelGrouping:  8\n",
            "date:  366\n",
            "fullVisitorId:  9997\n",
            "sessionId:  12276\n",
            "socialEngagementType:  1\n",
            "visitId:  12272\n",
            "visitNumber:  50\n",
            "visitStartTime:  12279\n",
            "browser:  22\n",
            "browserVersion:  1\n",
            "browserSize:  1\n",
            "operatingSystem:  12\n",
            "operatingSystemVersion:  1\n",
            "isMobile:  2\n",
            "mobileDeviceBranding:  1\n",
            "mobileDeviceModel:  1\n",
            "mobileInputSelector:  1\n",
            "mobileDeviceInfo:  1\n",
            "mobileDeviceMarketingName:  1\n",
            "flashVersion:  1\n",
            "language:  1\n",
            "screenColors:  1\n",
            "screenResolution:  1\n",
            "deviceCategory:  3\n",
            "continent:  6\n",
            "subContinent:  22\n",
            "country:  145\n",
            "region:  212\n",
            "metro:  53\n",
            "city:  296\n",
            "cityId:  1\n",
            "networkDomain:  1747\n",
            "latitude:  1\n",
            "longitude:  1\n",
            "networkLocation:  1\n",
            "campaign:  7\n",
            "source:  76\n",
            "medium:  7\n",
            "keyword:  129\n",
            "isTrueDirect:  2\n",
            "referralPath:  198\n",
            "adContent:  16\n",
            "campaignCode:  2\n",
            "visits:  1\n",
            "hits:  96\n",
            "pageviews:  75\n",
            "bounces:  2\n",
            "newVisits:  2\n",
            "transactionRevenue:  147\n"
          ],
          "name": "stdout"
        }
      ]
    },
    {
      "cell_type": "markdown",
      "metadata": {
        "id": "5PINl--uIoNw"
      },
      "source": [
        "Notamos que há colunas com um mesmo valor. Sabemos que essas colunas não contribuem com o modelo. Podemos limpar/remover essas colunas do df.\n",
        "Faremos isso de forma dinâmica."
      ]
    },
    {
      "cell_type": "code",
      "metadata": {
        "id": "yDzSHqpQI7Ye",
        "colab": {
          "base_uri": "https://localhost:8080/"
        },
        "outputId": "317ee4e4-0c37-4e02-920d-b94a03544df1"
      },
      "source": [
        "coluna_na = []\n",
        "\n",
        "for coluna in df.columns:\n",
        "  print(coluna + \":\" + str(len(df[coluna].unique())))\n",
        "\n",
        "  if len(df[coluna].unique()) == 1:\n",
        "    coluna_na.append(coluna)"
      ],
      "execution_count": null,
      "outputs": [
        {
          "output_type": "stream",
          "text": [
            "channelGrouping:8\n",
            "date:366\n",
            "fullVisitorId:9997\n",
            "sessionId:12276\n",
            "socialEngagementType:1\n",
            "visitId:12272\n",
            "visitNumber:50\n",
            "visitStartTime:12279\n",
            "browser:22\n",
            "browserVersion:1\n",
            "browserSize:1\n",
            "operatingSystem:12\n",
            "operatingSystemVersion:1\n",
            "isMobile:2\n",
            "mobileDeviceBranding:1\n",
            "mobileDeviceModel:1\n",
            "mobileInputSelector:1\n",
            "mobileDeviceInfo:1\n",
            "mobileDeviceMarketingName:1\n",
            "flashVersion:1\n",
            "language:1\n",
            "screenColors:1\n",
            "screenResolution:1\n",
            "deviceCategory:3\n",
            "continent:6\n",
            "subContinent:22\n",
            "country:145\n",
            "region:212\n",
            "metro:53\n",
            "city:296\n",
            "cityId:1\n",
            "networkDomain:1747\n",
            "latitude:1\n",
            "longitude:1\n",
            "networkLocation:1\n",
            "campaign:7\n",
            "source:76\n",
            "medium:7\n",
            "keyword:129\n",
            "isTrueDirect:2\n",
            "referralPath:198\n",
            "adContent:16\n",
            "campaignCode:2\n",
            "visits:1\n",
            "hits:96\n",
            "pageviews:75\n",
            "bounces:2\n",
            "newVisits:2\n",
            "transactionRevenue:147\n"
          ],
          "name": "stdout"
        }
      ]
    },
    {
      "cell_type": "code",
      "metadata": {
        "id": "7C_BcnVMI6gD",
        "colab": {
          "base_uri": "https://localhost:8080/"
        },
        "outputId": "14a22ad1-babb-4011-abd7-585d76e3a8d1"
      },
      "source": [
        "coluna_na"
      ],
      "execution_count": null,
      "outputs": [
        {
          "output_type": "execute_result",
          "data": {
            "text/plain": [
              "['socialEngagementType',\n",
              " 'browserVersion',\n",
              " 'browserSize',\n",
              " 'operatingSystemVersion',\n",
              " 'mobileDeviceBranding',\n",
              " 'mobileDeviceModel',\n",
              " 'mobileInputSelector',\n",
              " 'mobileDeviceInfo',\n",
              " 'mobileDeviceMarketingName',\n",
              " 'flashVersion',\n",
              " 'language',\n",
              " 'screenColors',\n",
              " 'screenResolution',\n",
              " 'cityId',\n",
              " 'latitude',\n",
              " 'longitude',\n",
              " 'networkLocation',\n",
              " 'visits']"
            ]
          },
          "metadata": {
            "tags": []
          },
          "execution_count": 54
        }
      ]
    },
    {
      "cell_type": "code",
      "metadata": {
        "id": "ao2SsXG8KwaA"
      },
      "source": [
        "df.drop(columns=coluna_na, inplace=True)"
      ],
      "execution_count": null,
      "outputs": []
    },
    {
      "cell_type": "code",
      "metadata": {
        "id": "pd4PIjZgK9U4",
        "colab": {
          "base_uri": "https://localhost:8080/"
        },
        "outputId": "7ff530ad-66d4-4034-895d-bb27caa465dc"
      },
      "source": [
        "df.shape"
      ],
      "execution_count": null,
      "outputs": [
        {
          "output_type": "execute_result",
          "data": {
            "text/plain": [
              "(12283, 31)"
            ]
          },
          "metadata": {
            "tags": []
          },
          "execution_count": 57
        }
      ]
    },
    {
      "cell_type": "markdown",
      "metadata": {
        "id": "rHUZ6eemLfni"
      },
      "source": [
        "#**2 - Feature Engineering**"
      ]
    },
    {
      "cell_type": "markdown",
      "metadata": {
        "id": "NO-pzLyZLs4K"
      },
      "source": [
        "##**Entendendo as variáveis**\n",
        "\n",
        "Precisamos criar variáveis através do entendimento do negócio.\n",
        "\n",
        "Nesse caso usaremos variáveis quantitativas dos usuários.\n",
        ">**newvisits**  0 ou 1 se o usuário está ali pela primeira vez\n",
        "\n",
        ">**pageviews** Navegação do usuário no site\n",
        "\n",
        ">**bounces** que envia apenas um request para o site, índice de rejeição\n",
        "\n",
        ">**hits** (volume de interação que o google recebeu no site, nos ajuda a entender o quanto o usuário agiu no site. Mas isso depende de cada site, conforme foi configurado"
      ]
    },
    {
      "cell_type": "markdown",
      "metadata": {
        "id": "_fKU-s09Lx0n"
      },
      "source": [
        "##**Corrigindo cariáveis quantitativas**"
      ]
    },
    {
      "cell_type": "code",
      "metadata": {
        "colab": {
          "base_uri": "https://localhost:8080/"
        },
        "id": "VyEF7Sm_R2Cm",
        "outputId": "d7ad270e-74c5-43c2-d8d7-04a3118a9c1d"
      },
      "source": [
        "df.dtypes \n",
        "#vemos que as variáreis quantitativas que vamos usar não estão como número, \n",
        "#precisamos transformar em número"
      ],
      "execution_count": null,
      "outputs": [
        {
          "output_type": "execute_result",
          "data": {
            "text/plain": [
              "channelGrouping       object\n",
              "date                  object\n",
              "fullVisitorId         object\n",
              "sessionId             object\n",
              "visitId                int64\n",
              "visitNumber            int64\n",
              "visitStartTime         int64\n",
              "browser               object\n",
              "operatingSystem       object\n",
              "isMobile                bool\n",
              "deviceCategory        object\n",
              "continent             object\n",
              "subContinent          object\n",
              "country               object\n",
              "region                object\n",
              "metro                 object\n",
              "city                  object\n",
              "networkDomain         object\n",
              "campaign              object\n",
              "source                object\n",
              "medium                object\n",
              "keyword               object\n",
              "isTrueDirect          object\n",
              "referralPath          object\n",
              "adContent             object\n",
              "campaignCode          object\n",
              "hits                  object\n",
              "pageviews             object\n",
              "bounces               object\n",
              "newVisits             object\n",
              "transactionRevenue    object\n",
              "dtype: object"
            ]
          },
          "metadata": {
            "tags": []
          },
          "execution_count": 58
        }
      ]
    },
    {
      "cell_type": "code",
      "metadata": {
        "id": "M3qVn5JUUnXQ"
      },
      "source": [
        "quant = ['bounces', 'newVisits', 'pageviews', \"transactionRevenue\"]\n"
      ],
      "execution_count": null,
      "outputs": []
    },
    {
      "cell_type": "code",
      "metadata": {
        "id": "oU2XTZHYVDLW"
      },
      "source": [
        "for coluna in quant:\n",
        "  df[coluna] = pd.to_numeric(df[coluna]) #identifica qual a melhor conversão, se int ou float\n"
      ],
      "execution_count": null,
      "outputs": []
    },
    {
      "cell_type": "code",
      "metadata": {
        "colab": {
          "base_uri": "https://localhost:8080/"
        },
        "id": "X48DkHjbVjyC",
        "outputId": "39528c7b-e53a-49f5-f853-4e302083f6ea"
      },
      "source": [
        "df.dtypes"
      ],
      "execution_count": null,
      "outputs": [
        {
          "output_type": "execute_result",
          "data": {
            "text/plain": [
              "channelGrouping        object\n",
              "date                   object\n",
              "fullVisitorId          object\n",
              "sessionId              object\n",
              "visitId                 int64\n",
              "visitNumber             int64\n",
              "visitStartTime          int64\n",
              "browser                object\n",
              "operatingSystem        object\n",
              "isMobile                 bool\n",
              "deviceCategory         object\n",
              "continent              object\n",
              "subContinent           object\n",
              "country                object\n",
              "region                 object\n",
              "metro                  object\n",
              "city                   object\n",
              "networkDomain          object\n",
              "campaign               object\n",
              "source                 object\n",
              "medium                 object\n",
              "keyword                object\n",
              "isTrueDirect           object\n",
              "referralPath           object\n",
              "adContent              object\n",
              "campaignCode           object\n",
              "hits                   object\n",
              "pageviews               int64\n",
              "bounces               float64\n",
              "newVisits             float64\n",
              "transactionRevenue    float64\n",
              "dtype: object"
            ]
          },
          "metadata": {
            "tags": []
          },
          "execution_count": 61
        }
      ]
    },
    {
      "cell_type": "markdown",
      "metadata": {
        "id": "zbAFhEhvL436"
      },
      "source": [
        "## **Tratando a variável resposta**"
      ]
    },
    {
      "cell_type": "code",
      "metadata": {
        "colab": {
          "base_uri": "https://localhost:8080/"
        },
        "id": "gLFyGBudWA0d",
        "outputId": "51a19b2c-c709-4531-c73c-c64716db8d1f"
      },
      "source": [
        "df.shape[0]"
      ],
      "execution_count": null,
      "outputs": [
        {
          "output_type": "execute_result",
          "data": {
            "text/plain": [
              "12283"
            ]
          },
          "metadata": {
            "tags": []
          },
          "execution_count": 62
        }
      ]
    },
    {
      "cell_type": "code",
      "metadata": {
        "colab": {
          "base_uri": "https://localhost:8080/"
        },
        "id": "k7J6DkIiVA-S",
        "outputId": "339ae029-8f26-41d8-8c9a-716f3b346ec6"
      },
      "source": [
        "df.transactionRevenue.isna().sum()"
      ],
      "execution_count": null,
      "outputs": [
        {
          "output_type": "execute_result",
          "data": {
            "text/plain": [
              "12119"
            ]
          },
          "metadata": {
            "tags": []
          },
          "execution_count": 63
        }
      ]
    },
    {
      "cell_type": "code",
      "metadata": {
        "colab": {
          "base_uri": "https://localhost:8080/"
        },
        "id": "dNbxIpE6WFp9",
        "outputId": "775c1820-e468-467c-a5ef-e71f579ccf80"
      },
      "source": [
        "df.shape[0] - df.transactionRevenue.isna().sum() #apenas 164 valores preenchidos."
      ],
      "execution_count": null,
      "outputs": [
        {
          "output_type": "execute_result",
          "data": {
            "text/plain": [
              "164"
            ]
          },
          "metadata": {
            "tags": []
          },
          "execution_count": 64
        }
      ]
    },
    {
      "cell_type": "code",
      "metadata": {
        "colab": {
          "base_uri": "https://localhost:8080/"
        },
        "id": "ag_EeVd-WROI",
        "outputId": "386d93d1-4f86-499d-b8dc-6fc00327c7be"
      },
      "source": [
        "df.transactionRevenue.value_counts()"
      ],
      "execution_count": null,
      "outputs": [
        {
          "output_type": "execute_result",
          "data": {
            "text/plain": [
              "19190000.0     3\n",
              "33590000.0     3\n",
              "13590000.0     3\n",
              "55990000.0     2\n",
              "18990000.0     2\n",
              "              ..\n",
              "374850000.0    1\n",
              "74850000.0     1\n",
              "291070000.0    1\n",
              "23960000.0     1\n",
              "16780000.0     1\n",
              "Name: transactionRevenue, Length: 146, dtype: int64"
            ]
          },
          "metadata": {
            "tags": []
          },
          "execution_count": 65
        }
      ]
    },
    {
      "cell_type": "markdown",
      "metadata": {
        "id": "kwZLax43WiM6"
      },
      "source": [
        "Podemos afirmar que o Nan são os usuários que não gastaram nada. podemos colocar zero nesses valores."
      ]
    },
    {
      "cell_type": "code",
      "metadata": {
        "id": "BctC1BgYWqb7"
      },
      "source": [
        "df.transactionRevenue.fillna(0,inplace=True)"
      ],
      "execution_count": null,
      "outputs": []
    },
    {
      "cell_type": "code",
      "metadata": {
        "colab": {
          "base_uri": "https://localhost:8080/"
        },
        "id": "VQzoPuxhWx9Y",
        "outputId": "a27f2467-04f1-4bad-fac8-cd945f9f0701"
      },
      "source": [
        "df.transactionRevenue"
      ],
      "execution_count": null,
      "outputs": [
        {
          "output_type": "execute_result",
          "data": {
            "text/plain": [
              "0        0.0\n",
              "1        0.0\n",
              "2        0.0\n",
              "3        0.0\n",
              "4        0.0\n",
              "        ... \n",
              "12278    0.0\n",
              "12279    0.0\n",
              "12280    0.0\n",
              "12281    0.0\n",
              "12282    0.0\n",
              "Name: transactionRevenue, Length: 12283, dtype: float64"
            ]
          },
          "metadata": {
            "tags": []
          },
          "execution_count": 67
        }
      ]
    },
    {
      "cell_type": "code",
      "metadata": {
        "colab": {
          "base_uri": "https://localhost:8080/"
        },
        "id": "sHp1YApUW3Ka",
        "outputId": "5a847ffd-e676-4d54-fb34-8f9ce8165223"
      },
      "source": [
        "df.transactionRevenue.value_counts()"
      ],
      "execution_count": null,
      "outputs": [
        {
          "output_type": "execute_result",
          "data": {
            "text/plain": [
              "0.0            12119\n",
              "33590000.0         3\n",
              "13590000.0         3\n",
              "19190000.0         3\n",
              "31490000.0         2\n",
              "               ...  \n",
              "374850000.0        1\n",
              "74850000.0         1\n",
              "291070000.0        1\n",
              "23960000.0         1\n",
              "372650000.0        1\n",
              "Name: transactionRevenue, Length: 147, dtype: int64"
            ]
          },
          "metadata": {
            "tags": []
          },
          "execution_count": 68
        }
      ]
    },
    {
      "cell_type": "markdown",
      "metadata": {
        "id": "XRVxM7tzXCeD"
      },
      "source": [
        "Notamos também que há um valor grande nos gastos com varios 00. \n",
        "mas se olharmos no analytics esses números são multiplicados por 10 a sexta. voltaremos para o formato real."
      ]
    },
    {
      "cell_type": "code",
      "metadata": {
        "id": "34HXGQx-XVVU"
      },
      "source": [
        "df.transactionRevenue = df.transactionRevenue/1000000"
      ],
      "execution_count": null,
      "outputs": []
    },
    {
      "cell_type": "code",
      "metadata": {
        "colab": {
          "base_uri": "https://localhost:8080/"
        },
        "id": "cf3n7ASCXdOV",
        "outputId": "71b00d7d-39f1-4a5e-807c-d7447f49f1d6"
      },
      "source": [
        "df.transactionRevenue.value_counts()"
      ],
      "execution_count": null,
      "outputs": [
        {
          "output_type": "execute_result",
          "data": {
            "text/plain": [
              "0.00      12119\n",
              "19.19         3\n",
              "13.59         3\n",
              "33.59         3\n",
              "27.19         2\n",
              "          ...  \n",
              "253.77        1\n",
              "239.88        1\n",
              "88.05         1\n",
              "112.05        1\n",
              "26.49         1\n",
              "Name: transactionRevenue, Length: 147, dtype: int64"
            ]
          },
          "metadata": {
            "tags": []
          },
          "execution_count": 70
        }
      ]
    },
    {
      "cell_type": "markdown",
      "metadata": {
        "id": "LIHLIx3SL-ff"
      },
      "source": [
        "##**Criando variáveis** "
      ]
    },
    {
      "cell_type": "code",
      "metadata": {
        "colab": {
          "base_uri": "https://localhost:8080/"
        },
        "id": "kbMyePmAZHLe",
        "outputId": "41236c1d-a490-40b6-df2e-0b67de9c7dc3"
      },
      "source": [
        "df.shape"
      ],
      "execution_count": null,
      "outputs": [
        {
          "output_type": "execute_result",
          "data": {
            "text/plain": [
              "(12283, 31)"
            ]
          },
          "metadata": {
            "tags": []
          },
          "execution_count": 71
        }
      ]
    },
    {
      "cell_type": "code",
      "metadata": {
        "colab": {
          "base_uri": "https://localhost:8080/"
        },
        "id": "5yuJZ3LQK-bX",
        "outputId": "f09db6c2-65fb-458d-bf43-6fe36f3f403e"
      },
      "source": [
        "len(set(df.fullVisitorId)) #quantidade de usuários únicos\n"
      ],
      "execution_count": null,
      "outputs": [
        {
          "output_type": "execute_result",
          "data": {
            "text/plain": [
              "9997"
            ]
          },
          "metadata": {
            "tags": []
          },
          "execution_count": 72
        }
      ]
    },
    {
      "cell_type": "code",
      "metadata": {
        "colab": {
          "base_uri": "https://localhost:8080/",
          "height": 202
        },
        "id": "6N1N-Bj3ZEgo",
        "outputId": "2807be1b-61a0-4d3b-d042-919c2fddecc8"
      },
      "source": [
        "df_quant = df.groupby('fullVisitorId', as_index=False)[quant].sum()\n",
        "\n",
        "df_quant.head()\n"
      ],
      "execution_count": null,
      "outputs": [
        {
          "output_type": "execute_result",
          "data": {
            "text/html": [
              "<div>\n",
              "<style scoped>\n",
              "    .dataframe tbody tr th:only-of-type {\n",
              "        vertical-align: middle;\n",
              "    }\n",
              "\n",
              "    .dataframe tbody tr th {\n",
              "        vertical-align: top;\n",
              "    }\n",
              "\n",
              "    .dataframe thead th {\n",
              "        text-align: right;\n",
              "    }\n",
              "</style>\n",
              "<table border=\"1\" class=\"dataframe\">\n",
              "  <thead>\n",
              "    <tr style=\"text-align: right;\">\n",
              "      <th></th>\n",
              "      <th>fullVisitorId</th>\n",
              "      <th>bounces</th>\n",
              "      <th>newVisits</th>\n",
              "      <th>pageviews</th>\n",
              "      <th>transactionRevenue</th>\n",
              "    </tr>\n",
              "  </thead>\n",
              "  <tbody>\n",
              "    <tr>\n",
              "      <th>0</th>\n",
              "      <td>0002365800130207040</td>\n",
              "      <td>1.0</td>\n",
              "      <td>1.0</td>\n",
              "      <td>1</td>\n",
              "      <td>0.0</td>\n",
              "    </tr>\n",
              "    <tr>\n",
              "      <th>1</th>\n",
              "      <td>0010286039787739137</td>\n",
              "      <td>0.0</td>\n",
              "      <td>1.0</td>\n",
              "      <td>3</td>\n",
              "      <td>0.0</td>\n",
              "    </tr>\n",
              "    <tr>\n",
              "      <th>2</th>\n",
              "      <td>0011056874471185769</td>\n",
              "      <td>0.0</td>\n",
              "      <td>1.0</td>\n",
              "      <td>2</td>\n",
              "      <td>0.0</td>\n",
              "    </tr>\n",
              "    <tr>\n",
              "      <th>3</th>\n",
              "      <td>0014443856125569702</td>\n",
              "      <td>1.0</td>\n",
              "      <td>1.0</td>\n",
              "      <td>1</td>\n",
              "      <td>0.0</td>\n",
              "    </tr>\n",
              "    <tr>\n",
              "      <th>4</th>\n",
              "      <td>0017260116665815114</td>\n",
              "      <td>0.0</td>\n",
              "      <td>0.0</td>\n",
              "      <td>2</td>\n",
              "      <td>0.0</td>\n",
              "    </tr>\n",
              "  </tbody>\n",
              "</table>\n",
              "</div>"
            ],
            "text/plain": [
              "         fullVisitorId  bounces  newVisits  pageviews  transactionRevenue\n",
              "0  0002365800130207040      1.0        1.0          1                 0.0\n",
              "1  0010286039787739137      0.0        1.0          3                 0.0\n",
              "2  0011056874471185769      0.0        1.0          2                 0.0\n",
              "3  0014443856125569702      1.0        1.0          1                 0.0\n",
              "4  0017260116665815114      0.0        0.0          2                 0.0"
            ]
          },
          "metadata": {
            "tags": []
          },
          "execution_count": 74
        }
      ]
    },
    {
      "cell_type": "code",
      "metadata": {
        "colab": {
          "base_uri": "https://localhost:8080/"
        },
        "id": "6SKFaY7RZcui",
        "outputId": "994700c4-7b68-4e27-8189-2b23bd1ab04b"
      },
      "source": [
        "df_quant.shape"
      ],
      "execution_count": null,
      "outputs": [
        {
          "output_type": "execute_result",
          "data": {
            "text/plain": [
              "(9997, 5)"
            ]
          },
          "metadata": {
            "tags": []
          },
          "execution_count": 75
        }
      ]
    },
    {
      "cell_type": "markdown",
      "metadata": {
        "id": "1j2DWWvRdAID"
      },
      "source": [
        "#**3 - Treinando o modelo**"
      ]
    },
    {
      "cell_type": "markdown",
      "metadata": {
        "id": "AGqodnl_dGXf"
      },
      "source": [
        "##**Base treino e teste**\n"
      ]
    },
    {
      "cell_type": "code",
      "metadata": {
        "id": "Gq1zuv8eaJHd"
      },
      "source": [
        "y= df_quant.transactionRevenue.copy()"
      ],
      "execution_count": null,
      "outputs": []
    },
    {
      "cell_type": "code",
      "metadata": {
        "id": "Nsc4Ef_bdSzW"
      },
      "source": [
        "x= df_quant.drop(columns='transactionRevenue') \n",
        "# é uma boa prática passar o copy paranão afetar a variável original"
      ],
      "execution_count": null,
      "outputs": []
    },
    {
      "cell_type": "code",
      "metadata": {
        "id": "i4A2rb2KduuF"
      },
      "source": [
        "from sklearn.model_selection import train_test_split"
      ],
      "execution_count": null,
      "outputs": []
    },
    {
      "cell_type": "code",
      "metadata": {
        "id": "s0YYhWdyd_ua"
      },
      "source": [
        "x_train, x_test, y_train, y_test = train_test_split(x,y, test_size=0.3, random_state = 42)"
      ],
      "execution_count": null,
      "outputs": []
    },
    {
      "cell_type": "code",
      "metadata": {
        "colab": {
          "base_uri": "https://localhost:8080/",
          "height": 202
        },
        "id": "aCLPFft4eVN4",
        "outputId": "5b8d8ccc-c49a-469e-fd18-adcaff668781"
      },
      "source": [
        "x_train.head()"
      ],
      "execution_count": null,
      "outputs": [
        {
          "output_type": "execute_result",
          "data": {
            "text/html": [
              "<div>\n",
              "<style scoped>\n",
              "    .dataframe tbody tr th:only-of-type {\n",
              "        vertical-align: middle;\n",
              "    }\n",
              "\n",
              "    .dataframe tbody tr th {\n",
              "        vertical-align: top;\n",
              "    }\n",
              "\n",
              "    .dataframe thead th {\n",
              "        text-align: right;\n",
              "    }\n",
              "</style>\n",
              "<table border=\"1\" class=\"dataframe\">\n",
              "  <thead>\n",
              "    <tr style=\"text-align: right;\">\n",
              "      <th></th>\n",
              "      <th>fullVisitorId</th>\n",
              "      <th>bounces</th>\n",
              "      <th>newVisits</th>\n",
              "      <th>pageviews</th>\n",
              "    </tr>\n",
              "  </thead>\n",
              "  <tbody>\n",
              "    <tr>\n",
              "      <th>9066</th>\n",
              "      <td>9160012321913348805</td>\n",
              "      <td>0.0</td>\n",
              "      <td>1.0</td>\n",
              "      <td>12</td>\n",
              "    </tr>\n",
              "    <tr>\n",
              "      <th>2603</th>\n",
              "      <td>3214687528122048939</td>\n",
              "      <td>1.0</td>\n",
              "      <td>1.0</td>\n",
              "      <td>1</td>\n",
              "    </tr>\n",
              "    <tr>\n",
              "      <th>8832</th>\n",
              "      <td>8936592721963873590</td>\n",
              "      <td>0.0</td>\n",
              "      <td>1.0</td>\n",
              "      <td>13</td>\n",
              "    </tr>\n",
              "    <tr>\n",
              "      <th>1579</th>\n",
              "      <td>2277422319005476191</td>\n",
              "      <td>1.0</td>\n",
              "      <td>1.0</td>\n",
              "      <td>1</td>\n",
              "    </tr>\n",
              "    <tr>\n",
              "      <th>9887</th>\n",
              "      <td>989458850703391704</td>\n",
              "      <td>1.0</td>\n",
              "      <td>1.0</td>\n",
              "      <td>1</td>\n",
              "    </tr>\n",
              "  </tbody>\n",
              "</table>\n",
              "</div>"
            ],
            "text/plain": [
              "            fullVisitorId  bounces  newVisits  pageviews\n",
              "9066  9160012321913348805      0.0        1.0         12\n",
              "2603  3214687528122048939      1.0        1.0          1\n",
              "8832  8936592721963873590      0.0        1.0         13\n",
              "1579  2277422319005476191      1.0        1.0          1\n",
              "9887   989458850703391704      1.0        1.0          1"
            ]
          },
          "metadata": {
            "tags": []
          },
          "execution_count": 80
        }
      ]
    },
    {
      "cell_type": "code",
      "metadata": {
        "colab": {
          "base_uri": "https://localhost:8080/"
        },
        "id": "akYllr6heXj9",
        "outputId": "90a00e5d-5d75-4364-b95b-bb019e4b0859"
      },
      "source": [
        "y_train.head()\n"
      ],
      "execution_count": null,
      "outputs": [
        {
          "output_type": "execute_result",
          "data": {
            "text/plain": [
              "9066    144.97\n",
              "2603      0.00\n",
              "8832      6.99\n",
              "1579      0.00\n",
              "9887      0.00\n",
              "Name: transactionRevenue, dtype: float64"
            ]
          },
          "metadata": {
            "tags": []
          },
          "execution_count": 81
        }
      ]
    },
    {
      "cell_type": "code",
      "metadata": {
        "colab": {
          "base_uri": "https://localhost:8080/"
        },
        "id": "yL-3FW1ZehJe",
        "outputId": "e1cc5584-4350-43d5-bb67-3ef01ec4870f"
      },
      "source": [
        "x_train.shape"
      ],
      "execution_count": null,
      "outputs": [
        {
          "output_type": "execute_result",
          "data": {
            "text/plain": [
              "(6997, 4)"
            ]
          },
          "metadata": {
            "tags": []
          },
          "execution_count": 83
        }
      ]
    },
    {
      "cell_type": "code",
      "metadata": {
        "colab": {
          "base_uri": "https://localhost:8080/"
        },
        "id": "jrfmMC3GeoMb",
        "outputId": "58421ab9-da17-4981-9cce-df4b1a92a354"
      },
      "source": [
        "y_train.shape"
      ],
      "execution_count": null,
      "outputs": [
        {
          "output_type": "execute_result",
          "data": {
            "text/plain": [
              "(6997,)"
            ]
          },
          "metadata": {
            "tags": []
          },
          "execution_count": 84
        }
      ]
    },
    {
      "cell_type": "code",
      "metadata": {
        "colab": {
          "base_uri": "https://localhost:8080/"
        },
        "id": "d3loxsYXerTU",
        "outputId": "7b4373d4-08f1-417a-e28d-915cf289a286"
      },
      "source": [
        "x_test.shape"
      ],
      "execution_count": null,
      "outputs": [
        {
          "output_type": "execute_result",
          "data": {
            "text/plain": [
              "(3000, 4)"
            ]
          },
          "metadata": {
            "tags": []
          },
          "execution_count": 85
        }
      ]
    },
    {
      "cell_type": "code",
      "metadata": {
        "colab": {
          "base_uri": "https://localhost:8080/"
        },
        "id": "949OETXieyLs",
        "outputId": "efe1bdf1-cd10-4f2b-9b54-939119a49c18"
      },
      "source": [
        "y_test.shape"
      ],
      "execution_count": null,
      "outputs": [
        {
          "output_type": "execute_result",
          "data": {
            "text/plain": [
              "(3000,)"
            ]
          },
          "metadata": {
            "tags": []
          },
          "execution_count": 87
        }
      ]
    },
    {
      "cell_type": "markdown",
      "metadata": {
        "id": "QpGwiUT6e8rH"
      },
      "source": [
        "##**Treinando uma regressão linear**"
      ]
    },
    {
      "cell_type": "code",
      "metadata": {
        "id": "DkTmc_cGe2tp"
      },
      "source": [
        "from sklearn.linear_model import LinearRegression"
      ],
      "execution_count": null,
      "outputs": []
    },
    {
      "cell_type": "code",
      "metadata": {
        "id": "oqC2siJ9hWtE"
      },
      "source": [
        "reg = LinearRegression()"
      ],
      "execution_count": null,
      "outputs": []
    },
    {
      "cell_type": "code",
      "metadata": {
        "colab": {
          "base_uri": "https://localhost:8080/"
        },
        "id": "GzG4XF4chcNf",
        "outputId": "e1f778b8-f7f5-420b-d784-a8ad97430baa"
      },
      "source": [
        "reg.fit(x_train,y_train)"
      ],
      "execution_count": null,
      "outputs": [
        {
          "output_type": "execute_result",
          "data": {
            "text/plain": [
              "LinearRegression(copy_X=True, fit_intercept=True, n_jobs=None, normalize=False)"
            ]
          },
          "metadata": {
            "tags": []
          },
          "execution_count": 90
        }
      ]
    },
    {
      "cell_type": "code",
      "metadata": {
        "id": "aNyD64nnhnJW"
      },
      "source": [
        "reg_predict = reg.predict(x_test)"
      ],
      "execution_count": null,
      "outputs": []
    },
    {
      "cell_type": "code",
      "metadata": {
        "colab": {
          "base_uri": "https://localhost:8080/"
        },
        "id": "xRvlDD5AhyZ0",
        "outputId": "3d9554f8-187a-4c0f-b273-9fe946691939"
      },
      "source": [
        "reg_predict"
      ],
      "execution_count": null,
      "outputs": [
        {
          "output_type": "execute_result",
          "data": {
            "text/plain": [
              "array([1.55166047, 1.55520911, 1.68772647, ..., 1.61310964, 1.52678998,\n",
              "       1.58119137])"
            ]
          },
          "metadata": {
            "tags": []
          },
          "execution_count": 92
        }
      ]
    },
    {
      "cell_type": "markdown",
      "metadata": {
        "id": "iY7gGgTkiJHJ"
      },
      "source": [
        "##**Avaliando os resultados**\n"
      ]
    },
    {
      "cell_type": "code",
      "metadata": {
        "id": "JkzhI2Ljh0IC"
      },
      "source": [
        "resultados= pd.DataFrame()\n"
      ],
      "execution_count": null,
      "outputs": []
    },
    {
      "cell_type": "code",
      "metadata": {
        "id": "WS27Ol698c13"
      },
      "source": [
        "resultados['revenue'] = y_test # quanto o usuário gastou\n",
        "resultados['predict'] = reg_predict\n",
        "resultados['erro'] = reg_predict - y_test"
      ],
      "execution_count": null,
      "outputs": []
    },
    {
      "cell_type": "code",
      "metadata": {
        "colab": {
          "base_uri": "https://localhost:8080/",
          "height": 202
        },
        "id": "ucJfi5xr8nSS",
        "outputId": "f41e9f58-78ee-4f2c-e8d8-b6dda9920bb7"
      },
      "source": [
        "resultados.head()"
      ],
      "execution_count": null,
      "outputs": [
        {
          "output_type": "execute_result",
          "data": {
            "text/html": [
              "<div>\n",
              "<style scoped>\n",
              "    .dataframe tbody tr th:only-of-type {\n",
              "        vertical-align: middle;\n",
              "    }\n",
              "\n",
              "    .dataframe tbody tr th {\n",
              "        vertical-align: top;\n",
              "    }\n",
              "\n",
              "    .dataframe thead th {\n",
              "        text-align: right;\n",
              "    }\n",
              "</style>\n",
              "<table border=\"1\" class=\"dataframe\">\n",
              "  <thead>\n",
              "    <tr style=\"text-align: right;\">\n",
              "      <th></th>\n",
              "      <th>revenue</th>\n",
              "      <th>predict</th>\n",
              "      <th>erro</th>\n",
              "    </tr>\n",
              "  </thead>\n",
              "  <tbody>\n",
              "    <tr>\n",
              "      <th>4122</th>\n",
              "      <td>0.0</td>\n",
              "      <td>1.551660</td>\n",
              "      <td>1.551660</td>\n",
              "    </tr>\n",
              "    <tr>\n",
              "      <th>4065</th>\n",
              "      <td>0.0</td>\n",
              "      <td>1.555209</td>\n",
              "      <td>1.555209</td>\n",
              "    </tr>\n",
              "    <tr>\n",
              "      <th>1731</th>\n",
              "      <td>0.0</td>\n",
              "      <td>1.687726</td>\n",
              "      <td>1.687726</td>\n",
              "    </tr>\n",
              "    <tr>\n",
              "      <th>4740</th>\n",
              "      <td>0.0</td>\n",
              "      <td>1.515492</td>\n",
              "      <td>1.515492</td>\n",
              "    </tr>\n",
              "    <tr>\n",
              "      <th>6391</th>\n",
              "      <td>0.0</td>\n",
              "      <td>1.422655</td>\n",
              "      <td>1.422655</td>\n",
              "    </tr>\n",
              "  </tbody>\n",
              "</table>\n",
              "</div>"
            ],
            "text/plain": [
              "      revenue   predict      erro\n",
              "4122      0.0  1.551660  1.551660\n",
              "4065      0.0  1.555209  1.555209\n",
              "1731      0.0  1.687726  1.687726\n",
              "4740      0.0  1.515492  1.515492\n",
              "6391      0.0  1.422655  1.422655"
            ]
          },
          "metadata": {
            "tags": []
          },
          "execution_count": 95
        }
      ]
    },
    {
      "cell_type": "code",
      "metadata": {
        "colab": {
          "base_uri": "https://localhost:8080/",
          "height": 1000
        },
        "id": "YrLo9LPe83gm",
        "outputId": "da3d9c31-08e6-44cb-e379-1bb1dd6b331d"
      },
      "source": [
        "resultados[resultados.revenue > 0] # ver a previsão de quem gastou"
      ],
      "execution_count": null,
      "outputs": [
        {
          "output_type": "execute_result",
          "data": {
            "text/html": [
              "<div>\n",
              "<style scoped>\n",
              "    .dataframe tbody tr th:only-of-type {\n",
              "        vertical-align: middle;\n",
              "    }\n",
              "\n",
              "    .dataframe tbody tr th {\n",
              "        vertical-align: top;\n",
              "    }\n",
              "\n",
              "    .dataframe thead th {\n",
              "        text-align: right;\n",
              "    }\n",
              "</style>\n",
              "<table border=\"1\" class=\"dataframe\">\n",
              "  <thead>\n",
              "    <tr style=\"text-align: right;\">\n",
              "      <th></th>\n",
              "      <th>revenue</th>\n",
              "      <th>predict</th>\n",
              "      <th>erro</th>\n",
              "    </tr>\n",
              "  </thead>\n",
              "  <tbody>\n",
              "    <tr>\n",
              "      <th>3006</th>\n",
              "      <td>32.49</td>\n",
              "      <td>1.616211</td>\n",
              "      <td>-30.873789</td>\n",
              "    </tr>\n",
              "    <tr>\n",
              "      <th>5928</th>\n",
              "      <td>74.85</td>\n",
              "      <td>1.449755</td>\n",
              "      <td>-73.400245</td>\n",
              "    </tr>\n",
              "    <tr>\n",
              "      <th>8361</th>\n",
              "      <td>424.50</td>\n",
              "      <td>1.306194</td>\n",
              "      <td>-423.193806</td>\n",
              "    </tr>\n",
              "    <tr>\n",
              "      <th>8612</th>\n",
              "      <td>55.99</td>\n",
              "      <td>1.291322</td>\n",
              "      <td>-54.698678</td>\n",
              "    </tr>\n",
              "    <tr>\n",
              "      <th>416</th>\n",
              "      <td>15.19</td>\n",
              "      <td>1.831725</td>\n",
              "      <td>-13.358275</td>\n",
              "    </tr>\n",
              "    <tr>\n",
              "      <th>4077</th>\n",
              "      <td>5.97</td>\n",
              "      <td>1.554336</td>\n",
              "      <td>-4.415664</td>\n",
              "    </tr>\n",
              "    <tr>\n",
              "      <th>8146</th>\n",
              "      <td>27.19</td>\n",
              "      <td>1.318915</td>\n",
              "      <td>-25.871085</td>\n",
              "    </tr>\n",
              "    <tr>\n",
              "      <th>4908</th>\n",
              "      <td>372.65</td>\n",
              "      <td>1.505642</td>\n",
              "      <td>-371.144358</td>\n",
              "    </tr>\n",
              "    <tr>\n",
              "      <th>9395</th>\n",
              "      <td>29.98</td>\n",
              "      <td>1.779852</td>\n",
              "      <td>-28.200148</td>\n",
              "    </tr>\n",
              "    <tr>\n",
              "      <th>8728</th>\n",
              "      <td>101.95</td>\n",
              "      <td>1.284318</td>\n",
              "      <td>-100.665682</td>\n",
              "    </tr>\n",
              "    <tr>\n",
              "      <th>9609</th>\n",
              "      <td>95.80</td>\n",
              "      <td>1.232727</td>\n",
              "      <td>-94.567273</td>\n",
              "    </tr>\n",
              "    <tr>\n",
              "      <th>1691</th>\n",
              "      <td>19.19</td>\n",
              "      <td>1.824359</td>\n",
              "      <td>-17.365641</td>\n",
              "    </tr>\n",
              "    <tr>\n",
              "      <th>568</th>\n",
              "      <td>278.03</td>\n",
              "      <td>1.830845</td>\n",
              "      <td>-276.199155</td>\n",
              "    </tr>\n",
              "    <tr>\n",
              "      <th>8288</th>\n",
              "      <td>478.40</td>\n",
              "      <td>1.309554</td>\n",
              "      <td>-477.090446</td>\n",
              "    </tr>\n",
              "    <tr>\n",
              "      <th>5478</th>\n",
              "      <td>112.37</td>\n",
              "      <td>1.802707</td>\n",
              "      <td>-110.567293</td>\n",
              "    </tr>\n",
              "    <tr>\n",
              "      <th>532</th>\n",
              "      <td>7.99</td>\n",
              "      <td>1.756152</td>\n",
              "      <td>-6.233848</td>\n",
              "    </tr>\n",
              "    <tr>\n",
              "      <th>3033</th>\n",
              "      <td>39.99</td>\n",
              "      <td>1.614688</td>\n",
              "      <td>-38.375312</td>\n",
              "    </tr>\n",
              "    <tr>\n",
              "      <th>7508</th>\n",
              "      <td>479.03</td>\n",
              "      <td>1.355818</td>\n",
              "      <td>-477.674182</td>\n",
              "    </tr>\n",
              "    <tr>\n",
              "      <th>9918</th>\n",
              "      <td>45.57</td>\n",
              "      <td>1.215463</td>\n",
              "      <td>-44.354537</td>\n",
              "    </tr>\n",
              "    <tr>\n",
              "      <th>8542</th>\n",
              "      <td>25.90</td>\n",
              "      <td>1.295685</td>\n",
              "      <td>-24.604315</td>\n",
              "    </tr>\n",
              "    <tr>\n",
              "      <th>742</th>\n",
              "      <td>41.72</td>\n",
              "      <td>1.829889</td>\n",
              "      <td>-39.890111</td>\n",
              "    </tr>\n",
              "    <tr>\n",
              "      <th>5331</th>\n",
              "      <td>489.20</td>\n",
              "      <td>1.480319</td>\n",
              "      <td>-487.719681</td>\n",
              "    </tr>\n",
              "    <tr>\n",
              "      <th>9742</th>\n",
              "      <td>239.88</td>\n",
              "      <td>1.778000</td>\n",
              "      <td>-238.102000</td>\n",
              "    </tr>\n",
              "    <tr>\n",
              "      <th>3948</th>\n",
              "      <td>23.97</td>\n",
              "      <td>1.562700</td>\n",
              "      <td>-22.407300</td>\n",
              "    </tr>\n",
              "    <tr>\n",
              "      <th>5457</th>\n",
              "      <td>647.53</td>\n",
              "      <td>1.474237</td>\n",
              "      <td>-646.055763</td>\n",
              "    </tr>\n",
              "    <tr>\n",
              "      <th>5157</th>\n",
              "      <td>33.59</td>\n",
              "      <td>1.491463</td>\n",
              "      <td>-32.098537</td>\n",
              "    </tr>\n",
              "    <tr>\n",
              "      <th>7282</th>\n",
              "      <td>26.95</td>\n",
              "      <td>1.369326</td>\n",
              "      <td>-25.580674</td>\n",
              "    </tr>\n",
              "    <tr>\n",
              "      <th>6765</th>\n",
              "      <td>64.94</td>\n",
              "      <td>1.399692</td>\n",
              "      <td>-63.540308</td>\n",
              "    </tr>\n",
              "    <tr>\n",
              "      <th>467</th>\n",
              "      <td>67.19</td>\n",
              "      <td>1.759766</td>\n",
              "      <td>-65.430234</td>\n",
              "    </tr>\n",
              "    <tr>\n",
              "      <th>3653</th>\n",
              "      <td>49.19</td>\n",
              "      <td>1.578961</td>\n",
              "      <td>-47.611039</td>\n",
              "    </tr>\n",
              "    <tr>\n",
              "      <th>5381</th>\n",
              "      <td>374.85</td>\n",
              "      <td>1.478237</td>\n",
              "      <td>-373.371763</td>\n",
              "    </tr>\n",
              "    <tr>\n",
              "      <th>5314</th>\n",
              "      <td>107.94</td>\n",
              "      <td>1.481897</td>\n",
              "      <td>-106.458103</td>\n",
              "    </tr>\n",
              "    <tr>\n",
              "      <th>6680</th>\n",
              "      <td>8.48</td>\n",
              "      <td>1.403985</td>\n",
              "      <td>-7.076015</td>\n",
              "    </tr>\n",
              "    <tr>\n",
              "      <th>132</th>\n",
              "      <td>26.49</td>\n",
              "      <td>1.835073</td>\n",
              "      <td>-24.654927</td>\n",
              "    </tr>\n",
              "    <tr>\n",
              "      <th>8098</th>\n",
              "      <td>24.27</td>\n",
              "      <td>1.321617</td>\n",
              "      <td>-22.948383</td>\n",
              "    </tr>\n",
              "    <tr>\n",
              "      <th>7942</th>\n",
              "      <td>52.02</td>\n",
              "      <td>1.331493</td>\n",
              "      <td>-50.688507</td>\n",
              "    </tr>\n",
              "    <tr>\n",
              "      <th>8314</th>\n",
              "      <td>119.99</td>\n",
              "      <td>1.308114</td>\n",
              "      <td>-118.681886</td>\n",
              "    </tr>\n",
              "    <tr>\n",
              "      <th>9085</th>\n",
              "      <td>14.00</td>\n",
              "      <td>1.262540</td>\n",
              "      <td>-12.737460</td>\n",
              "    </tr>\n",
              "    <tr>\n",
              "      <th>3656</th>\n",
              "      <td>217.44</td>\n",
              "      <td>1.578817</td>\n",
              "      <td>-215.861183</td>\n",
              "    </tr>\n",
              "    <tr>\n",
              "      <th>4317</th>\n",
              "      <td>284.34</td>\n",
              "      <td>1.540722</td>\n",
              "      <td>-282.799278</td>\n",
              "    </tr>\n",
              "    <tr>\n",
              "      <th>3319</th>\n",
              "      <td>330.51</td>\n",
              "      <td>1.597845</td>\n",
              "      <td>-328.912155</td>\n",
              "    </tr>\n",
              "    <tr>\n",
              "      <th>5729</th>\n",
              "      <td>79.16</td>\n",
              "      <td>1.460660</td>\n",
              "      <td>-77.699340</td>\n",
              "    </tr>\n",
              "    <tr>\n",
              "      <th>9580</th>\n",
              "      <td>13.59</td>\n",
              "      <td>1.233967</td>\n",
              "      <td>-12.356033</td>\n",
              "    </tr>\n",
              "    <tr>\n",
              "      <th>7612</th>\n",
              "      <td>239.60</td>\n",
              "      <td>1.349987</td>\n",
              "      <td>-238.250013</td>\n",
              "    </tr>\n",
              "    <tr>\n",
              "      <th>3910</th>\n",
              "      <td>32.94</td>\n",
              "      <td>1.564537</td>\n",
              "      <td>-31.375463</td>\n",
              "    </tr>\n",
              "    <tr>\n",
              "      <th>6568</th>\n",
              "      <td>3.49</td>\n",
              "      <td>1.411874</td>\n",
              "      <td>-2.078126</td>\n",
              "    </tr>\n",
              "    <tr>\n",
              "      <th>4818</th>\n",
              "      <td>571.69</td>\n",
              "      <td>1.511066</td>\n",
              "      <td>-570.178934</td>\n",
              "    </tr>\n",
              "  </tbody>\n",
              "</table>\n",
              "</div>"
            ],
            "text/plain": [
              "      revenue   predict        erro\n",
              "3006    32.49  1.616211  -30.873789\n",
              "5928    74.85  1.449755  -73.400245\n",
              "8361   424.50  1.306194 -423.193806\n",
              "8612    55.99  1.291322  -54.698678\n",
              "416     15.19  1.831725  -13.358275\n",
              "4077     5.97  1.554336   -4.415664\n",
              "8146    27.19  1.318915  -25.871085\n",
              "4908   372.65  1.505642 -371.144358\n",
              "9395    29.98  1.779852  -28.200148\n",
              "8728   101.95  1.284318 -100.665682\n",
              "9609    95.80  1.232727  -94.567273\n",
              "1691    19.19  1.824359  -17.365641\n",
              "568    278.03  1.830845 -276.199155\n",
              "8288   478.40  1.309554 -477.090446\n",
              "5478   112.37  1.802707 -110.567293\n",
              "532      7.99  1.756152   -6.233848\n",
              "3033    39.99  1.614688  -38.375312\n",
              "7508   479.03  1.355818 -477.674182\n",
              "9918    45.57  1.215463  -44.354537\n",
              "8542    25.90  1.295685  -24.604315\n",
              "742     41.72  1.829889  -39.890111\n",
              "5331   489.20  1.480319 -487.719681\n",
              "9742   239.88  1.778000 -238.102000\n",
              "3948    23.97  1.562700  -22.407300\n",
              "5457   647.53  1.474237 -646.055763\n",
              "5157    33.59  1.491463  -32.098537\n",
              "7282    26.95  1.369326  -25.580674\n",
              "6765    64.94  1.399692  -63.540308\n",
              "467     67.19  1.759766  -65.430234\n",
              "3653    49.19  1.578961  -47.611039\n",
              "5381   374.85  1.478237 -373.371763\n",
              "5314   107.94  1.481897 -106.458103\n",
              "6680     8.48  1.403985   -7.076015\n",
              "132     26.49  1.835073  -24.654927\n",
              "8098    24.27  1.321617  -22.948383\n",
              "7942    52.02  1.331493  -50.688507\n",
              "8314   119.99  1.308114 -118.681886\n",
              "9085    14.00  1.262540  -12.737460\n",
              "3656   217.44  1.578817 -215.861183\n",
              "4317   284.34  1.540722 -282.799278\n",
              "3319   330.51  1.597845 -328.912155\n",
              "5729    79.16  1.460660  -77.699340\n",
              "9580    13.59  1.233967  -12.356033\n",
              "7612   239.60  1.349987 -238.250013\n",
              "3910    32.94  1.564537  -31.375463\n",
              "6568     3.49  1.411874   -2.078126\n",
              "4818   571.69  1.511066 -570.178934"
            ]
          },
          "metadata": {
            "tags": []
          },
          "execution_count": 96
        }
      ]
    },
    {
      "cell_type": "markdown",
      "metadata": {
        "id": "WD24m7tq9Ywq"
      },
      "source": [
        "Começamos a desconfiar que nosso modelo está preso a casa 1.5"
      ]
    },
    {
      "cell_type": "code",
      "metadata": {
        "colab": {
          "base_uri": "https://localhost:8080/"
        },
        "id": "fmPr3fmj9ews",
        "outputId": "3ea585f6-f167-4356-e343-18c2203ea9f7"
      },
      "source": [
        "#fiz por conta\n",
        "print(f'média:{reg_predict.mean()} ; Desvio Padrão: {reg_predict.std()}')"
      ],
      "execution_count": null,
      "outputs": [
        {
          "output_type": "stream",
          "text": [
            "média:1.5578423406016335 ; Desvio Padrão: 0.19238083634181\n"
          ],
          "name": "stdout"
        }
      ]
    },
    {
      "cell_type": "code",
      "metadata": {
        "id": "4rs9ccKn-lGh"
      },
      "source": [
        "import numpy as np\n"
      ],
      "execution_count": null,
      "outputs": []
    },
    {
      "cell_type": "markdown",
      "metadata": {
        "id": "ODO1M4k2-pI2"
      },
      "source": [
        "**MSE - Minimum Square Error**"
      ]
    },
    {
      "cell_type": "code",
      "metadata": {
        "colab": {
          "base_uri": "https://localhost:8080/"
        },
        "id": "sKbd2c9n-HU3",
        "outputId": "5f9db4b2-6f81-45c7-8039-88bb568fd650"
      },
      "source": [
        "((reg_predict-y_test) ** (2)).mean()"
      ],
      "execution_count": null,
      "outputs": [
        {
          "output_type": "execute_result",
          "data": {
            "text/plain": [
              "807.245929682092"
            ]
          },
          "metadata": {
            "tags": []
          },
          "execution_count": 98
        }
      ]
    },
    {
      "cell_type": "code",
      "metadata": {
        "colab": {
          "base_uri": "https://localhost:8080/"
        },
        "id": "5gLBcJU3-b4k",
        "outputId": "59c0438a-fb00-4628-c390-f07c91c18a5e"
      },
      "source": [
        "np.mean((reg_predict-y_test) ** (2)) \n",
        "# número ao quadrado, tiramos a raiz para termos a mesma grandeza das medidas"
      ],
      "execution_count": null,
      "outputs": [
        {
          "output_type": "execute_result",
          "data": {
            "text/plain": [
              "807.245929682092"
            ]
          },
          "metadata": {
            "tags": []
          },
          "execution_count": 99
        }
      ]
    },
    {
      "cell_type": "markdown",
      "metadata": {
        "id": "n7BycjIH_QuW"
      },
      "source": [
        "**RMSE - Root Minimum Square Error**"
      ]
    },
    {
      "cell_type": "code",
      "metadata": {
        "colab": {
          "base_uri": "https://localhost:8080/"
        },
        "id": "xdS9aXy-_Bh7",
        "outputId": "cc8b1af1-fbb7-442c-d2d4-7faf16abf9f8"
      },
      "source": [
        "np.sqrt(np.mean((reg_predict-y_test) ** (2)) )"
      ],
      "execution_count": null,
      "outputs": [
        {
          "output_type": "execute_result",
          "data": {
            "text/plain": [
              "28.412073660366502"
            ]
          },
          "metadata": {
            "tags": []
          },
          "execution_count": 100
        }
      ]
    },
    {
      "cell_type": "code",
      "metadata": {
        "id": "hZ57zkjP_Juy"
      },
      "source": [
        "from sklearn.metrics import mean_squared_error"
      ],
      "execution_count": null,
      "outputs": []
    },
    {
      "cell_type": "code",
      "metadata": {
        "colab": {
          "base_uri": "https://localhost:8080/"
        },
        "id": "zbkXHWY6_v0B",
        "outputId": "80a5a4a0-032c-49d3-c975-0e9ad4f50abd"
      },
      "source": [
        "mean_squared_error(y_test,reg_predict)"
      ],
      "execution_count": null,
      "outputs": [
        {
          "output_type": "execute_result",
          "data": {
            "text/plain": [
              "807.2459296820928"
            ]
          },
          "metadata": {
            "tags": []
          },
          "execution_count": 102
        }
      ]
    },
    {
      "cell_type": "code",
      "metadata": {
        "colab": {
          "base_uri": "https://localhost:8080/"
        },
        "id": "nv9hCZck_3DI",
        "outputId": "db158622-7cf2-400b-a77e-7b28d7f2b0da"
      },
      "source": [
        "np.sqrt(mean_squared_error(y_test,reg_predict))"
      ],
      "execution_count": null,
      "outputs": [
        {
          "output_type": "execute_result",
          "data": {
            "text/plain": [
              "28.412073660366516"
            ]
          },
          "metadata": {
            "tags": []
          },
          "execution_count": 103
        }
      ]
    },
    {
      "cell_type": "markdown",
      "metadata": {
        "id": "oBmdcpkFACnC"
      },
      "source": [
        "Como podemos saber se o erro é grande ou pequeno?\n",
        "\n",
        "Comparamos com a média modelo e desvio padrão."
      ]
    },
    {
      "cell_type": "code",
      "metadata": {
        "colab": {
          "base_uri": "https://localhost:8080/"
        },
        "id": "o80OCAS2AAN4",
        "outputId": "6251541b-4791-44ae-95da-ef22d90bd323"
      },
      "source": [
        "np.mean(df_quant.transactionRevenue)"
      ],
      "execution_count": null,
      "outputs": [
        {
          "output_type": "execute_result",
          "data": {
            "text/plain": [
              "1.778953686105831"
            ]
          },
          "metadata": {
            "tags": []
          },
          "execution_count": 104
        }
      ]
    },
    {
      "cell_type": "code",
      "metadata": {
        "colab": {
          "base_uri": "https://localhost:8080/"
        },
        "id": "IWp9hBRFARCl",
        "outputId": "73d6f004-a82e-4d83-f733-b710eba152cb"
      },
      "source": [
        "np.std(df_quant.transactionRevenue)"
      ],
      "execution_count": null,
      "outputs": [
        {
          "output_type": "execute_result",
          "data": {
            "text/plain": [
              "25.129905708017944"
            ]
          },
          "metadata": {
            "tags": []
          },
          "execution_count": 105
        }
      ]
    },
    {
      "cell_type": "markdown",
      "metadata": {
        "id": "mJszDFjpAi-E"
      },
      "source": [
        "Como podemos notar a base tem média de 1.77 e desvio padrão de 25.13 enquanto o erro é de 28.41. Logo podemos concluir que nosso modelo está errando mais que o desvio padrão o que não é legal. \n",
        "\n",
        "Pra isso teremos que alterar algumns parãmetros do modelo."
      ]
    },
    {
      "cell_type": "markdown",
      "metadata": {
        "id": "o6z6VeVyBDua"
      },
      "source": [
        "##**Análise gráfica dos resultados**\n",
        "\n",
        "Quais insights podemos tirar até agora?"
      ]
    },
    {
      "cell_type": "code",
      "metadata": {
        "id": "19EfeoSPAYBf"
      },
      "source": [
        "import seaborn as sns"
      ],
      "execution_count": null,
      "outputs": []
    },
    {
      "cell_type": "code",
      "metadata": {
        "colab": {
          "base_uri": "https://localhost:8080/",
          "height": 294
        },
        "id": "aPaAZI7pBjJj",
        "outputId": "84999b2b-d53d-4cc6-e31a-084c42a314d0"
      },
      "source": [
        "resultados.describe() #por minha conta"
      ],
      "execution_count": null,
      "outputs": [
        {
          "output_type": "execute_result",
          "data": {
            "text/html": [
              "<div>\n",
              "<style scoped>\n",
              "    .dataframe tbody tr th:only-of-type {\n",
              "        vertical-align: middle;\n",
              "    }\n",
              "\n",
              "    .dataframe tbody tr th {\n",
              "        vertical-align: top;\n",
              "    }\n",
              "\n",
              "    .dataframe thead th {\n",
              "        text-align: right;\n",
              "    }\n",
              "</style>\n",
              "<table border=\"1\" class=\"dataframe\">\n",
              "  <thead>\n",
              "    <tr style=\"text-align: right;\">\n",
              "      <th></th>\n",
              "      <th>revenue</th>\n",
              "      <th>predict</th>\n",
              "      <th>erro</th>\n",
              "    </tr>\n",
              "  </thead>\n",
              "  <tbody>\n",
              "    <tr>\n",
              "      <th>count</th>\n",
              "      <td>3000.000000</td>\n",
              "      <td>3000.000000</td>\n",
              "      <td>3000.000000</td>\n",
              "    </tr>\n",
              "    <tr>\n",
              "      <th>mean</th>\n",
              "      <td>2.302663</td>\n",
              "      <td>1.557842</td>\n",
              "      <td>-0.744821</td>\n",
              "    </tr>\n",
              "    <tr>\n",
              "      <th>std</th>\n",
              "      <td>28.400311</td>\n",
              "      <td>0.192413</td>\n",
              "      <td>28.407044</td>\n",
              "    </tr>\n",
              "    <tr>\n",
              "      <th>min</th>\n",
              "      <td>0.000000</td>\n",
              "      <td>1.211196</td>\n",
              "      <td>-646.055763</td>\n",
              "    </tr>\n",
              "    <tr>\n",
              "      <th>25%</th>\n",
              "      <td>0.000000</td>\n",
              "      <td>1.390979</td>\n",
              "      <td>1.382840</td>\n",
              "    </tr>\n",
              "    <tr>\n",
              "      <th>50%</th>\n",
              "      <td>0.000000</td>\n",
              "      <td>1.564708</td>\n",
              "      <td>1.560205</td>\n",
              "    </tr>\n",
              "    <tr>\n",
              "      <th>75%</th>\n",
              "      <td>0.000000</td>\n",
              "      <td>1.739184</td>\n",
              "      <td>1.736582</td>\n",
              "    </tr>\n",
              "    <tr>\n",
              "      <th>max</th>\n",
              "      <td>647.530000</td>\n",
              "      <td>1.839299</td>\n",
              "      <td>1.839299</td>\n",
              "    </tr>\n",
              "  </tbody>\n",
              "</table>\n",
              "</div>"
            ],
            "text/plain": [
              "           revenue      predict         erro\n",
              "count  3000.000000  3000.000000  3000.000000\n",
              "mean      2.302663     1.557842    -0.744821\n",
              "std      28.400311     0.192413    28.407044\n",
              "min       0.000000     1.211196  -646.055763\n",
              "25%       0.000000     1.390979     1.382840\n",
              "50%       0.000000     1.564708     1.560205\n",
              "75%       0.000000     1.739184     1.736582\n",
              "max     647.530000     1.839299     1.839299"
            ]
          },
          "metadata": {
            "tags": []
          },
          "execution_count": 107
        }
      ]
    },
    {
      "cell_type": "code",
      "metadata": {
        "colab": {
          "base_uri": "https://localhost:8080/",
          "height": 337
        },
        "id": "H9KxjSgRBe7U",
        "outputId": "12c4dc04-ed42-44cd-c5e9-4a7a7db1d36f"
      },
      "source": [
        "sns.boxplot(reg_predict)"
      ],
      "execution_count": null,
      "outputs": [
        {
          "output_type": "stream",
          "text": [
            "/usr/local/lib/python3.6/dist-packages/seaborn/_decorators.py:43: FutureWarning: Pass the following variable as a keyword arg: x. From version 0.12, the only valid positional argument will be `data`, and passing other arguments without an explicit keyword will result in an error or misinterpretation.\n",
            "  FutureWarning\n"
          ],
          "name": "stderr"
        },
        {
          "output_type": "execute_result",
          "data": {
            "text/plain": [
              "<matplotlib.axes._subplots.AxesSubplot at 0x7f2a76066198>"
            ]
          },
          "metadata": {
            "tags": []
          },
          "execution_count": 108
        },
        {
          "output_type": "display_data",
          "data": {
            "image/png": "[encoded data removed]",
            "text/plain": [
              "<Figure size 432x288 with 1 Axes>"
            ]
          },
          "metadata": {
            "tags": [],
            "needs_background": "light"
          }
        }
      ]
    },
    {
      "cell_type": "code",
      "metadata": {
        "colab": {
          "base_uri": "https://localhost:8080/",
          "height": 350
        },
        "id": "WOW9HWkjBxMY",
        "outputId": "6db6afed-8ab4-4c8a-b484-d7869dee72d8"
      },
      "source": [
        "sns.boxplot(y_test)"
      ],
      "execution_count": null,
      "outputs": [
        {
          "output_type": "stream",
          "text": [
            "/usr/local/lib/python3.6/dist-packages/seaborn/_decorators.py:43: FutureWarning: Pass the following variable as a keyword arg: x. From version 0.12, the only valid positional argument will be `data`, and passing other arguments without an explicit keyword will result in an error or misinterpretation.\n",
            "  FutureWarning\n"
          ],
          "name": "stderr"
        },
        {
          "output_type": "execute_result",
          "data": {
            "text/plain": [
              "<matplotlib.axes._subplots.AxesSubplot at 0x7f2a76024e80>"
            ]
          },
          "metadata": {
            "tags": []
          },
          "execution_count": 109
        },
        {
          "output_type": "display_data",
          "data": {
            "image/png": "[encoded data removed]",
            "text/plain": [
              "<Figure size 432x288 with 1 Axes>"
            ]
          },
          "metadata": {
            "tags": [],
            "needs_background": "light"
          }
        }
      ]
    },
    {
      "cell_type": "code",
      "metadata": {
        "colab": {
          "base_uri": "https://localhost:8080/",
          "height": 350
        },
        "id": "PVlPnUJUCSbT",
        "outputId": "dcc9f64c-fc50-4dbb-8713-2d6ea5b68ad7"
      },
      "source": [
        "sns.distplot(reg_predict - y_test)"
      ],
      "execution_count": null,
      "outputs": [
        {
          "output_type": "stream",
          "text": [
            "/usr/local/lib/python3.6/dist-packages/seaborn/distributions.py:2551: FutureWarning: `distplot` is a deprecated function and will be removed in a future version. Please adapt your code to use either `displot` (a figure-level function with similar flexibility) or `histplot` (an axes-level function for histograms).\n",
            "  warnings.warn(msg, FutureWarning)\n"
          ],
          "name": "stderr"
        },
        {
          "output_type": "execute_result",
          "data": {
            "text/plain": [
              "<matplotlib.axes._subplots.AxesSubplot at 0x7f2a75fdb748>"
            ]
          },
          "metadata": {
            "tags": []
          },
          "execution_count": 110
        },
        {
          "output_type": "display_data",
          "data": {
            "image/png": "[encoded data removed]",
            "text/plain": [
              "<Figure size 432x288 with 1 Axes>"
            ]
          },
          "metadata": {
            "tags": [],
            "needs_background": "light"
          }
        }
      ]
    },
    {
      "cell_type": "markdown",
      "metadata": {
        "id": "jEUeAz0fDLGv"
      },
      "source": [
        "Precisamos calcular novas variáveis, mexer nos parâmetros, calcular novos modelos para ter algo que valha a pena se basear."
      ]
    },
    {
      "cell_type": "markdown",
      "metadata": {
        "id": "isKK0zaqMoCK"
      },
      "source": [
        "#**4 - Melhorando o feature engineering**"
      ]
    },
    {
      "cell_type": "markdown",
      "metadata": {
        "id": "SQA4GFPPNOP0"
      },
      "source": [
        "##**Criando variáveis qualitativas**\n",
        "\n",
        "Há variáveis qualitativas na base que podemos agregar para fazer um modelo melhor.\n",
        "\n",
        "Podemos avaliar quais dispositivos o usuário usa e faz a compra, primeira e última visita; orgânico ou patrocinado."
      ]
    },
    {
      "cell_type": "code",
      "metadata": {
        "id": "WVQMNbiXM-vf"
      },
      "source": [
        "visitas_ultima = df.groupby('fullVisitorId', as_index=False)\n",
        "visitas_ultima = visitas_ultima['visitNumber'].max()"
      ],
      "execution_count": null,
      "outputs": []
    },
    {
      "cell_type": "markdown",
      "metadata": {
        "id": "yfwEdN-MPOQf"
      },
      "source": [
        "##**Retornando valores da última visita**"
      ]
    },
    {
      "cell_type": "code",
      "metadata": {
        "colab": {
          "base_uri": "https://localhost:8080/",
          "height": 416
        },
        "id": "9XsgQtosM-RB",
        "outputId": "b74cad4f-e231-45eb-95e7-3d49e7b8af6d"
      },
      "source": [
        "visitas_ultima"
      ],
      "execution_count": null,
      "outputs": [
        {
          "output_type": "execute_result",
          "data": {
            "text/html": [
              "<div>\n",
              "<style scoped>\n",
              "    .dataframe tbody tr th:only-of-type {\n",
              "        vertical-align: middle;\n",
              "    }\n",
              "\n",
              "    .dataframe tbody tr th {\n",
              "        vertical-align: top;\n",
              "    }\n",
              "\n",
              "    .dataframe thead th {\n",
              "        text-align: right;\n",
              "    }\n",
              "</style>\n",
              "<table border=\"1\" class=\"dataframe\">\n",
              "  <thead>\n",
              "    <tr style=\"text-align: right;\">\n",
              "      <th></th>\n",
              "      <th>fullVisitorId</th>\n",
              "      <th>visitNumber</th>\n",
              "    </tr>\n",
              "  </thead>\n",
              "  <tbody>\n",
              "    <tr>\n",
              "      <th>0</th>\n",
              "      <td>0002365800130207040</td>\n",
              "      <td>1</td>\n",
              "    </tr>\n",
              "    <tr>\n",
              "      <th>1</th>\n",
              "      <td>0010286039787739137</td>\n",
              "      <td>1</td>\n",
              "    </tr>\n",
              "    <tr>\n",
              "      <th>2</th>\n",
              "      <td>0011056874471185769</td>\n",
              "      <td>1</td>\n",
              "    </tr>\n",
              "    <tr>\n",
              "      <th>3</th>\n",
              "      <td>0014443856125569702</td>\n",
              "      <td>1</td>\n",
              "    </tr>\n",
              "    <tr>\n",
              "      <th>4</th>\n",
              "      <td>0017260116665815114</td>\n",
              "      <td>6</td>\n",
              "    </tr>\n",
              "    <tr>\n",
              "      <th>...</th>\n",
              "      <td>...</td>\n",
              "      <td>...</td>\n",
              "    </tr>\n",
              "    <tr>\n",
              "      <th>9992</th>\n",
              "      <td>9996691020299725061</td>\n",
              "      <td>3</td>\n",
              "    </tr>\n",
              "    <tr>\n",
              "      <th>9993</th>\n",
              "      <td>9996793353803109760</td>\n",
              "      <td>1</td>\n",
              "    </tr>\n",
              "    <tr>\n",
              "      <th>9994</th>\n",
              "      <td>9997125062030599880</td>\n",
              "      <td>1</td>\n",
              "    </tr>\n",
              "    <tr>\n",
              "      <th>9995</th>\n",
              "      <td>9997464307347866920</td>\n",
              "      <td>1</td>\n",
              "    </tr>\n",
              "    <tr>\n",
              "      <th>9996</th>\n",
              "      <td>9999355589118867468</td>\n",
              "      <td>2</td>\n",
              "    </tr>\n",
              "  </tbody>\n",
              "</table>\n",
              "<p>9997 rows × 2 columns</p>\n",
              "</div>"
            ],
            "text/plain": [
              "            fullVisitorId  visitNumber\n",
              "0     0002365800130207040            1\n",
              "1     0010286039787739137            1\n",
              "2     0011056874471185769            1\n",
              "3     0014443856125569702            1\n",
              "4     0017260116665815114            6\n",
              "...                   ...          ...\n",
              "9992  9996691020299725061            3\n",
              "9993  9996793353803109760            1\n",
              "9994  9997125062030599880            1\n",
              "9995  9997464307347866920            1\n",
              "9996  9999355589118867468            2\n",
              "\n",
              "[9997 rows x 2 columns]"
            ]
          },
          "metadata": {
            "tags": []
          },
          "execution_count": 152
        }
      ]
    },
    {
      "cell_type": "markdown",
      "metadata": {
        "id": "J4zgCmF4QOwr"
      },
      "source": [
        "Precisamos combinar as visitas_ultimas com os dados do df. Precisamos ter chaves únicas, garantir que não tenhamos usuários repetidos.\n",
        "Os DFs que foram criados usando o groupby já possuem chave única de agordo com o agrupamento."
      ]
    },
    {
      "cell_type": "code",
      "metadata": {
        "id": "8iyLoifIM9-S"
      },
      "source": [
        "usuarios_visitantes_unicos = df.drop_duplicates(subset=['fullVisitorId', 'visitNumber'])"
      ],
      "execution_count": null,
      "outputs": []
    },
    {
      "cell_type": "code",
      "metadata": {
        "colab": {
          "base_uri": "https://localhost:8080/",
          "height": 430
        },
        "id": "yPWN82mTQ2gp",
        "outputId": "6de1332b-e462-4f96-c43d-389b55919f35"
      },
      "source": [
        "usuarios_visitantes_unicos.head()"
      ],
      "execution_count": null,
      "outputs": [
        {
          "output_type": "execute_result",
          "data": {
            "text/html": [
              "<div>\n",
              "<style scoped>\n",
              "    .dataframe tbody tr th:only-of-type {\n",
              "        vertical-align: middle;\n",
              "    }\n",
              "\n",
              "    .dataframe tbody tr th {\n",
              "        vertical-align: top;\n",
              "    }\n",
              "\n",
              "    .dataframe thead th {\n",
              "        text-align: right;\n",
              "    }\n",
              "</style>\n",
              "<table border=\"1\" class=\"dataframe\">\n",
              "  <thead>\n",
              "    <tr style=\"text-align: right;\">\n",
              "      <th></th>\n",
              "      <th>channelGrouping</th>\n",
              "      <th>date</th>\n",
              "      <th>fullVisitorId</th>\n",
              "      <th>sessionId</th>\n",
              "      <th>visitId</th>\n",
              "      <th>visitNumber</th>\n",
              "      <th>visitStartTime</th>\n",
              "      <th>browser</th>\n",
              "      <th>operatingSystem</th>\n",
              "      <th>isMobile</th>\n",
              "      <th>deviceCategory</th>\n",
              "      <th>continent</th>\n",
              "      <th>subContinent</th>\n",
              "      <th>country</th>\n",
              "      <th>region</th>\n",
              "      <th>metro</th>\n",
              "      <th>city</th>\n",
              "      <th>networkDomain</th>\n",
              "      <th>campaign</th>\n",
              "      <th>source</th>\n",
              "      <th>medium</th>\n",
              "      <th>keyword</th>\n",
              "      <th>isTrueDirect</th>\n",
              "      <th>referralPath</th>\n",
              "      <th>adContent</th>\n",
              "      <th>campaignCode</th>\n",
              "      <th>hits</th>\n",
              "      <th>pageviews</th>\n",
              "      <th>bounces</th>\n",
              "      <th>newVisits</th>\n",
              "      <th>transactionRevenue</th>\n",
              "    </tr>\n",
              "  </thead>\n",
              "  <tbody>\n",
              "    <tr>\n",
              "      <th>0</th>\n",
              "      <td>Organic Search</td>\n",
              "      <td>20160902</td>\n",
              "      <td>9674781571160116268</td>\n",
              "      <td>9674781571160116268_1472804607</td>\n",
              "      <td>1472804607</td>\n",
              "      <td>1</td>\n",
              "      <td>1472804607</td>\n",
              "      <td>Chrome</td>\n",
              "      <td>Windows</td>\n",
              "      <td>False</td>\n",
              "      <td>desktop</td>\n",
              "      <td>Asia</td>\n",
              "      <td>Southeast Asia</td>\n",
              "      <td>Singapore</td>\n",
              "      <td>(not set)</td>\n",
              "      <td>(not set)</td>\n",
              "      <td>Singapore</td>\n",
              "      <td>unknown.unknown</td>\n",
              "      <td>(not set)</td>\n",
              "      <td>google</td>\n",
              "      <td>organic</td>\n",
              "      <td>(not provided)</td>\n",
              "      <td>NaN</td>\n",
              "      <td>NaN</td>\n",
              "      <td>NaN</td>\n",
              "      <td>NaN</td>\n",
              "      <td>1</td>\n",
              "      <td>1</td>\n",
              "      <td>1.0</td>\n",
              "      <td>1.0</td>\n",
              "      <td>0.0</td>\n",
              "    </tr>\n",
              "    <tr>\n",
              "      <th>1</th>\n",
              "      <td>Organic Search</td>\n",
              "      <td>20160902</td>\n",
              "      <td>8590648239310839049</td>\n",
              "      <td>8590648239310839049_1472835928</td>\n",
              "      <td>1472835928</td>\n",
              "      <td>1</td>\n",
              "      <td>1472835928</td>\n",
              "      <td>Chrome</td>\n",
              "      <td>Macintosh</td>\n",
              "      <td>False</td>\n",
              "      <td>desktop</td>\n",
              "      <td>Europe</td>\n",
              "      <td>Eastern Europe</td>\n",
              "      <td>Poland</td>\n",
              "      <td>not available in demo dataset</td>\n",
              "      <td>not available in demo dataset</td>\n",
              "      <td>not available in demo dataset</td>\n",
              "      <td>tpnet.pl</td>\n",
              "      <td>(not set)</td>\n",
              "      <td>google</td>\n",
              "      <td>organic</td>\n",
              "      <td>(not provided)</td>\n",
              "      <td>NaN</td>\n",
              "      <td>NaN</td>\n",
              "      <td>NaN</td>\n",
              "      <td>NaN</td>\n",
              "      <td>1</td>\n",
              "      <td>1</td>\n",
              "      <td>1.0</td>\n",
              "      <td>1.0</td>\n",
              "      <td>0.0</td>\n",
              "    </tr>\n",
              "    <tr>\n",
              "      <th>2</th>\n",
              "      <td>Affiliates</td>\n",
              "      <td>20160902</td>\n",
              "      <td>9772828344252850532</td>\n",
              "      <td>9772828344252850532_1472856802</td>\n",
              "      <td>1472856802</td>\n",
              "      <td>1</td>\n",
              "      <td>1472856802</td>\n",
              "      <td>Chrome</td>\n",
              "      <td>Macintosh</td>\n",
              "      <td>False</td>\n",
              "      <td>desktop</td>\n",
              "      <td>Americas</td>\n",
              "      <td>South America</td>\n",
              "      <td>Argentina</td>\n",
              "      <td>Buenos Aires</td>\n",
              "      <td>(not set)</td>\n",
              "      <td>Buenos Aires</td>\n",
              "      <td>phonevision.com.ar</td>\n",
              "      <td>Data Share Promo</td>\n",
              "      <td>Partners</td>\n",
              "      <td>affiliate</td>\n",
              "      <td>NaN</td>\n",
              "      <td>NaN</td>\n",
              "      <td>NaN</td>\n",
              "      <td>NaN</td>\n",
              "      <td>NaN</td>\n",
              "      <td>1</td>\n",
              "      <td>1</td>\n",
              "      <td>1.0</td>\n",
              "      <td>1.0</td>\n",
              "      <td>0.0</td>\n",
              "    </tr>\n",
              "    <tr>\n",
              "      <th>3</th>\n",
              "      <td>Organic Search</td>\n",
              "      <td>20160902</td>\n",
              "      <td>1350700416054916432</td>\n",
              "      <td>1350700416054916432_1472879649</td>\n",
              "      <td>1472879649</td>\n",
              "      <td>2</td>\n",
              "      <td>1472879649</td>\n",
              "      <td>Safari</td>\n",
              "      <td>iOS</td>\n",
              "      <td>True</td>\n",
              "      <td>mobile</td>\n",
              "      <td>Americas</td>\n",
              "      <td>Northern America</td>\n",
              "      <td>United States</td>\n",
              "      <td>not available in demo dataset</td>\n",
              "      <td>not available in demo dataset</td>\n",
              "      <td>not available in demo dataset</td>\n",
              "      <td>comcast.net</td>\n",
              "      <td>(not set)</td>\n",
              "      <td>google</td>\n",
              "      <td>organic</td>\n",
              "      <td>(not provided)</td>\n",
              "      <td>True</td>\n",
              "      <td>NaN</td>\n",
              "      <td>NaN</td>\n",
              "      <td>NaN</td>\n",
              "      <td>1</td>\n",
              "      <td>1</td>\n",
              "      <td>1.0</td>\n",
              "      <td>NaN</td>\n",
              "      <td>0.0</td>\n",
              "    </tr>\n",
              "    <tr>\n",
              "      <th>4</th>\n",
              "      <td>Organic Search</td>\n",
              "      <td>20160902</td>\n",
              "      <td>1350700416054916432</td>\n",
              "      <td>1350700416054916432_1472829671</td>\n",
              "      <td>1472829671</td>\n",
              "      <td>1</td>\n",
              "      <td>1472829671</td>\n",
              "      <td>Safari</td>\n",
              "      <td>iOS</td>\n",
              "      <td>True</td>\n",
              "      <td>mobile</td>\n",
              "      <td>Americas</td>\n",
              "      <td>Northern America</td>\n",
              "      <td>United States</td>\n",
              "      <td>not available in demo dataset</td>\n",
              "      <td>not available in demo dataset</td>\n",
              "      <td>not available in demo dataset</td>\n",
              "      <td>att.net</td>\n",
              "      <td>(not set)</td>\n",
              "      <td>google</td>\n",
              "      <td>organic</td>\n",
              "      <td>(not provided)</td>\n",
              "      <td>NaN</td>\n",
              "      <td>NaN</td>\n",
              "      <td>NaN</td>\n",
              "      <td>NaN</td>\n",
              "      <td>5</td>\n",
              "      <td>4</td>\n",
              "      <td>NaN</td>\n",
              "      <td>1.0</td>\n",
              "      <td>0.0</td>\n",
              "    </tr>\n",
              "  </tbody>\n",
              "</table>\n",
              "</div>"
            ],
            "text/plain": [
              "  channelGrouping      date  ... newVisits transactionRevenue\n",
              "0  Organic Search  20160902  ...       1.0                0.0\n",
              "1  Organic Search  20160902  ...       1.0                0.0\n",
              "2      Affiliates  20160902  ...       1.0                0.0\n",
              "3  Organic Search  20160902  ...       NaN                0.0\n",
              "4  Organic Search  20160902  ...       1.0                0.0\n",
              "\n",
              "[5 rows x 31 columns]"
            ]
          },
          "metadata": {
            "tags": []
          },
          "execution_count": 154
        }
      ]
    },
    {
      "cell_type": "code",
      "metadata": {
        "colab": {
          "base_uri": "https://localhost:8080/"
        },
        "id": "hrBZDG7xQ7XO",
        "outputId": "6f64dbcc-19c8-4894-b516-66da3232f470"
      },
      "source": [
        "usuarios_visitantes_unicos.shape"
      ],
      "execution_count": null,
      "outputs": [
        {
          "output_type": "execute_result",
          "data": {
            "text/plain": [
              "(12270, 31)"
            ]
          },
          "metadata": {
            "tags": []
          },
          "execution_count": 155
        }
      ]
    },
    {
      "cell_type": "markdown",
      "metadata": {
        "id": "O-cLhZdYRWui"
      },
      "source": [
        "Criaremos um data frame que será usado na modelagem combinando 2 dfs"
      ]
    },
    {
      "cell_type": "code",
      "metadata": {
        "id": "q-wrt27_RcaR"
      },
      "source": [
        "visitas = pd.merge(visitas_ultima, usuarios_visitantes_unicos, \n",
        "                   left_on=['fullVisitorId', 'visitNumber'], \n",
        "                   right_on=['fullVisitorId', 'visitNumber'],\n",
        "                   how='left')"
      ],
      "execution_count": null,
      "outputs": []
    },
    {
      "cell_type": "code",
      "metadata": {
        "colab": {
          "base_uri": "https://localhost:8080/",
          "height": 413
        },
        "id": "y3GghPaNReTs",
        "outputId": "d2dcd1a2-b81d-458f-a5a7-228dd5d62b6f"
      },
      "source": [
        "visitas.head()"
      ],
      "execution_count": null,
      "outputs": [
        {
          "output_type": "execute_result",
          "data": {
            "text/html": [
              "<div>\n",
              "<style scoped>\n",
              "    .dataframe tbody tr th:only-of-type {\n",
              "        vertical-align: middle;\n",
              "    }\n",
              "\n",
              "    .dataframe tbody tr th {\n",
              "        vertical-align: top;\n",
              "    }\n",
              "\n",
              "    .dataframe thead th {\n",
              "        text-align: right;\n",
              "    }\n",
              "</style>\n",
              "<table border=\"1\" class=\"dataframe\">\n",
              "  <thead>\n",
              "    <tr style=\"text-align: right;\">\n",
              "      <th></th>\n",
              "      <th>fullVisitorId</th>\n",
              "      <th>visitNumber</th>\n",
              "      <th>channelGrouping</th>\n",
              "      <th>date</th>\n",
              "      <th>sessionId</th>\n",
              "      <th>visitId</th>\n",
              "      <th>visitStartTime</th>\n",
              "      <th>browser</th>\n",
              "      <th>operatingSystem</th>\n",
              "      <th>isMobile</th>\n",
              "      <th>deviceCategory</th>\n",
              "      <th>continent</th>\n",
              "      <th>subContinent</th>\n",
              "      <th>country</th>\n",
              "      <th>region</th>\n",
              "      <th>metro</th>\n",
              "      <th>city</th>\n",
              "      <th>networkDomain</th>\n",
              "      <th>campaign</th>\n",
              "      <th>source</th>\n",
              "      <th>medium</th>\n",
              "      <th>keyword</th>\n",
              "      <th>isTrueDirect</th>\n",
              "      <th>referralPath</th>\n",
              "      <th>adContent</th>\n",
              "      <th>campaignCode</th>\n",
              "      <th>hits</th>\n",
              "      <th>pageviews</th>\n",
              "      <th>bounces</th>\n",
              "      <th>newVisits</th>\n",
              "      <th>transactionRevenue</th>\n",
              "    </tr>\n",
              "  </thead>\n",
              "  <tbody>\n",
              "    <tr>\n",
              "      <th>0</th>\n",
              "      <td>0002365800130207040</td>\n",
              "      <td>1</td>\n",
              "      <td>Social</td>\n",
              "      <td>20160904</td>\n",
              "      <td>0002365800130207040_1472974804</td>\n",
              "      <td>1472974804</td>\n",
              "      <td>1472974804</td>\n",
              "      <td>Edge</td>\n",
              "      <td>Windows</td>\n",
              "      <td>False</td>\n",
              "      <td>desktop</td>\n",
              "      <td>Europe</td>\n",
              "      <td>Eastern Europe</td>\n",
              "      <td>Ukraine</td>\n",
              "      <td>not available in demo dataset</td>\n",
              "      <td>not available in demo dataset</td>\n",
              "      <td>not available in demo dataset</td>\n",
              "      <td>wildpark.net</td>\n",
              "      <td>(not set)</td>\n",
              "      <td>youtube.com</td>\n",
              "      <td>referral</td>\n",
              "      <td>NaN</td>\n",
              "      <td>NaN</td>\n",
              "      <td>/yt/about/ru/</td>\n",
              "      <td>NaN</td>\n",
              "      <td>NaN</td>\n",
              "      <td>1</td>\n",
              "      <td>1</td>\n",
              "      <td>1.0</td>\n",
              "      <td>1.0</td>\n",
              "      <td>0.0</td>\n",
              "    </tr>\n",
              "    <tr>\n",
              "      <th>1</th>\n",
              "      <td>0010286039787739137</td>\n",
              "      <td>1</td>\n",
              "      <td>Organic Search</td>\n",
              "      <td>20160928</td>\n",
              "      <td>0010286039787739137_1475084026</td>\n",
              "      <td>1475084026</td>\n",
              "      <td>1475084026</td>\n",
              "      <td>Chrome</td>\n",
              "      <td>Chrome OS</td>\n",
              "      <td>False</td>\n",
              "      <td>desktop</td>\n",
              "      <td>Americas</td>\n",
              "      <td>Northern America</td>\n",
              "      <td>United States</td>\n",
              "      <td>Missouri</td>\n",
              "      <td>Kansas City MO</td>\n",
              "      <td>Kansas City</td>\n",
              "      <td>(not set)</td>\n",
              "      <td>(not set)</td>\n",
              "      <td>google</td>\n",
              "      <td>organic</td>\n",
              "      <td>(not provided)</td>\n",
              "      <td>NaN</td>\n",
              "      <td>NaN</td>\n",
              "      <td>NaN</td>\n",
              "      <td>NaN</td>\n",
              "      <td>4</td>\n",
              "      <td>3</td>\n",
              "      <td>NaN</td>\n",
              "      <td>1.0</td>\n",
              "      <td>0.0</td>\n",
              "    </tr>\n",
              "    <tr>\n",
              "      <th>2</th>\n",
              "      <td>0011056874471185769</td>\n",
              "      <td>1</td>\n",
              "      <td>Social</td>\n",
              "      <td>20161205</td>\n",
              "      <td>0011056874471185769_1480996024</td>\n",
              "      <td>1480996024</td>\n",
              "      <td>1480996024</td>\n",
              "      <td>Chrome</td>\n",
              "      <td>Windows</td>\n",
              "      <td>False</td>\n",
              "      <td>desktop</td>\n",
              "      <td>Asia</td>\n",
              "      <td>Southeast Asia</td>\n",
              "      <td>Philippines</td>\n",
              "      <td>not available in demo dataset</td>\n",
              "      <td>not available in demo dataset</td>\n",
              "      <td>not available in demo dataset</td>\n",
              "      <td>pldt.net</td>\n",
              "      <td>(not set)</td>\n",
              "      <td>youtube.com</td>\n",
              "      <td>referral</td>\n",
              "      <td>NaN</td>\n",
              "      <td>NaN</td>\n",
              "      <td>/yt/about/</td>\n",
              "      <td>NaN</td>\n",
              "      <td>NaN</td>\n",
              "      <td>2</td>\n",
              "      <td>2</td>\n",
              "      <td>NaN</td>\n",
              "      <td>1.0</td>\n",
              "      <td>0.0</td>\n",
              "    </tr>\n",
              "    <tr>\n",
              "      <th>3</th>\n",
              "      <td>0014443856125569702</td>\n",
              "      <td>1</td>\n",
              "      <td>Social</td>\n",
              "      <td>20161002</td>\n",
              "      <td>0014443856125569702_1475423502</td>\n",
              "      <td>1475423502</td>\n",
              "      <td>1475423502</td>\n",
              "      <td>Opera</td>\n",
              "      <td>Windows</td>\n",
              "      <td>False</td>\n",
              "      <td>desktop</td>\n",
              "      <td>Europe</td>\n",
              "      <td>Eastern Europe</td>\n",
              "      <td>Romania</td>\n",
              "      <td>Bucharest</td>\n",
              "      <td>(not set)</td>\n",
              "      <td>Bucharest</td>\n",
              "      <td>rdsnet.ro</td>\n",
              "      <td>(not set)</td>\n",
              "      <td>youtube.com</td>\n",
              "      <td>referral</td>\n",
              "      <td>NaN</td>\n",
              "      <td>NaN</td>\n",
              "      <td>/yt/about/ro/</td>\n",
              "      <td>NaN</td>\n",
              "      <td>NaN</td>\n",
              "      <td>1</td>\n",
              "      <td>1</td>\n",
              "      <td>1.0</td>\n",
              "      <td>1.0</td>\n",
              "      <td>0.0</td>\n",
              "    </tr>\n",
              "    <tr>\n",
              "      <th>4</th>\n",
              "      <td>0017260116665815114</td>\n",
              "      <td>6</td>\n",
              "      <td>Direct</td>\n",
              "      <td>20170420</td>\n",
              "      <td>0017260116665815114_1492707286</td>\n",
              "      <td>1492707286</td>\n",
              "      <td>1492707286</td>\n",
              "      <td>Safari</td>\n",
              "      <td>Macintosh</td>\n",
              "      <td>False</td>\n",
              "      <td>desktop</td>\n",
              "      <td>Americas</td>\n",
              "      <td>Northern America</td>\n",
              "      <td>United States</td>\n",
              "      <td>not available in demo dataset</td>\n",
              "      <td>not available in demo dataset</td>\n",
              "      <td>not available in demo dataset</td>\n",
              "      <td>comcastbusiness.net</td>\n",
              "      <td>(not set)</td>\n",
              "      <td>(direct)</td>\n",
              "      <td>(none)</td>\n",
              "      <td>NaN</td>\n",
              "      <td>True</td>\n",
              "      <td>NaN</td>\n",
              "      <td>NaN</td>\n",
              "      <td>NaN</td>\n",
              "      <td>2</td>\n",
              "      <td>2</td>\n",
              "      <td>NaN</td>\n",
              "      <td>NaN</td>\n",
              "      <td>0.0</td>\n",
              "    </tr>\n",
              "  </tbody>\n",
              "</table>\n",
              "</div>"
            ],
            "text/plain": [
              "         fullVisitorId  visitNumber  ... newVisits transactionRevenue\n",
              "0  0002365800130207040            1  ...       1.0                0.0\n",
              "1  0010286039787739137            1  ...       1.0                0.0\n",
              "2  0011056874471185769            1  ...       1.0                0.0\n",
              "3  0014443856125569702            1  ...       1.0                0.0\n",
              "4  0017260116665815114            6  ...       NaN                0.0\n",
              "\n",
              "[5 rows x 31 columns]"
            ]
          },
          "metadata": {
            "tags": []
          },
          "execution_count": 157
        }
      ]
    },
    {
      "cell_type": "code",
      "metadata": {
        "colab": {
          "base_uri": "https://localhost:8080/"
        },
        "id": "8SIRkE9CRcG9",
        "outputId": "12a8537c-695b-4ea0-cbc7-b5e49f9f3fb4"
      },
      "source": [
        "visitas.shape"
      ],
      "execution_count": null,
      "outputs": [
        {
          "output_type": "execute_result",
          "data": {
            "text/plain": [
              "(9997, 31)"
            ]
          },
          "metadata": {
            "tags": []
          },
          "execution_count": 158
        }
      ]
    },
    {
      "cell_type": "markdown",
      "metadata": {
        "id": "p5MW6OqpTPiN"
      },
      "source": [
        "##**Retornando valores da primeira visita**\n",
        "Agora que temos um data frame com a última visita do usuário, precisamos criar um df com a primeira visita do usuário."
      ]
    },
    {
      "cell_type": "code",
      "metadata": {
        "id": "WVb2X_m-Thnq"
      },
      "source": [
        "visitas_primeira = df.groupby('fullVisitorId', as_index=False)"
      ],
      "execution_count": null,
      "outputs": []
    },
    {
      "cell_type": "code",
      "metadata": {
        "id": "WSAGzPzJThIy"
      },
      "source": [
        "visitas_primeira = visitas_primeira['visitNumber'].min()"
      ],
      "execution_count": null,
      "outputs": []
    },
    {
      "cell_type": "code",
      "metadata": {
        "colab": {
          "base_uri": "https://localhost:8080/",
          "height": 202
        },
        "id": "AUB1d6DDUIdr",
        "outputId": "122c377a-0ab9-4d90-82e1-3f8d860da652"
      },
      "source": [
        "visitas_primeira.head() \n",
        "#como usamos amostras de bases pode ser que alguns usuários fiquem com suas primeiras visitas fora do dataset\n",
        "#portanto nem sempre o min será 1"
      ],
      "execution_count": null,
      "outputs": [
        {
          "output_type": "execute_result",
          "data": {
            "text/html": [
              "<div>\n",
              "<style scoped>\n",
              "    .dataframe tbody tr th:only-of-type {\n",
              "        vertical-align: middle;\n",
              "    }\n",
              "\n",
              "    .dataframe tbody tr th {\n",
              "        vertical-align: top;\n",
              "    }\n",
              "\n",
              "    .dataframe thead th {\n",
              "        text-align: right;\n",
              "    }\n",
              "</style>\n",
              "<table border=\"1\" class=\"dataframe\">\n",
              "  <thead>\n",
              "    <tr style=\"text-align: right;\">\n",
              "      <th></th>\n",
              "      <th>fullVisitorId</th>\n",
              "      <th>visitNumber</th>\n",
              "    </tr>\n",
              "  </thead>\n",
              "  <tbody>\n",
              "    <tr>\n",
              "      <th>0</th>\n",
              "      <td>0002365800130207040</td>\n",
              "      <td>1</td>\n",
              "    </tr>\n",
              "    <tr>\n",
              "      <th>1</th>\n",
              "      <td>0010286039787739137</td>\n",
              "      <td>1</td>\n",
              "    </tr>\n",
              "    <tr>\n",
              "      <th>2</th>\n",
              "      <td>0011056874471185769</td>\n",
              "      <td>1</td>\n",
              "    </tr>\n",
              "    <tr>\n",
              "      <th>3</th>\n",
              "      <td>0014443856125569702</td>\n",
              "      <td>1</td>\n",
              "    </tr>\n",
              "    <tr>\n",
              "      <th>4</th>\n",
              "      <td>0017260116665815114</td>\n",
              "      <td>6</td>\n",
              "    </tr>\n",
              "  </tbody>\n",
              "</table>\n",
              "</div>"
            ],
            "text/plain": [
              "         fullVisitorId  visitNumber\n",
              "0  0002365800130207040            1\n",
              "1  0010286039787739137            1\n",
              "2  0011056874471185769            1\n",
              "3  0014443856125569702            1\n",
              "4  0017260116665815114            6"
            ]
          },
          "metadata": {
            "tags": []
          },
          "execution_count": 166
        }
      ]
    },
    {
      "cell_type": "code",
      "metadata": {
        "id": "QWbmnVjCVBLH"
      },
      "source": [
        "visitas_primeira.set_index('fullVisitorId', inplace=True)"
      ],
      "execution_count": null,
      "outputs": []
    },
    {
      "cell_type": "code",
      "metadata": {
        "colab": {
          "base_uri": "https://localhost:8080/",
          "height": 233
        },
        "id": "b4zUPPNhVYtT",
        "outputId": "03c47a74-c06f-4ff1-9447-044cc2e574af"
      },
      "source": [
        "visitas_primeira.head()\n"
      ],
      "execution_count": null,
      "outputs": [
        {
          "output_type": "execute_result",
          "data": {
            "text/html": [
              "<div>\n",
              "<style scoped>\n",
              "    .dataframe tbody tr th:only-of-type {\n",
              "        vertical-align: middle;\n",
              "    }\n",
              "\n",
              "    .dataframe tbody tr th {\n",
              "        vertical-align: top;\n",
              "    }\n",
              "\n",
              "    .dataframe thead th {\n",
              "        text-align: right;\n",
              "    }\n",
              "</style>\n",
              "<table border=\"1\" class=\"dataframe\">\n",
              "  <thead>\n",
              "    <tr style=\"text-align: right;\">\n",
              "      <th></th>\n",
              "      <th>visitNumber</th>\n",
              "    </tr>\n",
              "    <tr>\n",
              "      <th>fullVisitorId</th>\n",
              "      <th></th>\n",
              "    </tr>\n",
              "  </thead>\n",
              "  <tbody>\n",
              "    <tr>\n",
              "      <th>0002365800130207040</th>\n",
              "      <td>1</td>\n",
              "    </tr>\n",
              "    <tr>\n",
              "      <th>0010286039787739137</th>\n",
              "      <td>1</td>\n",
              "    </tr>\n",
              "    <tr>\n",
              "      <th>0011056874471185769</th>\n",
              "      <td>1</td>\n",
              "    </tr>\n",
              "    <tr>\n",
              "      <th>0014443856125569702</th>\n",
              "      <td>1</td>\n",
              "    </tr>\n",
              "    <tr>\n",
              "      <th>0017260116665815114</th>\n",
              "      <td>6</td>\n",
              "    </tr>\n",
              "  </tbody>\n",
              "</table>\n",
              "</div>"
            ],
            "text/plain": [
              "                     visitNumber\n",
              "fullVisitorId                   \n",
              "0002365800130207040            1\n",
              "0010286039787739137            1\n",
              "0011056874471185769            1\n",
              "0014443856125569702            1\n",
              "0017260116665815114            6"
            ]
          },
          "metadata": {
            "tags": []
          },
          "execution_count": 168
        }
      ]
    },
    {
      "cell_type": "code",
      "metadata": {
        "id": "mantCeW7ULol"
      },
      "source": [
        "visitas = visitas.join(visitas_primeira, how= 'left',on='fullVisitorId', rsuffix='primeira')"
      ],
      "execution_count": null,
      "outputs": []
    },
    {
      "cell_type": "code",
      "metadata": {
        "colab": {
          "base_uri": "https://localhost:8080/",
          "height": 413
        },
        "id": "k9r6ZjqcVh5S",
        "outputId": "a7215f47-4166-4f0f-9f0c-1d7f1d2e0b83"
      },
      "source": [
        "visitas.head()"
      ],
      "execution_count": null,
      "outputs": [
        {
          "output_type": "execute_result",
          "data": {
            "text/html": [
              "<div>\n",
              "<style scoped>\n",
              "    .dataframe tbody tr th:only-of-type {\n",
              "        vertical-align: middle;\n",
              "    }\n",
              "\n",
              "    .dataframe tbody tr th {\n",
              "        vertical-align: top;\n",
              "    }\n",
              "\n",
              "    .dataframe thead th {\n",
              "        text-align: right;\n",
              "    }\n",
              "</style>\n",
              "<table border=\"1\" class=\"dataframe\">\n",
              "  <thead>\n",
              "    <tr style=\"text-align: right;\">\n",
              "      <th></th>\n",
              "      <th>fullVisitorId</th>\n",
              "      <th>visitNumber</th>\n",
              "      <th>channelGrouping</th>\n",
              "      <th>date</th>\n",
              "      <th>sessionId</th>\n",
              "      <th>visitId</th>\n",
              "      <th>visitStartTime</th>\n",
              "      <th>browser</th>\n",
              "      <th>operatingSystem</th>\n",
              "      <th>isMobile</th>\n",
              "      <th>deviceCategory</th>\n",
              "      <th>continent</th>\n",
              "      <th>subContinent</th>\n",
              "      <th>country</th>\n",
              "      <th>region</th>\n",
              "      <th>metro</th>\n",
              "      <th>city</th>\n",
              "      <th>networkDomain</th>\n",
              "      <th>campaign</th>\n",
              "      <th>source</th>\n",
              "      <th>medium</th>\n",
              "      <th>keyword</th>\n",
              "      <th>isTrueDirect</th>\n",
              "      <th>referralPath</th>\n",
              "      <th>adContent</th>\n",
              "      <th>campaignCode</th>\n",
              "      <th>hits</th>\n",
              "      <th>pageviews</th>\n",
              "      <th>bounces</th>\n",
              "      <th>newVisits</th>\n",
              "      <th>transactionRevenue</th>\n",
              "      <th>visitNumberprimeira</th>\n",
              "    </tr>\n",
              "  </thead>\n",
              "  <tbody>\n",
              "    <tr>\n",
              "      <th>0</th>\n",
              "      <td>0002365800130207040</td>\n",
              "      <td>1</td>\n",
              "      <td>Social</td>\n",
              "      <td>20160904</td>\n",
              "      <td>0002365800130207040_1472974804</td>\n",
              "      <td>1472974804</td>\n",
              "      <td>1472974804</td>\n",
              "      <td>Edge</td>\n",
              "      <td>Windows</td>\n",
              "      <td>False</td>\n",
              "      <td>desktop</td>\n",
              "      <td>Europe</td>\n",
              "      <td>Eastern Europe</td>\n",
              "      <td>Ukraine</td>\n",
              "      <td>not available in demo dataset</td>\n",
              "      <td>not available in demo dataset</td>\n",
              "      <td>not available in demo dataset</td>\n",
              "      <td>wildpark.net</td>\n",
              "      <td>(not set)</td>\n",
              "      <td>youtube.com</td>\n",
              "      <td>referral</td>\n",
              "      <td>NaN</td>\n",
              "      <td>NaN</td>\n",
              "      <td>/yt/about/ru/</td>\n",
              "      <td>NaN</td>\n",
              "      <td>NaN</td>\n",
              "      <td>1</td>\n",
              "      <td>1</td>\n",
              "      <td>1.0</td>\n",
              "      <td>1.0</td>\n",
              "      <td>0.0</td>\n",
              "      <td>1</td>\n",
              "    </tr>\n",
              "    <tr>\n",
              "      <th>1</th>\n",
              "      <td>0010286039787739137</td>\n",
              "      <td>1</td>\n",
              "      <td>Organic Search</td>\n",
              "      <td>20160928</td>\n",
              "      <td>0010286039787739137_1475084026</td>\n",
              "      <td>1475084026</td>\n",
              "      <td>1475084026</td>\n",
              "      <td>Chrome</td>\n",
              "      <td>Chrome OS</td>\n",
              "      <td>False</td>\n",
              "      <td>desktop</td>\n",
              "      <td>Americas</td>\n",
              "      <td>Northern America</td>\n",
              "      <td>United States</td>\n",
              "      <td>Missouri</td>\n",
              "      <td>Kansas City MO</td>\n",
              "      <td>Kansas City</td>\n",
              "      <td>(not set)</td>\n",
              "      <td>(not set)</td>\n",
              "      <td>google</td>\n",
              "      <td>organic</td>\n",
              "      <td>(not provided)</td>\n",
              "      <td>NaN</td>\n",
              "      <td>NaN</td>\n",
              "      <td>NaN</td>\n",
              "      <td>NaN</td>\n",
              "      <td>4</td>\n",
              "      <td>3</td>\n",
              "      <td>NaN</td>\n",
              "      <td>1.0</td>\n",
              "      <td>0.0</td>\n",
              "      <td>1</td>\n",
              "    </tr>\n",
              "    <tr>\n",
              "      <th>2</th>\n",
              "      <td>0011056874471185769</td>\n",
              "      <td>1</td>\n",
              "      <td>Social</td>\n",
              "      <td>20161205</td>\n",
              "      <td>0011056874471185769_1480996024</td>\n",
              "      <td>1480996024</td>\n",
              "      <td>1480996024</td>\n",
              "      <td>Chrome</td>\n",
              "      <td>Windows</td>\n",
              "      <td>False</td>\n",
              "      <td>desktop</td>\n",
              "      <td>Asia</td>\n",
              "      <td>Southeast Asia</td>\n",
              "      <td>Philippines</td>\n",
              "      <td>not available in demo dataset</td>\n",
              "      <td>not available in demo dataset</td>\n",
              "      <td>not available in demo dataset</td>\n",
              "      <td>pldt.net</td>\n",
              "      <td>(not set)</td>\n",
              "      <td>youtube.com</td>\n",
              "      <td>referral</td>\n",
              "      <td>NaN</td>\n",
              "      <td>NaN</td>\n",
              "      <td>/yt/about/</td>\n",
              "      <td>NaN</td>\n",
              "      <td>NaN</td>\n",
              "      <td>2</td>\n",
              "      <td>2</td>\n",
              "      <td>NaN</td>\n",
              "      <td>1.0</td>\n",
              "      <td>0.0</td>\n",
              "      <td>1</td>\n",
              "    </tr>\n",
              "    <tr>\n",
              "      <th>3</th>\n",
              "      <td>0014443856125569702</td>\n",
              "      <td>1</td>\n",
              "      <td>Social</td>\n",
              "      <td>20161002</td>\n",
              "      <td>0014443856125569702_1475423502</td>\n",
              "      <td>1475423502</td>\n",
              "      <td>1475423502</td>\n",
              "      <td>Opera</td>\n",
              "      <td>Windows</td>\n",
              "      <td>False</td>\n",
              "      <td>desktop</td>\n",
              "      <td>Europe</td>\n",
              "      <td>Eastern Europe</td>\n",
              "      <td>Romania</td>\n",
              "      <td>Bucharest</td>\n",
              "      <td>(not set)</td>\n",
              "      <td>Bucharest</td>\n",
              "      <td>rdsnet.ro</td>\n",
              "      <td>(not set)</td>\n",
              "      <td>youtube.com</td>\n",
              "      <td>referral</td>\n",
              "      <td>NaN</td>\n",
              "      <td>NaN</td>\n",
              "      <td>/yt/about/ro/</td>\n",
              "      <td>NaN</td>\n",
              "      <td>NaN</td>\n",
              "      <td>1</td>\n",
              "      <td>1</td>\n",
              "      <td>1.0</td>\n",
              "      <td>1.0</td>\n",
              "      <td>0.0</td>\n",
              "      <td>1</td>\n",
              "    </tr>\n",
              "    <tr>\n",
              "      <th>4</th>\n",
              "      <td>0017260116665815114</td>\n",
              "      <td>6</td>\n",
              "      <td>Direct</td>\n",
              "      <td>20170420</td>\n",
              "      <td>0017260116665815114_1492707286</td>\n",
              "      <td>1492707286</td>\n",
              "      <td>1492707286</td>\n",
              "      <td>Safari</td>\n",
              "      <td>Macintosh</td>\n",
              "      <td>False</td>\n",
              "      <td>desktop</td>\n",
              "      <td>Americas</td>\n",
              "      <td>Northern America</td>\n",
              "      <td>United States</td>\n",
              "      <td>not available in demo dataset</td>\n",
              "      <td>not available in demo dataset</td>\n",
              "      <td>not available in demo dataset</td>\n",
              "      <td>comcastbusiness.net</td>\n",
              "      <td>(not set)</td>\n",
              "      <td>(direct)</td>\n",
              "      <td>(none)</td>\n",
              "      <td>NaN</td>\n",
              "      <td>True</td>\n",
              "      <td>NaN</td>\n",
              "      <td>NaN</td>\n",
              "      <td>NaN</td>\n",
              "      <td>2</td>\n",
              "      <td>2</td>\n",
              "      <td>NaN</td>\n",
              "      <td>NaN</td>\n",
              "      <td>0.0</td>\n",
              "      <td>6</td>\n",
              "    </tr>\n",
              "  </tbody>\n",
              "</table>\n",
              "</div>"
            ],
            "text/plain": [
              "         fullVisitorId  visitNumber  ... transactionRevenue visitNumberprimeira\n",
              "0  0002365800130207040            1  ...                0.0                   1\n",
              "1  0010286039787739137            1  ...                0.0                   1\n",
              "2  0011056874471185769            1  ...                0.0                   1\n",
              "3  0014443856125569702            1  ...                0.0                   1\n",
              "4  0017260116665815114            6  ...                0.0                   6\n",
              "\n",
              "[5 rows x 32 columns]"
            ]
          },
          "metadata": {
            "tags": []
          },
          "execution_count": 170
        }
      ]
    },
    {
      "cell_type": "code",
      "metadata": {
        "id": "ce_g1vaRWW3V"
      },
      "source": [
        "visitas = pd.merge(visitas, usuarios_visitantes_unicos, left_on=['fullVisitorId','visitNumberprimeira'],\n",
        "                   right_on=['fullVisitorId','visitNumber'], how='left',\n",
        "                   suffixes=['ultima','primeira'])"
      ],
      "execution_count": null,
      "outputs": []
    },
    {
      "cell_type": "code",
      "metadata": {
        "colab": {
          "base_uri": "https://localhost:8080/",
          "height": 396
        },
        "id": "8d5cKDjcYMnC",
        "outputId": "ebf1bf2d-893f-4eff-c99a-019bc31fe166"
      },
      "source": [
        "visitas.head()"
      ],
      "execution_count": null,
      "outputs": [
        {
          "output_type": "execute_result",
          "data": {
            "text/html": [
              "<div>\n",
              "<style scoped>\n",
              "    .dataframe tbody tr th:only-of-type {\n",
              "        vertical-align: middle;\n",
              "    }\n",
              "\n",
              "    .dataframe tbody tr th {\n",
              "        vertical-align: top;\n",
              "    }\n",
              "\n",
              "    .dataframe thead th {\n",
              "        text-align: right;\n",
              "    }\n",
              "</style>\n",
              "<table border=\"1\" class=\"dataframe\">\n",
              "  <thead>\n",
              "    <tr style=\"text-align: right;\">\n",
              "      <th></th>\n",
              "      <th>fullVisitorId</th>\n",
              "      <th>visitNumberultima</th>\n",
              "      <th>channelGroupingultima</th>\n",
              "      <th>dateultima</th>\n",
              "      <th>sessionIdultima</th>\n",
              "      <th>visitIdultima</th>\n",
              "      <th>visitStartTimeultima</th>\n",
              "      <th>browserultima</th>\n",
              "      <th>operatingSystemultima</th>\n",
              "      <th>isMobileultima</th>\n",
              "      <th>deviceCategoryultima</th>\n",
              "      <th>continentultima</th>\n",
              "      <th>subContinentultima</th>\n",
              "      <th>countryultima</th>\n",
              "      <th>regionultima</th>\n",
              "      <th>metroultima</th>\n",
              "      <th>cityultima</th>\n",
              "      <th>networkDomainultima</th>\n",
              "      <th>campaignultima</th>\n",
              "      <th>sourceultima</th>\n",
              "      <th>mediumultima</th>\n",
              "      <th>keywordultima</th>\n",
              "      <th>isTrueDirectultima</th>\n",
              "      <th>referralPathultima</th>\n",
              "      <th>adContentultima</th>\n",
              "      <th>campaignCodeultima</th>\n",
              "      <th>hitsultima</th>\n",
              "      <th>pageviewsultima</th>\n",
              "      <th>bouncesultima</th>\n",
              "      <th>newVisitsultima</th>\n",
              "      <th>transactionRevenueultima</th>\n",
              "      <th>visitNumberprimeira</th>\n",
              "      <th>channelGroupingprimeira</th>\n",
              "      <th>dateprimeira</th>\n",
              "      <th>sessionIdprimeira</th>\n",
              "      <th>visitIdprimeira</th>\n",
              "      <th>visitNumberprimeira</th>\n",
              "      <th>visitStartTimeprimeira</th>\n",
              "      <th>browserprimeira</th>\n",
              "      <th>operatingSystemprimeira</th>\n",
              "      <th>isMobileprimeira</th>\n",
              "      <th>deviceCategoryprimeira</th>\n",
              "      <th>continentprimeira</th>\n",
              "      <th>subContinentprimeira</th>\n",
              "      <th>countryprimeira</th>\n",
              "      <th>regionprimeira</th>\n",
              "      <th>metroprimeira</th>\n",
              "      <th>cityprimeira</th>\n",
              "      <th>networkDomainprimeira</th>\n",
              "      <th>campaignprimeira</th>\n",
              "      <th>sourceprimeira</th>\n",
              "      <th>mediumprimeira</th>\n",
              "      <th>keywordprimeira</th>\n",
              "      <th>isTrueDirectprimeira</th>\n",
              "      <th>referralPathprimeira</th>\n",
              "      <th>adContentprimeira</th>\n",
              "      <th>campaignCodeprimeira</th>\n",
              "      <th>hitsprimeira</th>\n",
              "      <th>pageviewsprimeira</th>\n",
              "      <th>bouncesprimeira</th>\n",
              "      <th>newVisitsprimeira</th>\n",
              "      <th>transactionRevenueprimeira</th>\n",
              "    </tr>\n",
              "  </thead>\n",
              "  <tbody>\n",
              "    <tr>\n",
              "      <th>0</th>\n",
              "      <td>0002365800130207040</td>\n",
              "      <td>1</td>\n",
              "      <td>Social</td>\n",
              "      <td>20160904</td>\n",
              "      <td>0002365800130207040_1472974804</td>\n",
              "      <td>1472974804</td>\n",
              "      <td>1472974804</td>\n",
              "      <td>Edge</td>\n",
              "      <td>Windows</td>\n",
              "      <td>False</td>\n",
              "      <td>desktop</td>\n",
              "      <td>Europe</td>\n",
              "      <td>Eastern Europe</td>\n",
              "      <td>Ukraine</td>\n",
              "      <td>not available in demo dataset</td>\n",
              "      <td>not available in demo dataset</td>\n",
              "      <td>not available in demo dataset</td>\n",
              "      <td>wildpark.net</td>\n",
              "      <td>(not set)</td>\n",
              "      <td>youtube.com</td>\n",
              "      <td>referral</td>\n",
              "      <td>NaN</td>\n",
              "      <td>NaN</td>\n",
              "      <td>/yt/about/ru/</td>\n",
              "      <td>NaN</td>\n",
              "      <td>NaN</td>\n",
              "      <td>1</td>\n",
              "      <td>1</td>\n",
              "      <td>1.0</td>\n",
              "      <td>1.0</td>\n",
              "      <td>0.0</td>\n",
              "      <td>1</td>\n",
              "      <td>Social</td>\n",
              "      <td>20160904</td>\n",
              "      <td>0002365800130207040_1472974804</td>\n",
              "      <td>1472974804</td>\n",
              "      <td>1</td>\n",
              "      <td>1472974804</td>\n",
              "      <td>Edge</td>\n",
              "      <td>Windows</td>\n",
              "      <td>False</td>\n",
              "      <td>desktop</td>\n",
              "      <td>Europe</td>\n",
              "      <td>Eastern Europe</td>\n",
              "      <td>Ukraine</td>\n",
              "      <td>not available in demo dataset</td>\n",
              "      <td>not available in demo dataset</td>\n",
              "      <td>not available in demo dataset</td>\n",
              "      <td>wildpark.net</td>\n",
              "      <td>(not set)</td>\n",
              "      <td>youtube.com</td>\n",
              "      <td>referral</td>\n",
              "      <td>NaN</td>\n",
              "      <td>NaN</td>\n",
              "      <td>/yt/about/ru/</td>\n",
              "      <td>NaN</td>\n",
              "      <td>NaN</td>\n",
              "      <td>1</td>\n",
              "      <td>1</td>\n",
              "      <td>1.0</td>\n",
              "      <td>1.0</td>\n",
              "      <td>0.0</td>\n",
              "    </tr>\n",
              "    <tr>\n",
              "      <th>1</th>\n",
              "      <td>0010286039787739137</td>\n",
              "      <td>1</td>\n",
              "      <td>Organic Search</td>\n",
              "      <td>20160928</td>\n",
              "      <td>0010286039787739137_1475084026</td>\n",
              "      <td>1475084026</td>\n",
              "      <td>1475084026</td>\n",
              "      <td>Chrome</td>\n",
              "      <td>Chrome OS</td>\n",
              "      <td>False</td>\n",
              "      <td>desktop</td>\n",
              "      <td>Americas</td>\n",
              "      <td>Northern America</td>\n",
              "      <td>United States</td>\n",
              "      <td>Missouri</td>\n",
              "      <td>Kansas City MO</td>\n",
              "      <td>Kansas City</td>\n",
              "      <td>(not set)</td>\n",
              "      <td>(not set)</td>\n",
              "      <td>google</td>\n",
              "      <td>organic</td>\n",
              "      <td>(not provided)</td>\n",
              "      <td>NaN</td>\n",
              "      <td>NaN</td>\n",
              "      <td>NaN</td>\n",
              "      <td>NaN</td>\n",
              "      <td>4</td>\n",
              "      <td>3</td>\n",
              "      <td>NaN</td>\n",
              "      <td>1.0</td>\n",
              "      <td>0.0</td>\n",
              "      <td>1</td>\n",
              "      <td>Organic Search</td>\n",
              "      <td>20160928</td>\n",
              "      <td>0010286039787739137_1475084026</td>\n",
              "      <td>1475084026</td>\n",
              "      <td>1</td>\n",
              "      <td>1475084026</td>\n",
              "      <td>Chrome</td>\n",
              "      <td>Chrome OS</td>\n",
              "      <td>False</td>\n",
              "      <td>desktop</td>\n",
              "      <td>Americas</td>\n",
              "      <td>Northern America</td>\n",
              "      <td>United States</td>\n",
              "      <td>Missouri</td>\n",
              "      <td>Kansas City MO</td>\n",
              "      <td>Kansas City</td>\n",
              "      <td>(not set)</td>\n",
              "      <td>(not set)</td>\n",
              "      <td>google</td>\n",
              "      <td>organic</td>\n",
              "      <td>(not provided)</td>\n",
              "      <td>NaN</td>\n",
              "      <td>NaN</td>\n",
              "      <td>NaN</td>\n",
              "      <td>NaN</td>\n",
              "      <td>4</td>\n",
              "      <td>3</td>\n",
              "      <td>NaN</td>\n",
              "      <td>1.0</td>\n",
              "      <td>0.0</td>\n",
              "    </tr>\n",
              "    <tr>\n",
              "      <th>2</th>\n",
              "      <td>0011056874471185769</td>\n",
              "      <td>1</td>\n",
              "      <td>Social</td>\n",
              "      <td>20161205</td>\n",
              "      <td>0011056874471185769_1480996024</td>\n",
              "      <td>1480996024</td>\n",
              "      <td>1480996024</td>\n",
              "      <td>Chrome</td>\n",
              "      <td>Windows</td>\n",
              "      <td>False</td>\n",
              "      <td>desktop</td>\n",
              "      <td>Asia</td>\n",
              "      <td>Southeast Asia</td>\n",
              "      <td>Philippines</td>\n",
              "      <td>not available in demo dataset</td>\n",
              "      <td>not available in demo dataset</td>\n",
              "      <td>not available in demo dataset</td>\n",
              "      <td>pldt.net</td>\n",
              "      <td>(not set)</td>\n",
              "      <td>youtube.com</td>\n",
              "      <td>referral</td>\n",
              "      <td>NaN</td>\n",
              "      <td>NaN</td>\n",
              "      <td>/yt/about/</td>\n",
              "      <td>NaN</td>\n",
              "      <td>NaN</td>\n",
              "      <td>2</td>\n",
              "      <td>2</td>\n",
              "      <td>NaN</td>\n",
              "      <td>1.0</td>\n",
              "      <td>0.0</td>\n",
              "      <td>1</td>\n",
              "      <td>Social</td>\n",
              "      <td>20161205</td>\n",
              "      <td>0011056874471185769_1480996024</td>\n",
              "      <td>1480996024</td>\n",
              "      <td>1</td>\n",
              "      <td>1480996024</td>\n",
              "      <td>Chrome</td>\n",
              "      <td>Windows</td>\n",
              "      <td>False</td>\n",
              "      <td>desktop</td>\n",
              "      <td>Asia</td>\n",
              "      <td>Southeast Asia</td>\n",
              "      <td>Philippines</td>\n",
              "      <td>not available in demo dataset</td>\n",
              "      <td>not available in demo dataset</td>\n",
              "      <td>not available in demo dataset</td>\n",
              "      <td>pldt.net</td>\n",
              "      <td>(not set)</td>\n",
              "      <td>youtube.com</td>\n",
              "      <td>referral</td>\n",
              "      <td>NaN</td>\n",
              "      <td>NaN</td>\n",
              "      <td>/yt/about/</td>\n",
              "      <td>NaN</td>\n",
              "      <td>NaN</td>\n",
              "      <td>2</td>\n",
              "      <td>2</td>\n",
              "      <td>NaN</td>\n",
              "      <td>1.0</td>\n",
              "      <td>0.0</td>\n",
              "    </tr>\n",
              "    <tr>\n",
              "      <th>3</th>\n",
              "      <td>0014443856125569702</td>\n",
              "      <td>1</td>\n",
              "      <td>Social</td>\n",
              "      <td>20161002</td>\n",
              "      <td>0014443856125569702_1475423502</td>\n",
              "      <td>1475423502</td>\n",
              "      <td>1475423502</td>\n",
              "      <td>Opera</td>\n",
              "      <td>Windows</td>\n",
              "      <td>False</td>\n",
              "      <td>desktop</td>\n",
              "      <td>Europe</td>\n",
              "      <td>Eastern Europe</td>\n",
              "      <td>Romania</td>\n",
              "      <td>Bucharest</td>\n",
              "      <td>(not set)</td>\n",
              "      <td>Bucharest</td>\n",
              "      <td>rdsnet.ro</td>\n",
              "      <td>(not set)</td>\n",
              "      <td>youtube.com</td>\n",
              "      <td>referral</td>\n",
              "      <td>NaN</td>\n",
              "      <td>NaN</td>\n",
              "      <td>/yt/about/ro/</td>\n",
              "      <td>NaN</td>\n",
              "      <td>NaN</td>\n",
              "      <td>1</td>\n",
              "      <td>1</td>\n",
              "      <td>1.0</td>\n",
              "      <td>1.0</td>\n",
              "      <td>0.0</td>\n",
              "      <td>1</td>\n",
              "      <td>Social</td>\n",
              "      <td>20161002</td>\n",
              "      <td>0014443856125569702_1475423502</td>\n",
              "      <td>1475423502</td>\n",
              "      <td>1</td>\n",
              "      <td>1475423502</td>\n",
              "      <td>Opera</td>\n",
              "      <td>Windows</td>\n",
              "      <td>False</td>\n",
              "      <td>desktop</td>\n",
              "      <td>Europe</td>\n",
              "      <td>Eastern Europe</td>\n",
              "      <td>Romania</td>\n",
              "      <td>Bucharest</td>\n",
              "      <td>(not set)</td>\n",
              "      <td>Bucharest</td>\n",
              "      <td>rdsnet.ro</td>\n",
              "      <td>(not set)</td>\n",
              "      <td>youtube.com</td>\n",
              "      <td>referral</td>\n",
              "      <td>NaN</td>\n",
              "      <td>NaN</td>\n",
              "      <td>/yt/about/ro/</td>\n",
              "      <td>NaN</td>\n",
              "      <td>NaN</td>\n",
              "      <td>1</td>\n",
              "      <td>1</td>\n",
              "      <td>1.0</td>\n",
              "      <td>1.0</td>\n",
              "      <td>0.0</td>\n",
              "    </tr>\n",
              "    <tr>\n",
              "      <th>4</th>\n",
              "      <td>0017260116665815114</td>\n",
              "      <td>6</td>\n",
              "      <td>Direct</td>\n",
              "      <td>20170420</td>\n",
              "      <td>0017260116665815114_1492707286</td>\n",
              "      <td>1492707286</td>\n",
              "      <td>1492707286</td>\n",
              "      <td>Safari</td>\n",
              "      <td>Macintosh</td>\n",
              "      <td>False</td>\n",
              "      <td>desktop</td>\n",
              "      <td>Americas</td>\n",
              "      <td>Northern America</td>\n",
              "      <td>United States</td>\n",
              "      <td>not available in demo dataset</td>\n",
              "      <td>not available in demo dataset</td>\n",
              "      <td>not available in demo dataset</td>\n",
              "      <td>comcastbusiness.net</td>\n",
              "      <td>(not set)</td>\n",
              "      <td>(direct)</td>\n",
              "      <td>(none)</td>\n",
              "      <td>NaN</td>\n",
              "      <td>True</td>\n",
              "      <td>NaN</td>\n",
              "      <td>NaN</td>\n",
              "      <td>NaN</td>\n",
              "      <td>2</td>\n",
              "      <td>2</td>\n",
              "      <td>NaN</td>\n",
              "      <td>NaN</td>\n",
              "      <td>0.0</td>\n",
              "      <td>6</td>\n",
              "      <td>Direct</td>\n",
              "      <td>20170420</td>\n",
              "      <td>0017260116665815114_1492707286</td>\n",
              "      <td>1492707286</td>\n",
              "      <td>6</td>\n",
              "      <td>1492707286</td>\n",
              "      <td>Safari</td>\n",
              "      <td>Macintosh</td>\n",
              "      <td>False</td>\n",
              "      <td>desktop</td>\n",
              "      <td>Americas</td>\n",
              "      <td>Northern America</td>\n",
              "      <td>United States</td>\n",
              "      <td>not available in demo dataset</td>\n",
              "      <td>not available in demo dataset</td>\n",
              "      <td>not available in demo dataset</td>\n",
              "      <td>comcastbusiness.net</td>\n",
              "      <td>(not set)</td>\n",
              "      <td>(direct)</td>\n",
              "      <td>(none)</td>\n",
              "      <td>NaN</td>\n",
              "      <td>True</td>\n",
              "      <td>NaN</td>\n",
              "      <td>NaN</td>\n",
              "      <td>NaN</td>\n",
              "      <td>2</td>\n",
              "      <td>2</td>\n",
              "      <td>NaN</td>\n",
              "      <td>NaN</td>\n",
              "      <td>0.0</td>\n",
              "    </tr>\n",
              "  </tbody>\n",
              "</table>\n",
              "</div>"
            ],
            "text/plain": [
              "         fullVisitorId  ...  transactionRevenueprimeira\n",
              "0  0002365800130207040  ...                         0.0\n",
              "1  0010286039787739137  ...                         0.0\n",
              "2  0011056874471185769  ...                         0.0\n",
              "3  0014443856125569702  ...                         0.0\n",
              "4  0017260116665815114  ...                         0.0\n",
              "\n",
              "[5 rows x 62 columns]"
            ]
          },
          "metadata": {
            "tags": []
          },
          "execution_count": 173
        }
      ]
    },
    {
      "cell_type": "markdown",
      "metadata": {
        "id": "FidWAJJzZ5en"
      },
      "source": [
        "##**Limpando a base de dados**\n",
        "\n",
        "As variáveis quantitativas já foram definidas estratégias para o modelo, então podemos exluir dessa última base"
      ]
    },
    {
      "cell_type": "code",
      "metadata": {
        "colab": {
          "base_uri": "https://localhost:8080/"
        },
        "id": "1BGlYH38ehws",
        "outputId": "7c83ceba-9aa2-4f67-e152-71ebb5d281d0"
      },
      "source": [
        "len(visitas.columns)"
      ],
      "execution_count": null,
      "outputs": [
        {
          "output_type": "execute_result",
          "data": {
            "text/plain": [
              "62"
            ]
          },
          "metadata": {
            "tags": []
          },
          "execution_count": 176
        }
      ]
    },
    {
      "cell_type": "code",
      "metadata": {
        "colab": {
          "base_uri": "https://localhost:8080/"
        },
        "id": "-21CU6luZ9_v",
        "outputId": "43df755c-810e-4c03-ec82-7baa20e81d6e"
      },
      "source": [
        "quant"
      ],
      "execution_count": null,
      "outputs": [
        {
          "output_type": "execute_result",
          "data": {
            "text/plain": [
              "['bounces', 'newVisits', 'pageviews', 'transactionRevenue']"
            ]
          },
          "metadata": {
            "tags": []
          },
          "execution_count": 174
        }
      ]
    },
    {
      "cell_type": "code",
      "metadata": {
        "id": "A-jotafNZ9qJ"
      },
      "source": [
        "for coluna in quant:\n",
        "  visitas.drop(coluna +'ultima', axis=1, inplace=True)\n",
        "  visitas.drop(coluna +'primeira', axis=1, inplace=True)"
      ],
      "execution_count": null,
      "outputs": []
    },
    {
      "cell_type": "code",
      "metadata": {
        "colab": {
          "base_uri": "https://localhost:8080/"
        },
        "id": "QvjoNA-JetXn",
        "outputId": "a98098a0-1a15-44c9-e42e-637f30b902cc"
      },
      "source": [
        "len(visitas.columns)"
      ],
      "execution_count": null,
      "outputs": [
        {
          "output_type": "execute_result",
          "data": {
            "text/plain": [
              "54"
            ]
          },
          "metadata": {
            "tags": []
          },
          "execution_count": 178
        }
      ]
    },
    {
      "cell_type": "code",
      "metadata": {
        "colab": {
          "base_uri": "https://localhost:8080/",
          "height": 396
        },
        "id": "nkIa7_I0e1ih",
        "outputId": "85aee254-b237-47ab-91d6-e33d79ba7a87"
      },
      "source": [
        "visitas.head()"
      ],
      "execution_count": null,
      "outputs": [
        {
          "output_type": "execute_result",
          "data": {
            "text/html": [
              "<div>\n",
              "<style scoped>\n",
              "    .dataframe tbody tr th:only-of-type {\n",
              "        vertical-align: middle;\n",
              "    }\n",
              "\n",
              "    .dataframe tbody tr th {\n",
              "        vertical-align: top;\n",
              "    }\n",
              "\n",
              "    .dataframe thead th {\n",
              "        text-align: right;\n",
              "    }\n",
              "</style>\n",
              "<table border=\"1\" class=\"dataframe\">\n",
              "  <thead>\n",
              "    <tr style=\"text-align: right;\">\n",
              "      <th></th>\n",
              "      <th>fullVisitorId</th>\n",
              "      <th>visitNumberultima</th>\n",
              "      <th>channelGroupingultima</th>\n",
              "      <th>dateultima</th>\n",
              "      <th>sessionIdultima</th>\n",
              "      <th>visitIdultima</th>\n",
              "      <th>visitStartTimeultima</th>\n",
              "      <th>browserultima</th>\n",
              "      <th>operatingSystemultima</th>\n",
              "      <th>isMobileultima</th>\n",
              "      <th>deviceCategoryultima</th>\n",
              "      <th>continentultima</th>\n",
              "      <th>subContinentultima</th>\n",
              "      <th>countryultima</th>\n",
              "      <th>regionultima</th>\n",
              "      <th>metroultima</th>\n",
              "      <th>cityultima</th>\n",
              "      <th>networkDomainultima</th>\n",
              "      <th>campaignultima</th>\n",
              "      <th>sourceultima</th>\n",
              "      <th>mediumultima</th>\n",
              "      <th>keywordultima</th>\n",
              "      <th>isTrueDirectultima</th>\n",
              "      <th>referralPathultima</th>\n",
              "      <th>adContentultima</th>\n",
              "      <th>campaignCodeultima</th>\n",
              "      <th>hitsultima</th>\n",
              "      <th>visitNumberprimeira</th>\n",
              "      <th>channelGroupingprimeira</th>\n",
              "      <th>dateprimeira</th>\n",
              "      <th>sessionIdprimeira</th>\n",
              "      <th>visitIdprimeira</th>\n",
              "      <th>visitNumberprimeira</th>\n",
              "      <th>visitStartTimeprimeira</th>\n",
              "      <th>browserprimeira</th>\n",
              "      <th>operatingSystemprimeira</th>\n",
              "      <th>isMobileprimeira</th>\n",
              "      <th>deviceCategoryprimeira</th>\n",
              "      <th>continentprimeira</th>\n",
              "      <th>subContinentprimeira</th>\n",
              "      <th>countryprimeira</th>\n",
              "      <th>regionprimeira</th>\n",
              "      <th>metroprimeira</th>\n",
              "      <th>cityprimeira</th>\n",
              "      <th>networkDomainprimeira</th>\n",
              "      <th>campaignprimeira</th>\n",
              "      <th>sourceprimeira</th>\n",
              "      <th>mediumprimeira</th>\n",
              "      <th>keywordprimeira</th>\n",
              "      <th>isTrueDirectprimeira</th>\n",
              "      <th>referralPathprimeira</th>\n",
              "      <th>adContentprimeira</th>\n",
              "      <th>campaignCodeprimeira</th>\n",
              "      <th>hitsprimeira</th>\n",
              "    </tr>\n",
              "  </thead>\n",
              "  <tbody>\n",
              "    <tr>\n",
              "      <th>0</th>\n",
              "      <td>0002365800130207040</td>\n",
              "      <td>1</td>\n",
              "      <td>Social</td>\n",
              "      <td>20160904</td>\n",
              "      <td>0002365800130207040_1472974804</td>\n",
              "      <td>1472974804</td>\n",
              "      <td>1472974804</td>\n",
              "      <td>Edge</td>\n",
              "      <td>Windows</td>\n",
              "      <td>False</td>\n",
              "      <td>desktop</td>\n",
              "      <td>Europe</td>\n",
              "      <td>Eastern Europe</td>\n",
              "      <td>Ukraine</td>\n",
              "      <td>not available in demo dataset</td>\n",
              "      <td>not available in demo dataset</td>\n",
              "      <td>not available in demo dataset</td>\n",
              "      <td>wildpark.net</td>\n",
              "      <td>(not set)</td>\n",
              "      <td>youtube.com</td>\n",
              "      <td>referral</td>\n",
              "      <td>NaN</td>\n",
              "      <td>NaN</td>\n",
              "      <td>/yt/about/ru/</td>\n",
              "      <td>NaN</td>\n",
              "      <td>NaN</td>\n",
              "      <td>1</td>\n",
              "      <td>1</td>\n",
              "      <td>Social</td>\n",
              "      <td>20160904</td>\n",
              "      <td>0002365800130207040_1472974804</td>\n",
              "      <td>1472974804</td>\n",
              "      <td>1</td>\n",
              "      <td>1472974804</td>\n",
              "      <td>Edge</td>\n",
              "      <td>Windows</td>\n",
              "      <td>False</td>\n",
              "      <td>desktop</td>\n",
              "      <td>Europe</td>\n",
              "      <td>Eastern Europe</td>\n",
              "      <td>Ukraine</td>\n",
              "      <td>not available in demo dataset</td>\n",
              "      <td>not available in demo dataset</td>\n",
              "      <td>not available in demo dataset</td>\n",
              "      <td>wildpark.net</td>\n",
              "      <td>(not set)</td>\n",
              "      <td>youtube.com</td>\n",
              "      <td>referral</td>\n",
              "      <td>NaN</td>\n",
              "      <td>NaN</td>\n",
              "      <td>/yt/about/ru/</td>\n",
              "      <td>NaN</td>\n",
              "      <td>NaN</td>\n",
              "      <td>1</td>\n",
              "    </tr>\n",
              "    <tr>\n",
              "      <th>1</th>\n",
              "      <td>0010286039787739137</td>\n",
              "      <td>1</td>\n",
              "      <td>Organic Search</td>\n",
              "      <td>20160928</td>\n",
              "      <td>0010286039787739137_1475084026</td>\n",
              "      <td>1475084026</td>\n",
              "      <td>1475084026</td>\n",
              "      <td>Chrome</td>\n",
              "      <td>Chrome OS</td>\n",
              "      <td>False</td>\n",
              "      <td>desktop</td>\n",
              "      <td>Americas</td>\n",
              "      <td>Northern America</td>\n",
              "      <td>United States</td>\n",
              "      <td>Missouri</td>\n",
              "      <td>Kansas City MO</td>\n",
              "      <td>Kansas City</td>\n",
              "      <td>(not set)</td>\n",
              "      <td>(not set)</td>\n",
              "      <td>google</td>\n",
              "      <td>organic</td>\n",
              "      <td>(not provided)</td>\n",
              "      <td>NaN</td>\n",
              "      <td>NaN</td>\n",
              "      <td>NaN</td>\n",
              "      <td>NaN</td>\n",
              "      <td>4</td>\n",
              "      <td>1</td>\n",
              "      <td>Organic Search</td>\n",
              "      <td>20160928</td>\n",
              "      <td>0010286039787739137_1475084026</td>\n",
              "      <td>1475084026</td>\n",
              "      <td>1</td>\n",
              "      <td>1475084026</td>\n",
              "      <td>Chrome</td>\n",
              "      <td>Chrome OS</td>\n",
              "      <td>False</td>\n",
              "      <td>desktop</td>\n",
              "      <td>Americas</td>\n",
              "      <td>Northern America</td>\n",
              "      <td>United States</td>\n",
              "      <td>Missouri</td>\n",
              "      <td>Kansas City MO</td>\n",
              "      <td>Kansas City</td>\n",
              "      <td>(not set)</td>\n",
              "      <td>(not set)</td>\n",
              "      <td>google</td>\n",
              "      <td>organic</td>\n",
              "      <td>(not provided)</td>\n",
              "      <td>NaN</td>\n",
              "      <td>NaN</td>\n",
              "      <td>NaN</td>\n",
              "      <td>NaN</td>\n",
              "      <td>4</td>\n",
              "    </tr>\n",
              "    <tr>\n",
              "      <th>2</th>\n",
              "      <td>0011056874471185769</td>\n",
              "      <td>1</td>\n",
              "      <td>Social</td>\n",
              "      <td>20161205</td>\n",
              "      <td>0011056874471185769_1480996024</td>\n",
              "      <td>1480996024</td>\n",
              "      <td>1480996024</td>\n",
              "      <td>Chrome</td>\n",
              "      <td>Windows</td>\n",
              "      <td>False</td>\n",
              "      <td>desktop</td>\n",
              "      <td>Asia</td>\n",
              "      <td>Southeast Asia</td>\n",
              "      <td>Philippines</td>\n",
              "      <td>not available in demo dataset</td>\n",
              "      <td>not available in demo dataset</td>\n",
              "      <td>not available in demo dataset</td>\n",
              "      <td>pldt.net</td>\n",
              "      <td>(not set)</td>\n",
              "      <td>youtube.com</td>\n",
              "      <td>referral</td>\n",
              "      <td>NaN</td>\n",
              "      <td>NaN</td>\n",
              "      <td>/yt/about/</td>\n",
              "      <td>NaN</td>\n",
              "      <td>NaN</td>\n",
              "      <td>2</td>\n",
              "      <td>1</td>\n",
              "      <td>Social</td>\n",
              "      <td>20161205</td>\n",
              "      <td>0011056874471185769_1480996024</td>\n",
              "      <td>1480996024</td>\n",
              "      <td>1</td>\n",
              "      <td>1480996024</td>\n",
              "      <td>Chrome</td>\n",
              "      <td>Windows</td>\n",
              "      <td>False</td>\n",
              "      <td>desktop</td>\n",
              "      <td>Asia</td>\n",
              "      <td>Southeast Asia</td>\n",
              "      <td>Philippines</td>\n",
              "      <td>not available in demo dataset</td>\n",
              "      <td>not available in demo dataset</td>\n",
              "      <td>not available in demo dataset</td>\n",
              "      <td>pldt.net</td>\n",
              "      <td>(not set)</td>\n",
              "      <td>youtube.com</td>\n",
              "      <td>referral</td>\n",
              "      <td>NaN</td>\n",
              "      <td>NaN</td>\n",
              "      <td>/yt/about/</td>\n",
              "      <td>NaN</td>\n",
              "      <td>NaN</td>\n",
              "      <td>2</td>\n",
              "    </tr>\n",
              "    <tr>\n",
              "      <th>3</th>\n",
              "      <td>0014443856125569702</td>\n",
              "      <td>1</td>\n",
              "      <td>Social</td>\n",
              "      <td>20161002</td>\n",
              "      <td>0014443856125569702_1475423502</td>\n",
              "      <td>1475423502</td>\n",
              "      <td>1475423502</td>\n",
              "      <td>Opera</td>\n",
              "      <td>Windows</td>\n",
              "      <td>False</td>\n",
              "      <td>desktop</td>\n",
              "      <td>Europe</td>\n",
              "      <td>Eastern Europe</td>\n",
              "      <td>Romania</td>\n",
              "      <td>Bucharest</td>\n",
              "      <td>(not set)</td>\n",
              "      <td>Bucharest</td>\n",
              "      <td>rdsnet.ro</td>\n",
              "      <td>(not set)</td>\n",
              "      <td>youtube.com</td>\n",
              "      <td>referral</td>\n",
              "      <td>NaN</td>\n",
              "      <td>NaN</td>\n",
              "      <td>/yt/about/ro/</td>\n",
              "      <td>NaN</td>\n",
              "      <td>NaN</td>\n",
              "      <td>1</td>\n",
              "      <td>1</td>\n",
              "      <td>Social</td>\n",
              "      <td>20161002</td>\n",
              "      <td>0014443856125569702_1475423502</td>\n",
              "      <td>1475423502</td>\n",
              "      <td>1</td>\n",
              "      <td>1475423502</td>\n",
              "      <td>Opera</td>\n",
              "      <td>Windows</td>\n",
              "      <td>False</td>\n",
              "      <td>desktop</td>\n",
              "      <td>Europe</td>\n",
              "      <td>Eastern Europe</td>\n",
              "      <td>Romania</td>\n",
              "      <td>Bucharest</td>\n",
              "      <td>(not set)</td>\n",
              "      <td>Bucharest</td>\n",
              "      <td>rdsnet.ro</td>\n",
              "      <td>(not set)</td>\n",
              "      <td>youtube.com</td>\n",
              "      <td>referral</td>\n",
              "      <td>NaN</td>\n",
              "      <td>NaN</td>\n",
              "      <td>/yt/about/ro/</td>\n",
              "      <td>NaN</td>\n",
              "      <td>NaN</td>\n",
              "      <td>1</td>\n",
              "    </tr>\n",
              "    <tr>\n",
              "      <th>4</th>\n",
              "      <td>0017260116665815114</td>\n",
              "      <td>6</td>\n",
              "      <td>Direct</td>\n",
              "      <td>20170420</td>\n",
              "      <td>0017260116665815114_1492707286</td>\n",
              "      <td>1492707286</td>\n",
              "      <td>1492707286</td>\n",
              "      <td>Safari</td>\n",
              "      <td>Macintosh</td>\n",
              "      <td>False</td>\n",
              "      <td>desktop</td>\n",
              "      <td>Americas</td>\n",
              "      <td>Northern America</td>\n",
              "      <td>United States</td>\n",
              "      <td>not available in demo dataset</td>\n",
              "      <td>not available in demo dataset</td>\n",
              "      <td>not available in demo dataset</td>\n",
              "      <td>comcastbusiness.net</td>\n",
              "      <td>(not set)</td>\n",
              "      <td>(direct)</td>\n",
              "      <td>(none)</td>\n",
              "      <td>NaN</td>\n",
              "      <td>True</td>\n",
              "      <td>NaN</td>\n",
              "      <td>NaN</td>\n",
              "      <td>NaN</td>\n",
              "      <td>2</td>\n",
              "      <td>6</td>\n",
              "      <td>Direct</td>\n",
              "      <td>20170420</td>\n",
              "      <td>0017260116665815114_1492707286</td>\n",
              "      <td>1492707286</td>\n",
              "      <td>6</td>\n",
              "      <td>1492707286</td>\n",
              "      <td>Safari</td>\n",
              "      <td>Macintosh</td>\n",
              "      <td>False</td>\n",
              "      <td>desktop</td>\n",
              "      <td>Americas</td>\n",
              "      <td>Northern America</td>\n",
              "      <td>United States</td>\n",
              "      <td>not available in demo dataset</td>\n",
              "      <td>not available in demo dataset</td>\n",
              "      <td>not available in demo dataset</td>\n",
              "      <td>comcastbusiness.net</td>\n",
              "      <td>(not set)</td>\n",
              "      <td>(direct)</td>\n",
              "      <td>(none)</td>\n",
              "      <td>NaN</td>\n",
              "      <td>True</td>\n",
              "      <td>NaN</td>\n",
              "      <td>NaN</td>\n",
              "      <td>NaN</td>\n",
              "      <td>2</td>\n",
              "    </tr>\n",
              "  </tbody>\n",
              "</table>\n",
              "</div>"
            ],
            "text/plain": [
              "         fullVisitorId  visitNumberultima  ... campaignCodeprimeira hitsprimeira\n",
              "0  0002365800130207040                  1  ...                  NaN            1\n",
              "1  0010286039787739137                  1  ...                  NaN            4\n",
              "2  0011056874471185769                  1  ...                  NaN            2\n",
              "3  0014443856125569702                  1  ...                  NaN            1\n",
              "4  0017260116665815114                  6  ...                  NaN            2\n",
              "\n",
              "[5 rows x 54 columns]"
            ]
          },
          "metadata": {
            "tags": []
          },
          "execution_count": 179
        }
      ]
    },
    {
      "cell_type": "markdown",
      "metadata": {
        "id": "lSIpU6FufDKR"
      },
      "source": [
        "Os Ids não são importantes para o modelo.\n",
        "São valores interessantes para identificar valores únicos mas não no modelo de previsão.\n",
        "\n",
        "também eliminaremos as colunas geográficas"
      ]
    },
    {
      "cell_type": "code",
      "metadata": {
        "id": "Z3yloSjWe9mq"
      },
      "source": [
        "ids = [\"sessionIdultima\",'visitIdultima',\"sessionIdprimeira\",'visitIdprimeira']\n",
        "# não foi excluido o full visit Id pois ainda o usaremos, mas será excluído adiante."
      ],
      "execution_count": null,
      "outputs": []
    },
    {
      "cell_type": "code",
      "metadata": {
        "id": "XMsDsQUSfv5O"
      },
      "source": [
        "visitas.drop(ids, axis=1, inplace=True)"
      ],
      "execution_count": null,
      "outputs": []
    },
    {
      "cell_type": "code",
      "metadata": {
        "colab": {
          "base_uri": "https://localhost:8080/"
        },
        "id": "KCSeqyqwf452",
        "outputId": "76601365-9b29-4d71-e643-cdb59625e903"
      },
      "source": [
        "len(visitas.columns)"
      ],
      "execution_count": null,
      "outputs": [
        {
          "output_type": "execute_result",
          "data": {
            "text/plain": [
              "50"
            ]
          },
          "metadata": {
            "tags": []
          },
          "execution_count": 184
        }
      ]
    },
    {
      "cell_type": "code",
      "metadata": {
        "colab": {
          "base_uri": "https://localhost:8080/"
        },
        "id": "RtYVMhhZhDIZ",
        "outputId": "6ee37ab8-72e5-45ed-cab8-c109e663c877"
      },
      "source": [
        "visitas.columns"
      ],
      "execution_count": null,
      "outputs": [
        {
          "output_type": "execute_result",
          "data": {
            "text/plain": [
              "Index(['fullVisitorId', 'visitNumberultima', 'channelGroupingultima',\n",
              "       'dateultima', 'visitStartTimeultima', 'browserultima',\n",
              "       'operatingSystemultima', 'isMobileultima', 'deviceCategoryultima',\n",
              "       'continentultima', 'subContinentultima', 'countryultima',\n",
              "       'regionultima', 'metroultima', 'cityultima', 'networkDomainultima',\n",
              "       'campaignultima', 'sourceultima', 'mediumultima', 'keywordultima',\n",
              "       'isTrueDirectultima', 'referralPathultima', 'adContentultima',\n",
              "       'campaignCodeultima', 'hitsultima', 'visitNumberprimeira',\n",
              "       'channelGroupingprimeira', 'dateprimeira', 'visitNumberprimeira',\n",
              "       'visitStartTimeprimeira', 'browserprimeira', 'operatingSystemprimeira',\n",
              "       'isMobileprimeira', 'deviceCategoryprimeira', 'continentprimeira',\n",
              "       'subContinentprimeira', 'countryprimeira', 'regionprimeira',\n",
              "       'metroprimeira', 'cityprimeira', 'networkDomainprimeira',\n",
              "       'campaignprimeira', 'sourceprimeira', 'mediumprimeira',\n",
              "       'keywordprimeira', 'isTrueDirectprimeira', 'referralPathprimeira',\n",
              "       'adContentprimeira', 'campaignCodeprimeira', 'hitsprimeira'],\n",
              "      dtype='object')"
            ]
          },
          "metadata": {
            "tags": []
          },
          "execution_count": 187
        }
      ]
    },
    {
      "cell_type": "code",
      "metadata": {
        "id": "QVU7WoqphLN5"
      },
      "source": [
        "geo=['countryprimeira', 'regionprimeira',\n",
        "       'metroprimeira', 'cityprimeira',\n",
        "     'continentprimeira','subContinentprimeira',\n",
        "     'networkDomainprimeira']"
      ],
      "execution_count": null,
      "outputs": []
    },
    {
      "cell_type": "code",
      "metadata": {
        "id": "x9DOugeQhxex"
      },
      "source": [
        "visitas.drop(geo, axis=1, inplace=True)"
      ],
      "execution_count": null,
      "outputs": []
    },
    {
      "cell_type": "code",
      "metadata": {
        "colab": {
          "base_uri": "https://localhost:8080/"
        },
        "id": "bJx33VTWh0HY",
        "outputId": "45d43be3-c9d5-4108-daf0-0715b4bb91c7"
      },
      "source": [
        "visitas.shape"
      ],
      "execution_count": null,
      "outputs": [
        {
          "output_type": "execute_result",
          "data": {
            "text/plain": [
              "(9997, 43)"
            ]
          },
          "metadata": {
            "tags": []
          },
          "execution_count": 190
        }
      ]
    },
    {
      "cell_type": "markdown",
      "metadata": {
        "id": "SH21ESaOiPeP"
      },
      "source": [
        "##**Criando variáveis diversas**"
      ]
    },
    {
      "cell_type": "code",
      "metadata": {
        "colab": {
          "base_uri": "https://localhost:8080/",
          "height": 202
        },
        "id": "EuZL3Bm0iOf7",
        "outputId": "3c8b36ce-7bdc-4782-9083-b9ffb02a3547"
      },
      "source": [
        "df_quant.head()"
      ],
      "execution_count": null,
      "outputs": [
        {
          "output_type": "execute_result",
          "data": {
            "text/html": [
              "<div>\n",
              "<style scoped>\n",
              "    .dataframe tbody tr th:only-of-type {\n",
              "        vertical-align: middle;\n",
              "    }\n",
              "\n",
              "    .dataframe tbody tr th {\n",
              "        vertical-align: top;\n",
              "    }\n",
              "\n",
              "    .dataframe thead th {\n",
              "        text-align: right;\n",
              "    }\n",
              "</style>\n",
              "<table border=\"1\" class=\"dataframe\">\n",
              "  <thead>\n",
              "    <tr style=\"text-align: right;\">\n",
              "      <th></th>\n",
              "      <th>fullVisitorId</th>\n",
              "      <th>bounces</th>\n",
              "      <th>newVisits</th>\n",
              "      <th>pageviews</th>\n",
              "      <th>transactionRevenue</th>\n",
              "    </tr>\n",
              "  </thead>\n",
              "  <tbody>\n",
              "    <tr>\n",
              "      <th>0</th>\n",
              "      <td>0002365800130207040</td>\n",
              "      <td>1.0</td>\n",
              "      <td>1.0</td>\n",
              "      <td>1</td>\n",
              "      <td>0.0</td>\n",
              "    </tr>\n",
              "    <tr>\n",
              "      <th>1</th>\n",
              "      <td>0010286039787739137</td>\n",
              "      <td>0.0</td>\n",
              "      <td>1.0</td>\n",
              "      <td>3</td>\n",
              "      <td>0.0</td>\n",
              "    </tr>\n",
              "    <tr>\n",
              "      <th>2</th>\n",
              "      <td>0011056874471185769</td>\n",
              "      <td>0.0</td>\n",
              "      <td>1.0</td>\n",
              "      <td>2</td>\n",
              "      <td>0.0</td>\n",
              "    </tr>\n",
              "    <tr>\n",
              "      <th>3</th>\n",
              "      <td>0014443856125569702</td>\n",
              "      <td>1.0</td>\n",
              "      <td>1.0</td>\n",
              "      <td>1</td>\n",
              "      <td>0.0</td>\n",
              "    </tr>\n",
              "    <tr>\n",
              "      <th>4</th>\n",
              "      <td>0017260116665815114</td>\n",
              "      <td>0.0</td>\n",
              "      <td>0.0</td>\n",
              "      <td>2</td>\n",
              "      <td>0.0</td>\n",
              "    </tr>\n",
              "  </tbody>\n",
              "</table>\n",
              "</div>"
            ],
            "text/plain": [
              "         fullVisitorId  bounces  newVisits  pageviews  transactionRevenue\n",
              "0  0002365800130207040      1.0        1.0          1                 0.0\n",
              "1  0010286039787739137      0.0        1.0          3                 0.0\n",
              "2  0011056874471185769      0.0        1.0          2                 0.0\n",
              "3  0014443856125569702      1.0        1.0          1                 0.0\n",
              "4  0017260116665815114      0.0        0.0          2                 0.0"
            ]
          },
          "metadata": {
            "tags": []
          },
          "execution_count": 191
        }
      ]
    },
    {
      "cell_type": "code",
      "metadata": {
        "id": "gD7L_ux3kTy9"
      },
      "source": [
        "visitas = pd.merge(visitas, df_quant, left_on=['fullVisitorId'],\n",
        "                   right_on=['fullVisitorId'], how='left')"
      ],
      "execution_count": null,
      "outputs": []
    },
    {
      "cell_type": "code",
      "metadata": {
        "colab": {
          "base_uri": "https://localhost:8080/",
          "height": 396
        },
        "id": "z1VGSXs3kz5F",
        "outputId": "44e02301-4e6d-4c0b-aa06-615c2c74c44e"
      },
      "source": [
        "visitas.head()"
      ],
      "execution_count": null,
      "outputs": [
        {
          "output_type": "execute_result",
          "data": {
            "text/html": [
              "<div>\n",
              "<style scoped>\n",
              "    .dataframe tbody tr th:only-of-type {\n",
              "        vertical-align: middle;\n",
              "    }\n",
              "\n",
              "    .dataframe tbody tr th {\n",
              "        vertical-align: top;\n",
              "    }\n",
              "\n",
              "    .dataframe thead th {\n",
              "        text-align: right;\n",
              "    }\n",
              "</style>\n",
              "<table border=\"1\" class=\"dataframe\">\n",
              "  <thead>\n",
              "    <tr style=\"text-align: right;\">\n",
              "      <th></th>\n",
              "      <th>fullVisitorId</th>\n",
              "      <th>visitNumberultima</th>\n",
              "      <th>channelGroupingultima</th>\n",
              "      <th>dateultima</th>\n",
              "      <th>visitStartTimeultima</th>\n",
              "      <th>browserultima</th>\n",
              "      <th>operatingSystemultima</th>\n",
              "      <th>isMobileultima</th>\n",
              "      <th>deviceCategoryultima</th>\n",
              "      <th>continentultima</th>\n",
              "      <th>subContinentultima</th>\n",
              "      <th>countryultima</th>\n",
              "      <th>regionultima</th>\n",
              "      <th>metroultima</th>\n",
              "      <th>cityultima</th>\n",
              "      <th>networkDomainultima</th>\n",
              "      <th>campaignultima</th>\n",
              "      <th>sourceultima</th>\n",
              "      <th>mediumultima</th>\n",
              "      <th>keywordultima</th>\n",
              "      <th>isTrueDirectultima</th>\n",
              "      <th>referralPathultima</th>\n",
              "      <th>adContentultima</th>\n",
              "      <th>campaignCodeultima</th>\n",
              "      <th>hitsultima</th>\n",
              "      <th>visitNumberprimeira</th>\n",
              "      <th>channelGroupingprimeira</th>\n",
              "      <th>dateprimeira</th>\n",
              "      <th>visitNumberprimeira</th>\n",
              "      <th>visitStartTimeprimeira</th>\n",
              "      <th>browserprimeira</th>\n",
              "      <th>operatingSystemprimeira</th>\n",
              "      <th>isMobileprimeira</th>\n",
              "      <th>deviceCategoryprimeira</th>\n",
              "      <th>campaignprimeira</th>\n",
              "      <th>sourceprimeira</th>\n",
              "      <th>mediumprimeira</th>\n",
              "      <th>keywordprimeira</th>\n",
              "      <th>isTrueDirectprimeira</th>\n",
              "      <th>referralPathprimeira</th>\n",
              "      <th>adContentprimeira</th>\n",
              "      <th>campaignCodeprimeira</th>\n",
              "      <th>hitsprimeira</th>\n",
              "      <th>bounces</th>\n",
              "      <th>newVisits</th>\n",
              "      <th>pageviews</th>\n",
              "      <th>transactionRevenue</th>\n",
              "    </tr>\n",
              "  </thead>\n",
              "  <tbody>\n",
              "    <tr>\n",
              "      <th>0</th>\n",
              "      <td>0002365800130207040</td>\n",
              "      <td>1</td>\n",
              "      <td>Social</td>\n",
              "      <td>20160904</td>\n",
              "      <td>1472974804</td>\n",
              "      <td>Edge</td>\n",
              "      <td>Windows</td>\n",
              "      <td>False</td>\n",
              "      <td>desktop</td>\n",
              "      <td>Europe</td>\n",
              "      <td>Eastern Europe</td>\n",
              "      <td>Ukraine</td>\n",
              "      <td>not available in demo dataset</td>\n",
              "      <td>not available in demo dataset</td>\n",
              "      <td>not available in demo dataset</td>\n",
              "      <td>wildpark.net</td>\n",
              "      <td>(not set)</td>\n",
              "      <td>youtube.com</td>\n",
              "      <td>referral</td>\n",
              "      <td>NaN</td>\n",
              "      <td>NaN</td>\n",
              "      <td>/yt/about/ru/</td>\n",
              "      <td>NaN</td>\n",
              "      <td>NaN</td>\n",
              "      <td>1</td>\n",
              "      <td>1</td>\n",
              "      <td>Social</td>\n",
              "      <td>20160904</td>\n",
              "      <td>1</td>\n",
              "      <td>1472974804</td>\n",
              "      <td>Edge</td>\n",
              "      <td>Windows</td>\n",
              "      <td>False</td>\n",
              "      <td>desktop</td>\n",
              "      <td>(not set)</td>\n",
              "      <td>youtube.com</td>\n",
              "      <td>referral</td>\n",
              "      <td>NaN</td>\n",
              "      <td>NaN</td>\n",
              "      <td>/yt/about/ru/</td>\n",
              "      <td>NaN</td>\n",
              "      <td>NaN</td>\n",
              "      <td>1</td>\n",
              "      <td>1.0</td>\n",
              "      <td>1.0</td>\n",
              "      <td>1</td>\n",
              "      <td>0.0</td>\n",
              "    </tr>\n",
              "    <tr>\n",
              "      <th>1</th>\n",
              "      <td>0010286039787739137</td>\n",
              "      <td>1</td>\n",
              "      <td>Organic Search</td>\n",
              "      <td>20160928</td>\n",
              "      <td>1475084026</td>\n",
              "      <td>Chrome</td>\n",
              "      <td>Chrome OS</td>\n",
              "      <td>False</td>\n",
              "      <td>desktop</td>\n",
              "      <td>Americas</td>\n",
              "      <td>Northern America</td>\n",
              "      <td>United States</td>\n",
              "      <td>Missouri</td>\n",
              "      <td>Kansas City MO</td>\n",
              "      <td>Kansas City</td>\n",
              "      <td>(not set)</td>\n",
              "      <td>(not set)</td>\n",
              "      <td>google</td>\n",
              "      <td>organic</td>\n",
              "      <td>(not provided)</td>\n",
              "      <td>NaN</td>\n",
              "      <td>NaN</td>\n",
              "      <td>NaN</td>\n",
              "      <td>NaN</td>\n",
              "      <td>4</td>\n",
              "      <td>1</td>\n",
              "      <td>Organic Search</td>\n",
              "      <td>20160928</td>\n",
              "      <td>1</td>\n",
              "      <td>1475084026</td>\n",
              "      <td>Chrome</td>\n",
              "      <td>Chrome OS</td>\n",
              "      <td>False</td>\n",
              "      <td>desktop</td>\n",
              "      <td>(not set)</td>\n",
              "      <td>google</td>\n",
              "      <td>organic</td>\n",
              "      <td>(not provided)</td>\n",
              "      <td>NaN</td>\n",
              "      <td>NaN</td>\n",
              "      <td>NaN</td>\n",
              "      <td>NaN</td>\n",
              "      <td>4</td>\n",
              "      <td>0.0</td>\n",
              "      <td>1.0</td>\n",
              "      <td>3</td>\n",
              "      <td>0.0</td>\n",
              "    </tr>\n",
              "    <tr>\n",
              "      <th>2</th>\n",
              "      <td>0011056874471185769</td>\n",
              "      <td>1</td>\n",
              "      <td>Social</td>\n",
              "      <td>20161205</td>\n",
              "      <td>1480996024</td>\n",
              "      <td>Chrome</td>\n",
              "      <td>Windows</td>\n",
              "      <td>False</td>\n",
              "      <td>desktop</td>\n",
              "      <td>Asia</td>\n",
              "      <td>Southeast Asia</td>\n",
              "      <td>Philippines</td>\n",
              "      <td>not available in demo dataset</td>\n",
              "      <td>not available in demo dataset</td>\n",
              "      <td>not available in demo dataset</td>\n",
              "      <td>pldt.net</td>\n",
              "      <td>(not set)</td>\n",
              "      <td>youtube.com</td>\n",
              "      <td>referral</td>\n",
              "      <td>NaN</td>\n",
              "      <td>NaN</td>\n",
              "      <td>/yt/about/</td>\n",
              "      <td>NaN</td>\n",
              "      <td>NaN</td>\n",
              "      <td>2</td>\n",
              "      <td>1</td>\n",
              "      <td>Social</td>\n",
              "      <td>20161205</td>\n",
              "      <td>1</td>\n",
              "      <td>1480996024</td>\n",
              "      <td>Chrome</td>\n",
              "      <td>Windows</td>\n",
              "      <td>False</td>\n",
              "      <td>desktop</td>\n",
              "      <td>(not set)</td>\n",
              "      <td>youtube.com</td>\n",
              "      <td>referral</td>\n",
              "      <td>NaN</td>\n",
              "      <td>NaN</td>\n",
              "      <td>/yt/about/</td>\n",
              "      <td>NaN</td>\n",
              "      <td>NaN</td>\n",
              "      <td>2</td>\n",
              "      <td>0.0</td>\n",
              "      <td>1.0</td>\n",
              "      <td>2</td>\n",
              "      <td>0.0</td>\n",
              "    </tr>\n",
              "    <tr>\n",
              "      <th>3</th>\n",
              "      <td>0014443856125569702</td>\n",
              "      <td>1</td>\n",
              "      <td>Social</td>\n",
              "      <td>20161002</td>\n",
              "      <td>1475423502</td>\n",
              "      <td>Opera</td>\n",
              "      <td>Windows</td>\n",
              "      <td>False</td>\n",
              "      <td>desktop</td>\n",
              "      <td>Europe</td>\n",
              "      <td>Eastern Europe</td>\n",
              "      <td>Romania</td>\n",
              "      <td>Bucharest</td>\n",
              "      <td>(not set)</td>\n",
              "      <td>Bucharest</td>\n",
              "      <td>rdsnet.ro</td>\n",
              "      <td>(not set)</td>\n",
              "      <td>youtube.com</td>\n",
              "      <td>referral</td>\n",
              "      <td>NaN</td>\n",
              "      <td>NaN</td>\n",
              "      <td>/yt/about/ro/</td>\n",
              "      <td>NaN</td>\n",
              "      <td>NaN</td>\n",
              "      <td>1</td>\n",
              "      <td>1</td>\n",
              "      <td>Social</td>\n",
              "      <td>20161002</td>\n",
              "      <td>1</td>\n",
              "      <td>1475423502</td>\n",
              "      <td>Opera</td>\n",
              "      <td>Windows</td>\n",
              "      <td>False</td>\n",
              "      <td>desktop</td>\n",
              "      <td>(not set)</td>\n",
              "      <td>youtube.com</td>\n",
              "      <td>referral</td>\n",
              "      <td>NaN</td>\n",
              "      <td>NaN</td>\n",
              "      <td>/yt/about/ro/</td>\n",
              "      <td>NaN</td>\n",
              "      <td>NaN</td>\n",
              "      <td>1</td>\n",
              "      <td>1.0</td>\n",
              "      <td>1.0</td>\n",
              "      <td>1</td>\n",
              "      <td>0.0</td>\n",
              "    </tr>\n",
              "    <tr>\n",
              "      <th>4</th>\n",
              "      <td>0017260116665815114</td>\n",
              "      <td>6</td>\n",
              "      <td>Direct</td>\n",
              "      <td>20170420</td>\n",
              "      <td>1492707286</td>\n",
              "      <td>Safari</td>\n",
              "      <td>Macintosh</td>\n",
              "      <td>False</td>\n",
              "      <td>desktop</td>\n",
              "      <td>Americas</td>\n",
              "      <td>Northern America</td>\n",
              "      <td>United States</td>\n",
              "      <td>not available in demo dataset</td>\n",
              "      <td>not available in demo dataset</td>\n",
              "      <td>not available in demo dataset</td>\n",
              "      <td>comcastbusiness.net</td>\n",
              "      <td>(not set)</td>\n",
              "      <td>(direct)</td>\n",
              "      <td>(none)</td>\n",
              "      <td>NaN</td>\n",
              "      <td>True</td>\n",
              "      <td>NaN</td>\n",
              "      <td>NaN</td>\n",
              "      <td>NaN</td>\n",
              "      <td>2</td>\n",
              "      <td>6</td>\n",
              "      <td>Direct</td>\n",
              "      <td>20170420</td>\n",
              "      <td>6</td>\n",
              "      <td>1492707286</td>\n",
              "      <td>Safari</td>\n",
              "      <td>Macintosh</td>\n",
              "      <td>False</td>\n",
              "      <td>desktop</td>\n",
              "      <td>(not set)</td>\n",
              "      <td>(direct)</td>\n",
              "      <td>(none)</td>\n",
              "      <td>NaN</td>\n",
              "      <td>True</td>\n",
              "      <td>NaN</td>\n",
              "      <td>NaN</td>\n",
              "      <td>NaN</td>\n",
              "      <td>2</td>\n",
              "      <td>0.0</td>\n",
              "      <td>0.0</td>\n",
              "      <td>2</td>\n",
              "      <td>0.0</td>\n",
              "    </tr>\n",
              "  </tbody>\n",
              "</table>\n",
              "</div>"
            ],
            "text/plain": [
              "         fullVisitorId  visitNumberultima  ... pageviews transactionRevenue\n",
              "0  0002365800130207040                  1  ...         1                0.0\n",
              "1  0010286039787739137                  1  ...         3                0.0\n",
              "2  0011056874471185769                  1  ...         2                0.0\n",
              "3  0014443856125569702                  1  ...         1                0.0\n",
              "4  0017260116665815114                  6  ...         2                0.0\n",
              "\n",
              "[5 rows x 47 columns]"
            ]
          },
          "metadata": {
            "tags": []
          },
          "execution_count": 193
        }
      ]
    },
    {
      "cell_type": "markdown",
      "metadata": {
        "id": "poQ1_O20lPP7"
      },
      "source": [
        "visitStartTime é um número que pode ajudar para ver quanto tempo o usuário acessou da primeira e última vez, se foi horas, dias meses etc..."
      ]
    },
    {
      "cell_type": "code",
      "metadata": {
        "id": "rXlBX2J7le1f"
      },
      "source": [
        "visitas['tempo_dif'] = visitas.visitStartTimeultima - visitas.visitStartTimeprimeira"
      ],
      "execution_count": null,
      "outputs": []
    },
    {
      "cell_type": "code",
      "metadata": {
        "colab": {
          "base_uri": "https://localhost:8080/",
          "height": 396
        },
        "id": "YFzoiSHjl0Q6",
        "outputId": "6b466227-a50c-4c49-87f7-0531b2270b0f"
      },
      "source": [
        "visitas.head()"
      ],
      "execution_count": null,
      "outputs": [
        {
          "output_type": "execute_result",
          "data": {
            "text/html": [
              "<div>\n",
              "<style scoped>\n",
              "    .dataframe tbody tr th:only-of-type {\n",
              "        vertical-align: middle;\n",
              "    }\n",
              "\n",
              "    .dataframe tbody tr th {\n",
              "        vertical-align: top;\n",
              "    }\n",
              "\n",
              "    .dataframe thead th {\n",
              "        text-align: right;\n",
              "    }\n",
              "</style>\n",
              "<table border=\"1\" class=\"dataframe\">\n",
              "  <thead>\n",
              "    <tr style=\"text-align: right;\">\n",
              "      <th></th>\n",
              "      <th>fullVisitorId</th>\n",
              "      <th>visitNumberultima</th>\n",
              "      <th>channelGroupingultima</th>\n",
              "      <th>dateultima</th>\n",
              "      <th>visitStartTimeultima</th>\n",
              "      <th>browserultima</th>\n",
              "      <th>operatingSystemultima</th>\n",
              "      <th>isMobileultima</th>\n",
              "      <th>deviceCategoryultima</th>\n",
              "      <th>continentultima</th>\n",
              "      <th>subContinentultima</th>\n",
              "      <th>countryultima</th>\n",
              "      <th>regionultima</th>\n",
              "      <th>metroultima</th>\n",
              "      <th>cityultima</th>\n",
              "      <th>networkDomainultima</th>\n",
              "      <th>campaignultima</th>\n",
              "      <th>sourceultima</th>\n",
              "      <th>mediumultima</th>\n",
              "      <th>keywordultima</th>\n",
              "      <th>isTrueDirectultima</th>\n",
              "      <th>referralPathultima</th>\n",
              "      <th>adContentultima</th>\n",
              "      <th>campaignCodeultima</th>\n",
              "      <th>hitsultima</th>\n",
              "      <th>visitNumberprimeira</th>\n",
              "      <th>channelGroupingprimeira</th>\n",
              "      <th>dateprimeira</th>\n",
              "      <th>visitNumberprimeira</th>\n",
              "      <th>visitStartTimeprimeira</th>\n",
              "      <th>browserprimeira</th>\n",
              "      <th>operatingSystemprimeira</th>\n",
              "      <th>isMobileprimeira</th>\n",
              "      <th>deviceCategoryprimeira</th>\n",
              "      <th>campaignprimeira</th>\n",
              "      <th>sourceprimeira</th>\n",
              "      <th>mediumprimeira</th>\n",
              "      <th>keywordprimeira</th>\n",
              "      <th>isTrueDirectprimeira</th>\n",
              "      <th>referralPathprimeira</th>\n",
              "      <th>adContentprimeira</th>\n",
              "      <th>campaignCodeprimeira</th>\n",
              "      <th>hitsprimeira</th>\n",
              "      <th>bounces</th>\n",
              "      <th>newVisits</th>\n",
              "      <th>pageviews</th>\n",
              "      <th>transactionRevenue</th>\n",
              "      <th>tempo_dif</th>\n",
              "    </tr>\n",
              "  </thead>\n",
              "  <tbody>\n",
              "    <tr>\n",
              "      <th>0</th>\n",
              "      <td>0002365800130207040</td>\n",
              "      <td>1</td>\n",
              "      <td>Social</td>\n",
              "      <td>20160904</td>\n",
              "      <td>1472974804</td>\n",
              "      <td>Edge</td>\n",
              "      <td>Windows</td>\n",
              "      <td>False</td>\n",
              "      <td>desktop</td>\n",
              "      <td>Europe</td>\n",
              "      <td>Eastern Europe</td>\n",
              "      <td>Ukraine</td>\n",
              "      <td>not available in demo dataset</td>\n",
              "      <td>not available in demo dataset</td>\n",
              "      <td>not available in demo dataset</td>\n",
              "      <td>wildpark.net</td>\n",
              "      <td>(not set)</td>\n",
              "      <td>youtube.com</td>\n",
              "      <td>referral</td>\n",
              "      <td>NaN</td>\n",
              "      <td>NaN</td>\n",
              "      <td>/yt/about/ru/</td>\n",
              "      <td>NaN</td>\n",
              "      <td>NaN</td>\n",
              "      <td>1</td>\n",
              "      <td>1</td>\n",
              "      <td>Social</td>\n",
              "      <td>20160904</td>\n",
              "      <td>1</td>\n",
              "      <td>1472974804</td>\n",
              "      <td>Edge</td>\n",
              "      <td>Windows</td>\n",
              "      <td>False</td>\n",
              "      <td>desktop</td>\n",
              "      <td>(not set)</td>\n",
              "      <td>youtube.com</td>\n",
              "      <td>referral</td>\n",
              "      <td>NaN</td>\n",
              "      <td>NaN</td>\n",
              "      <td>/yt/about/ru/</td>\n",
              "      <td>NaN</td>\n",
              "      <td>NaN</td>\n",
              "      <td>1</td>\n",
              "      <td>1.0</td>\n",
              "      <td>1.0</td>\n",
              "      <td>1</td>\n",
              "      <td>0.0</td>\n",
              "      <td>0</td>\n",
              "    </tr>\n",
              "    <tr>\n",
              "      <th>1</th>\n",
              "      <td>0010286039787739137</td>\n",
              "      <td>1</td>\n",
              "      <td>Organic Search</td>\n",
              "      <td>20160928</td>\n",
              "      <td>1475084026</td>\n",
              "      <td>Chrome</td>\n",
              "      <td>Chrome OS</td>\n",
              "      <td>False</td>\n",
              "      <td>desktop</td>\n",
              "      <td>Americas</td>\n",
              "      <td>Northern America</td>\n",
              "      <td>United States</td>\n",
              "      <td>Missouri</td>\n",
              "      <td>Kansas City MO</td>\n",
              "      <td>Kansas City</td>\n",
              "      <td>(not set)</td>\n",
              "      <td>(not set)</td>\n",
              "      <td>google</td>\n",
              "      <td>organic</td>\n",
              "      <td>(not provided)</td>\n",
              "      <td>NaN</td>\n",
              "      <td>NaN</td>\n",
              "      <td>NaN</td>\n",
              "      <td>NaN</td>\n",
              "      <td>4</td>\n",
              "      <td>1</td>\n",
              "      <td>Organic Search</td>\n",
              "      <td>20160928</td>\n",
              "      <td>1</td>\n",
              "      <td>1475084026</td>\n",
              "      <td>Chrome</td>\n",
              "      <td>Chrome OS</td>\n",
              "      <td>False</td>\n",
              "      <td>desktop</td>\n",
              "      <td>(not set)</td>\n",
              "      <td>google</td>\n",
              "      <td>organic</td>\n",
              "      <td>(not provided)</td>\n",
              "      <td>NaN</td>\n",
              "      <td>NaN</td>\n",
              "      <td>NaN</td>\n",
              "      <td>NaN</td>\n",
              "      <td>4</td>\n",
              "      <td>0.0</td>\n",
              "      <td>1.0</td>\n",
              "      <td>3</td>\n",
              "      <td>0.0</td>\n",
              "      <td>0</td>\n",
              "    </tr>\n",
              "    <tr>\n",
              "      <th>2</th>\n",
              "      <td>0011056874471185769</td>\n",
              "      <td>1</td>\n",
              "      <td>Social</td>\n",
              "      <td>20161205</td>\n",
              "      <td>1480996024</td>\n",
              "      <td>Chrome</td>\n",
              "      <td>Windows</td>\n",
              "      <td>False</td>\n",
              "      <td>desktop</td>\n",
              "      <td>Asia</td>\n",
              "      <td>Southeast Asia</td>\n",
              "      <td>Philippines</td>\n",
              "      <td>not available in demo dataset</td>\n",
              "      <td>not available in demo dataset</td>\n",
              "      <td>not available in demo dataset</td>\n",
              "      <td>pldt.net</td>\n",
              "      <td>(not set)</td>\n",
              "      <td>youtube.com</td>\n",
              "      <td>referral</td>\n",
              "      <td>NaN</td>\n",
              "      <td>NaN</td>\n",
              "      <td>/yt/about/</td>\n",
              "      <td>NaN</td>\n",
              "      <td>NaN</td>\n",
              "      <td>2</td>\n",
              "      <td>1</td>\n",
              "      <td>Social</td>\n",
              "      <td>20161205</td>\n",
              "      <td>1</td>\n",
              "      <td>1480996024</td>\n",
              "      <td>Chrome</td>\n",
              "      <td>Windows</td>\n",
              "      <td>False</td>\n",
              "      <td>desktop</td>\n",
              "      <td>(not set)</td>\n",
              "      <td>youtube.com</td>\n",
              "      <td>referral</td>\n",
              "      <td>NaN</td>\n",
              "      <td>NaN</td>\n",
              "      <td>/yt/about/</td>\n",
              "      <td>NaN</td>\n",
              "      <td>NaN</td>\n",
              "      <td>2</td>\n",
              "      <td>0.0</td>\n",
              "      <td>1.0</td>\n",
              "      <td>2</td>\n",
              "      <td>0.0</td>\n",
              "      <td>0</td>\n",
              "    </tr>\n",
              "    <tr>\n",
              "      <th>3</th>\n",
              "      <td>0014443856125569702</td>\n",
              "      <td>1</td>\n",
              "      <td>Social</td>\n",
              "      <td>20161002</td>\n",
              "      <td>1475423502</td>\n",
              "      <td>Opera</td>\n",
              "      <td>Windows</td>\n",
              "      <td>False</td>\n",
              "      <td>desktop</td>\n",
              "      <td>Europe</td>\n",
              "      <td>Eastern Europe</td>\n",
              "      <td>Romania</td>\n",
              "      <td>Bucharest</td>\n",
              "      <td>(not set)</td>\n",
              "      <td>Bucharest</td>\n",
              "      <td>rdsnet.ro</td>\n",
              "      <td>(not set)</td>\n",
              "      <td>youtube.com</td>\n",
              "      <td>referral</td>\n",
              "      <td>NaN</td>\n",
              "      <td>NaN</td>\n",
              "      <td>/yt/about/ro/</td>\n",
              "      <td>NaN</td>\n",
              "      <td>NaN</td>\n",
              "      <td>1</td>\n",
              "      <td>1</td>\n",
              "      <td>Social</td>\n",
              "      <td>20161002</td>\n",
              "      <td>1</td>\n",
              "      <td>1475423502</td>\n",
              "      <td>Opera</td>\n",
              "      <td>Windows</td>\n",
              "      <td>False</td>\n",
              "      <td>desktop</td>\n",
              "      <td>(not set)</td>\n",
              "      <td>youtube.com</td>\n",
              "      <td>referral</td>\n",
              "      <td>NaN</td>\n",
              "      <td>NaN</td>\n",
              "      <td>/yt/about/ro/</td>\n",
              "      <td>NaN</td>\n",
              "      <td>NaN</td>\n",
              "      <td>1</td>\n",
              "      <td>1.0</td>\n",
              "      <td>1.0</td>\n",
              "      <td>1</td>\n",
              "      <td>0.0</td>\n",
              "      <td>0</td>\n",
              "    </tr>\n",
              "    <tr>\n",
              "      <th>4</th>\n",
              "      <td>0017260116665815114</td>\n",
              "      <td>6</td>\n",
              "      <td>Direct</td>\n",
              "      <td>20170420</td>\n",
              "      <td>1492707286</td>\n",
              "      <td>Safari</td>\n",
              "      <td>Macintosh</td>\n",
              "      <td>False</td>\n",
              "      <td>desktop</td>\n",
              "      <td>Americas</td>\n",
              "      <td>Northern America</td>\n",
              "      <td>United States</td>\n",
              "      <td>not available in demo dataset</td>\n",
              "      <td>not available in demo dataset</td>\n",
              "      <td>not available in demo dataset</td>\n",
              "      <td>comcastbusiness.net</td>\n",
              "      <td>(not set)</td>\n",
              "      <td>(direct)</td>\n",
              "      <td>(none)</td>\n",
              "      <td>NaN</td>\n",
              "      <td>True</td>\n",
              "      <td>NaN</td>\n",
              "      <td>NaN</td>\n",
              "      <td>NaN</td>\n",
              "      <td>2</td>\n",
              "      <td>6</td>\n",
              "      <td>Direct</td>\n",
              "      <td>20170420</td>\n",
              "      <td>6</td>\n",
              "      <td>1492707286</td>\n",
              "      <td>Safari</td>\n",
              "      <td>Macintosh</td>\n",
              "      <td>False</td>\n",
              "      <td>desktop</td>\n",
              "      <td>(not set)</td>\n",
              "      <td>(direct)</td>\n",
              "      <td>(none)</td>\n",
              "      <td>NaN</td>\n",
              "      <td>True</td>\n",
              "      <td>NaN</td>\n",
              "      <td>NaN</td>\n",
              "      <td>NaN</td>\n",
              "      <td>2</td>\n",
              "      <td>0.0</td>\n",
              "      <td>0.0</td>\n",
              "      <td>2</td>\n",
              "      <td>0.0</td>\n",
              "      <td>0</td>\n",
              "    </tr>\n",
              "  </tbody>\n",
              "</table>\n",
              "</div>"
            ],
            "text/plain": [
              "         fullVisitorId  visitNumberultima  ... transactionRevenue tempo_dif\n",
              "0  0002365800130207040                  1  ...                0.0         0\n",
              "1  0010286039787739137                  1  ...                0.0         0\n",
              "2  0011056874471185769                  1  ...                0.0         0\n",
              "3  0014443856125569702                  1  ...                0.0         0\n",
              "4  0017260116665815114                  6  ...                0.0         0\n",
              "\n",
              "[5 rows x 48 columns]"
            ]
          },
          "metadata": {
            "tags": []
          },
          "execution_count": 197
        }
      ]
    },
    {
      "cell_type": "markdown",
      "metadata": {
        "id": "adHkKcH4l_IW"
      },
      "source": [
        "Quantas visitas o usuário teve."
      ]
    },
    {
      "cell_type": "code",
      "metadata": {
        "id": "Js9ppEXAl59Y"
      },
      "source": [
        "visits = df.groupby('fullVisitorId', as_index=False).count().visitNumber.values \n",
        "# foi feita uma contagem de quantas vezes apareceu VisitNumber para cada usuário"
      ],
      "execution_count": null,
      "outputs": []
    },
    {
      "cell_type": "code",
      "metadata": {
        "colab": {
          "base_uri": "https://localhost:8080/"
        },
        "id": "IW6I_WJUnSBv",
        "outputId": "ebcb8763-f169-4489-b909-878503e4b75b"
      },
      "source": [
        "visits"
      ],
      "execution_count": null,
      "outputs": [
        {
          "output_type": "execute_result",
          "data": {
            "text/plain": [
              "array([1, 1, 1, ..., 1, 1, 2])"
            ]
          },
          "metadata": {
            "tags": []
          },
          "execution_count": 209
        }
      ]
    },
    {
      "cell_type": "code",
      "metadata": {
        "id": "TK282sHom2nG"
      },
      "source": [
        "visitas[\"visits\"] = visits"
      ],
      "execution_count": null,
      "outputs": []
    },
    {
      "cell_type": "code",
      "metadata": {
        "colab": {
          "base_uri": "https://localhost:8080/",
          "height": 396
        },
        "id": "XL5X4tUDm9kr",
        "outputId": "af13fd23-6268-4c5a-f48c-7e37c6d6d118"
      },
      "source": [
        "visitas.head()"
      ],
      "execution_count": null,
      "outputs": [
        {
          "output_type": "execute_result",
          "data": {
            "text/html": [
              "<div>\n",
              "<style scoped>\n",
              "    .dataframe tbody tr th:only-of-type {\n",
              "        vertical-align: middle;\n",
              "    }\n",
              "\n",
              "    .dataframe tbody tr th {\n",
              "        vertical-align: top;\n",
              "    }\n",
              "\n",
              "    .dataframe thead th {\n",
              "        text-align: right;\n",
              "    }\n",
              "</style>\n",
              "<table border=\"1\" class=\"dataframe\">\n",
              "  <thead>\n",
              "    <tr style=\"text-align: right;\">\n",
              "      <th></th>\n",
              "      <th>fullVisitorId</th>\n",
              "      <th>visitNumberultima</th>\n",
              "      <th>channelGroupingultima</th>\n",
              "      <th>dateultima</th>\n",
              "      <th>visitStartTimeultima</th>\n",
              "      <th>browserultima</th>\n",
              "      <th>operatingSystemultima</th>\n",
              "      <th>isMobileultima</th>\n",
              "      <th>deviceCategoryultima</th>\n",
              "      <th>continentultima</th>\n",
              "      <th>subContinentultima</th>\n",
              "      <th>countryultima</th>\n",
              "      <th>regionultima</th>\n",
              "      <th>metroultima</th>\n",
              "      <th>cityultima</th>\n",
              "      <th>networkDomainultima</th>\n",
              "      <th>campaignultima</th>\n",
              "      <th>sourceultima</th>\n",
              "      <th>mediumultima</th>\n",
              "      <th>keywordultima</th>\n",
              "      <th>isTrueDirectultima</th>\n",
              "      <th>referralPathultima</th>\n",
              "      <th>adContentultima</th>\n",
              "      <th>campaignCodeultima</th>\n",
              "      <th>hitsultima</th>\n",
              "      <th>visitNumberprimeira</th>\n",
              "      <th>channelGroupingprimeira</th>\n",
              "      <th>dateprimeira</th>\n",
              "      <th>visitNumberprimeira</th>\n",
              "      <th>visitStartTimeprimeira</th>\n",
              "      <th>browserprimeira</th>\n",
              "      <th>operatingSystemprimeira</th>\n",
              "      <th>isMobileprimeira</th>\n",
              "      <th>deviceCategoryprimeira</th>\n",
              "      <th>campaignprimeira</th>\n",
              "      <th>sourceprimeira</th>\n",
              "      <th>mediumprimeira</th>\n",
              "      <th>keywordprimeira</th>\n",
              "      <th>isTrueDirectprimeira</th>\n",
              "      <th>referralPathprimeira</th>\n",
              "      <th>adContentprimeira</th>\n",
              "      <th>campaignCodeprimeira</th>\n",
              "      <th>hitsprimeira</th>\n",
              "      <th>bounces</th>\n",
              "      <th>newVisits</th>\n",
              "      <th>pageviews</th>\n",
              "      <th>transactionRevenue</th>\n",
              "      <th>tempo_dif</th>\n",
              "      <th>visits</th>\n",
              "      <th>ano_ultima</th>\n",
              "      <th>mes_ultima</th>\n",
              "      <th>dia_ultima</th>\n",
              "    </tr>\n",
              "  </thead>\n",
              "  <tbody>\n",
              "    <tr>\n",
              "      <th>0</th>\n",
              "      <td>0002365800130207040</td>\n",
              "      <td>1</td>\n",
              "      <td>Social</td>\n",
              "      <td>20160904</td>\n",
              "      <td>1472974804</td>\n",
              "      <td>Edge</td>\n",
              "      <td>Windows</td>\n",
              "      <td>False</td>\n",
              "      <td>desktop</td>\n",
              "      <td>Europe</td>\n",
              "      <td>Eastern Europe</td>\n",
              "      <td>Ukraine</td>\n",
              "      <td>not available in demo dataset</td>\n",
              "      <td>not available in demo dataset</td>\n",
              "      <td>not available in demo dataset</td>\n",
              "      <td>wildpark.net</td>\n",
              "      <td>(not set)</td>\n",
              "      <td>youtube.com</td>\n",
              "      <td>referral</td>\n",
              "      <td>NaN</td>\n",
              "      <td>NaN</td>\n",
              "      <td>/yt/about/ru/</td>\n",
              "      <td>NaN</td>\n",
              "      <td>NaN</td>\n",
              "      <td>1</td>\n",
              "      <td>1</td>\n",
              "      <td>Social</td>\n",
              "      <td>20160904</td>\n",
              "      <td>1</td>\n",
              "      <td>1472974804</td>\n",
              "      <td>Edge</td>\n",
              "      <td>Windows</td>\n",
              "      <td>False</td>\n",
              "      <td>desktop</td>\n",
              "      <td>(not set)</td>\n",
              "      <td>youtube.com</td>\n",
              "      <td>referral</td>\n",
              "      <td>NaN</td>\n",
              "      <td>NaN</td>\n",
              "      <td>/yt/about/ru/</td>\n",
              "      <td>NaN</td>\n",
              "      <td>NaN</td>\n",
              "      <td>1</td>\n",
              "      <td>1.0</td>\n",
              "      <td>1.0</td>\n",
              "      <td>1</td>\n",
              "      <td>0.0</td>\n",
              "      <td>0</td>\n",
              "      <td>1</td>\n",
              "      <td>2016</td>\n",
              "      <td>9</td>\n",
              "      <td>4</td>\n",
              "    </tr>\n",
              "    <tr>\n",
              "      <th>1</th>\n",
              "      <td>0010286039787739137</td>\n",
              "      <td>1</td>\n",
              "      <td>Organic Search</td>\n",
              "      <td>20160928</td>\n",
              "      <td>1475084026</td>\n",
              "      <td>Chrome</td>\n",
              "      <td>Chrome OS</td>\n",
              "      <td>False</td>\n",
              "      <td>desktop</td>\n",
              "      <td>Americas</td>\n",
              "      <td>Northern America</td>\n",
              "      <td>United States</td>\n",
              "      <td>Missouri</td>\n",
              "      <td>Kansas City MO</td>\n",
              "      <td>Kansas City</td>\n",
              "      <td>(not set)</td>\n",
              "      <td>(not set)</td>\n",
              "      <td>google</td>\n",
              "      <td>organic</td>\n",
              "      <td>(not provided)</td>\n",
              "      <td>NaN</td>\n",
              "      <td>NaN</td>\n",
              "      <td>NaN</td>\n",
              "      <td>NaN</td>\n",
              "      <td>4</td>\n",
              "      <td>1</td>\n",
              "      <td>Organic Search</td>\n",
              "      <td>20160928</td>\n",
              "      <td>1</td>\n",
              "      <td>1475084026</td>\n",
              "      <td>Chrome</td>\n",
              "      <td>Chrome OS</td>\n",
              "      <td>False</td>\n",
              "      <td>desktop</td>\n",
              "      <td>(not set)</td>\n",
              "      <td>google</td>\n",
              "      <td>organic</td>\n",
              "      <td>(not provided)</td>\n",
              "      <td>NaN</td>\n",
              "      <td>NaN</td>\n",
              "      <td>NaN</td>\n",
              "      <td>NaN</td>\n",
              "      <td>4</td>\n",
              "      <td>0.0</td>\n",
              "      <td>1.0</td>\n",
              "      <td>3</td>\n",
              "      <td>0.0</td>\n",
              "      <td>0</td>\n",
              "      <td>1</td>\n",
              "      <td>2016</td>\n",
              "      <td>9</td>\n",
              "      <td>28</td>\n",
              "    </tr>\n",
              "    <tr>\n",
              "      <th>2</th>\n",
              "      <td>0011056874471185769</td>\n",
              "      <td>1</td>\n",
              "      <td>Social</td>\n",
              "      <td>20161205</td>\n",
              "      <td>1480996024</td>\n",
              "      <td>Chrome</td>\n",
              "      <td>Windows</td>\n",
              "      <td>False</td>\n",
              "      <td>desktop</td>\n",
              "      <td>Asia</td>\n",
              "      <td>Southeast Asia</td>\n",
              "      <td>Philippines</td>\n",
              "      <td>not available in demo dataset</td>\n",
              "      <td>not available in demo dataset</td>\n",
              "      <td>not available in demo dataset</td>\n",
              "      <td>pldt.net</td>\n",
              "      <td>(not set)</td>\n",
              "      <td>youtube.com</td>\n",
              "      <td>referral</td>\n",
              "      <td>NaN</td>\n",
              "      <td>NaN</td>\n",
              "      <td>/yt/about/</td>\n",
              "      <td>NaN</td>\n",
              "      <td>NaN</td>\n",
              "      <td>2</td>\n",
              "      <td>1</td>\n",
              "      <td>Social</td>\n",
              "      <td>20161205</td>\n",
              "      <td>1</td>\n",
              "      <td>1480996024</td>\n",
              "      <td>Chrome</td>\n",
              "      <td>Windows</td>\n",
              "      <td>False</td>\n",
              "      <td>desktop</td>\n",
              "      <td>(not set)</td>\n",
              "      <td>youtube.com</td>\n",
              "      <td>referral</td>\n",
              "      <td>NaN</td>\n",
              "      <td>NaN</td>\n",
              "      <td>/yt/about/</td>\n",
              "      <td>NaN</td>\n",
              "      <td>NaN</td>\n",
              "      <td>2</td>\n",
              "      <td>0.0</td>\n",
              "      <td>1.0</td>\n",
              "      <td>2</td>\n",
              "      <td>0.0</td>\n",
              "      <td>0</td>\n",
              "      <td>1</td>\n",
              "      <td>2016</td>\n",
              "      <td>12</td>\n",
              "      <td>5</td>\n",
              "    </tr>\n",
              "    <tr>\n",
              "      <th>3</th>\n",
              "      <td>0014443856125569702</td>\n",
              "      <td>1</td>\n",
              "      <td>Social</td>\n",
              "      <td>20161002</td>\n",
              "      <td>1475423502</td>\n",
              "      <td>Opera</td>\n",
              "      <td>Windows</td>\n",
              "      <td>False</td>\n",
              "      <td>desktop</td>\n",
              "      <td>Europe</td>\n",
              "      <td>Eastern Europe</td>\n",
              "      <td>Romania</td>\n",
              "      <td>Bucharest</td>\n",
              "      <td>(not set)</td>\n",
              "      <td>Bucharest</td>\n",
              "      <td>rdsnet.ro</td>\n",
              "      <td>(not set)</td>\n",
              "      <td>youtube.com</td>\n",
              "      <td>referral</td>\n",
              "      <td>NaN</td>\n",
              "      <td>NaN</td>\n",
              "      <td>/yt/about/ro/</td>\n",
              "      <td>NaN</td>\n",
              "      <td>NaN</td>\n",
              "      <td>1</td>\n",
              "      <td>1</td>\n",
              "      <td>Social</td>\n",
              "      <td>20161002</td>\n",
              "      <td>1</td>\n",
              "      <td>1475423502</td>\n",
              "      <td>Opera</td>\n",
              "      <td>Windows</td>\n",
              "      <td>False</td>\n",
              "      <td>desktop</td>\n",
              "      <td>(not set)</td>\n",
              "      <td>youtube.com</td>\n",
              "      <td>referral</td>\n",
              "      <td>NaN</td>\n",
              "      <td>NaN</td>\n",
              "      <td>/yt/about/ro/</td>\n",
              "      <td>NaN</td>\n",
              "      <td>NaN</td>\n",
              "      <td>1</td>\n",
              "      <td>1.0</td>\n",
              "      <td>1.0</td>\n",
              "      <td>1</td>\n",
              "      <td>0.0</td>\n",
              "      <td>0</td>\n",
              "      <td>1</td>\n",
              "      <td>2016</td>\n",
              "      <td>10</td>\n",
              "      <td>2</td>\n",
              "    </tr>\n",
              "    <tr>\n",
              "      <th>4</th>\n",
              "      <td>0017260116665815114</td>\n",
              "      <td>6</td>\n",
              "      <td>Direct</td>\n",
              "      <td>20170420</td>\n",
              "      <td>1492707286</td>\n",
              "      <td>Safari</td>\n",
              "      <td>Macintosh</td>\n",
              "      <td>False</td>\n",
              "      <td>desktop</td>\n",
              "      <td>Americas</td>\n",
              "      <td>Northern America</td>\n",
              "      <td>United States</td>\n",
              "      <td>not available in demo dataset</td>\n",
              "      <td>not available in demo dataset</td>\n",
              "      <td>not available in demo dataset</td>\n",
              "      <td>comcastbusiness.net</td>\n",
              "      <td>(not set)</td>\n",
              "      <td>(direct)</td>\n",
              "      <td>(none)</td>\n",
              "      <td>NaN</td>\n",
              "      <td>True</td>\n",
              "      <td>NaN</td>\n",
              "      <td>NaN</td>\n",
              "      <td>NaN</td>\n",
              "      <td>2</td>\n",
              "      <td>6</td>\n",
              "      <td>Direct</td>\n",
              "      <td>20170420</td>\n",
              "      <td>6</td>\n",
              "      <td>1492707286</td>\n",
              "      <td>Safari</td>\n",
              "      <td>Macintosh</td>\n",
              "      <td>False</td>\n",
              "      <td>desktop</td>\n",
              "      <td>(not set)</td>\n",
              "      <td>(direct)</td>\n",
              "      <td>(none)</td>\n",
              "      <td>NaN</td>\n",
              "      <td>True</td>\n",
              "      <td>NaN</td>\n",
              "      <td>NaN</td>\n",
              "      <td>NaN</td>\n",
              "      <td>2</td>\n",
              "      <td>0.0</td>\n",
              "      <td>0.0</td>\n",
              "      <td>2</td>\n",
              "      <td>0.0</td>\n",
              "      <td>0</td>\n",
              "      <td>1</td>\n",
              "      <td>2017</td>\n",
              "      <td>4</td>\n",
              "      <td>20</td>\n",
              "    </tr>\n",
              "  </tbody>\n",
              "</table>\n",
              "</div>"
            ],
            "text/plain": [
              "         fullVisitorId  visitNumberultima  ... mes_ultima dia_ultima\n",
              "0  0002365800130207040                  1  ...          9          4\n",
              "1  0010286039787739137                  1  ...          9         28\n",
              "2  0011056874471185769                  1  ...         12          5\n",
              "3  0014443856125569702                  1  ...         10          2\n",
              "4  0017260116665815114                  6  ...          4         20\n",
              "\n",
              "[5 rows x 52 columns]"
            ]
          },
          "metadata": {
            "tags": []
          },
          "execution_count": 229
        }
      ]
    },
    {
      "cell_type": "markdown",
      "metadata": {
        "id": "yB7QQmoyoJjX"
      },
      "source": [
        "vamos criar variáveis de tempo para descobrirmso sazonalidade, datas comemorativas etc\n"
      ]
    },
    {
      "cell_type": "code",
      "metadata": {
        "colab": {
          "base_uri": "https://localhost:8080/",
          "height": 34
        },
        "id": "HY1Q10OpnCh4",
        "outputId": "d1df602d-2876-4c64-f965-10ba88a060dd"
      },
      "source": [
        "data =\"20160904\"\t\n",
        "data"
      ],
      "execution_count": null,
      "outputs": [
        {
          "output_type": "execute_result",
          "data": {
            "application/vnd.google.colaboratory.intrinsic+json": {
              "type": "string"
            },
            "text/plain": [
              "'20160904'"
            ]
          },
          "metadata": {
            "tags": []
          },
          "execution_count": 215
        }
      ]
    },
    {
      "cell_type": "code",
      "metadata": {
        "colab": {
          "base_uri": "https://localhost:8080/",
          "height": 34
        },
        "id": "SDBcs8EkoegW",
        "outputId": "c5a1a5bf-5c83-46c4-99e0-37ad7951055e"
      },
      "source": [
        "data[6:8]"
      ],
      "execution_count": null,
      "outputs": [
        {
          "output_type": "execute_result",
          "data": {
            "application/vnd.google.colaboratory.intrinsic+json": {
              "type": "string"
            },
            "text/plain": [
              "'04'"
            ]
          },
          "metadata": {
            "tags": []
          },
          "execution_count": 219
        }
      ]
    },
    {
      "cell_type": "code",
      "metadata": {
        "id": "Z0ffwTcZowr_"
      },
      "source": [
        "visitas['ano_ultima'] = pd.to_numeric([data[0:4] for data in visitas.dateultima])\n",
        "visitas['mes_ultima'] = pd.to_numeric([data[4:6] for data in visitas.dateultima])\n",
        "visitas['dia_ultima'] = pd.to_numeric([data[6:8] for data in visitas.dateultima])"
      ],
      "execution_count": null,
      "outputs": []
    },
    {
      "cell_type": "code",
      "metadata": {
        "id": "GajFHrTpx9Pa"
      },
      "source": [
        "visitas['ano_primeira'] = pd.to_numeric([data[0:4] for data in visitas.dateprimeira])\n",
        "visitas['mes_primeira'] = pd.to_numeric([data[4:6] for data in visitas.dateprimeira])\n",
        "visitas['dia_primeira'] = pd.to_numeric([data[6:8] for data in visitas.dateprimeira])"
      ],
      "execution_count": null,
      "outputs": []
    },
    {
      "cell_type": "code",
      "metadata": {
        "colab": {
          "base_uri": "https://localhost:8080/",
          "height": 396
        },
        "id": "eNNn7XB5y5ig",
        "outputId": "739d2d3e-7b51-43f1-dee5-6fdf0466c8f5"
      },
      "source": [
        "visitas.head()"
      ],
      "execution_count": null,
      "outputs": [
        {
          "output_type": "execute_result",
          "data": {
            "text/html": [
              "<div>\n",
              "<style scoped>\n",
              "    .dataframe tbody tr th:only-of-type {\n",
              "        vertical-align: middle;\n",
              "    }\n",
              "\n",
              "    .dataframe tbody tr th {\n",
              "        vertical-align: top;\n",
              "    }\n",
              "\n",
              "    .dataframe thead th {\n",
              "        text-align: right;\n",
              "    }\n",
              "</style>\n",
              "<table border=\"1\" class=\"dataframe\">\n",
              "  <thead>\n",
              "    <tr style=\"text-align: right;\">\n",
              "      <th></th>\n",
              "      <th>fullVisitorId</th>\n",
              "      <th>visitNumberultima</th>\n",
              "      <th>channelGroupingultima</th>\n",
              "      <th>dateultima</th>\n",
              "      <th>visitStartTimeultima</th>\n",
              "      <th>browserultima</th>\n",
              "      <th>operatingSystemultima</th>\n",
              "      <th>isMobileultima</th>\n",
              "      <th>deviceCategoryultima</th>\n",
              "      <th>continentultima</th>\n",
              "      <th>subContinentultima</th>\n",
              "      <th>countryultima</th>\n",
              "      <th>regionultima</th>\n",
              "      <th>metroultima</th>\n",
              "      <th>cityultima</th>\n",
              "      <th>networkDomainultima</th>\n",
              "      <th>campaignultima</th>\n",
              "      <th>sourceultima</th>\n",
              "      <th>mediumultima</th>\n",
              "      <th>keywordultima</th>\n",
              "      <th>isTrueDirectultima</th>\n",
              "      <th>referralPathultima</th>\n",
              "      <th>adContentultima</th>\n",
              "      <th>campaignCodeultima</th>\n",
              "      <th>hitsultima</th>\n",
              "      <th>visitNumberprimeira</th>\n",
              "      <th>channelGroupingprimeira</th>\n",
              "      <th>dateprimeira</th>\n",
              "      <th>visitNumberprimeira</th>\n",
              "      <th>visitStartTimeprimeira</th>\n",
              "      <th>browserprimeira</th>\n",
              "      <th>operatingSystemprimeira</th>\n",
              "      <th>isMobileprimeira</th>\n",
              "      <th>deviceCategoryprimeira</th>\n",
              "      <th>campaignprimeira</th>\n",
              "      <th>sourceprimeira</th>\n",
              "      <th>mediumprimeira</th>\n",
              "      <th>keywordprimeira</th>\n",
              "      <th>isTrueDirectprimeira</th>\n",
              "      <th>referralPathprimeira</th>\n",
              "      <th>adContentprimeira</th>\n",
              "      <th>campaignCodeprimeira</th>\n",
              "      <th>hitsprimeira</th>\n",
              "      <th>bounces</th>\n",
              "      <th>newVisits</th>\n",
              "      <th>pageviews</th>\n",
              "      <th>transactionRevenue</th>\n",
              "      <th>tempo_dif</th>\n",
              "      <th>visits</th>\n",
              "      <th>ano_ultima</th>\n",
              "      <th>mes_ultima</th>\n",
              "      <th>dia_ultima</th>\n",
              "      <th>ano_primeira</th>\n",
              "      <th>mes_primeira</th>\n",
              "      <th>dia_primeira</th>\n",
              "    </tr>\n",
              "  </thead>\n",
              "  <tbody>\n",
              "    <tr>\n",
              "      <th>0</th>\n",
              "      <td>0002365800130207040</td>\n",
              "      <td>1</td>\n",
              "      <td>Social</td>\n",
              "      <td>20160904</td>\n",
              "      <td>1472974804</td>\n",
              "      <td>Edge</td>\n",
              "      <td>Windows</td>\n",
              "      <td>False</td>\n",
              "      <td>desktop</td>\n",
              "      <td>Europe</td>\n",
              "      <td>Eastern Europe</td>\n",
              "      <td>Ukraine</td>\n",
              "      <td>not available in demo dataset</td>\n",
              "      <td>not available in demo dataset</td>\n",
              "      <td>not available in demo dataset</td>\n",
              "      <td>wildpark.net</td>\n",
              "      <td>(not set)</td>\n",
              "      <td>youtube.com</td>\n",
              "      <td>referral</td>\n",
              "      <td>NaN</td>\n",
              "      <td>NaN</td>\n",
              "      <td>/yt/about/ru/</td>\n",
              "      <td>NaN</td>\n",
              "      <td>NaN</td>\n",
              "      <td>1</td>\n",
              "      <td>1</td>\n",
              "      <td>Social</td>\n",
              "      <td>20160904</td>\n",
              "      <td>1</td>\n",
              "      <td>1472974804</td>\n",
              "      <td>Edge</td>\n",
              "      <td>Windows</td>\n",
              "      <td>False</td>\n",
              "      <td>desktop</td>\n",
              "      <td>(not set)</td>\n",
              "      <td>youtube.com</td>\n",
              "      <td>referral</td>\n",
              "      <td>NaN</td>\n",
              "      <td>NaN</td>\n",
              "      <td>/yt/about/ru/</td>\n",
              "      <td>NaN</td>\n",
              "      <td>NaN</td>\n",
              "      <td>1</td>\n",
              "      <td>1.0</td>\n",
              "      <td>1.0</td>\n",
              "      <td>1</td>\n",
              "      <td>0.0</td>\n",
              "      <td>0</td>\n",
              "      <td>1</td>\n",
              "      <td>2016</td>\n",
              "      <td>9</td>\n",
              "      <td>4</td>\n",
              "      <td>2016</td>\n",
              "      <td>9</td>\n",
              "      <td>4</td>\n",
              "    </tr>\n",
              "    <tr>\n",
              "      <th>1</th>\n",
              "      <td>0010286039787739137</td>\n",
              "      <td>1</td>\n",
              "      <td>Organic Search</td>\n",
              "      <td>20160928</td>\n",
              "      <td>1475084026</td>\n",
              "      <td>Chrome</td>\n",
              "      <td>Chrome OS</td>\n",
              "      <td>False</td>\n",
              "      <td>desktop</td>\n",
              "      <td>Americas</td>\n",
              "      <td>Northern America</td>\n",
              "      <td>United States</td>\n",
              "      <td>Missouri</td>\n",
              "      <td>Kansas City MO</td>\n",
              "      <td>Kansas City</td>\n",
              "      <td>(not set)</td>\n",
              "      <td>(not set)</td>\n",
              "      <td>google</td>\n",
              "      <td>organic</td>\n",
              "      <td>(not provided)</td>\n",
              "      <td>NaN</td>\n",
              "      <td>NaN</td>\n",
              "      <td>NaN</td>\n",
              "      <td>NaN</td>\n",
              "      <td>4</td>\n",
              "      <td>1</td>\n",
              "      <td>Organic Search</td>\n",
              "      <td>20160928</td>\n",
              "      <td>1</td>\n",
              "      <td>1475084026</td>\n",
              "      <td>Chrome</td>\n",
              "      <td>Chrome OS</td>\n",
              "      <td>False</td>\n",
              "      <td>desktop</td>\n",
              "      <td>(not set)</td>\n",
              "      <td>google</td>\n",
              "      <td>organic</td>\n",
              "      <td>(not provided)</td>\n",
              "      <td>NaN</td>\n",
              "      <td>NaN</td>\n",
              "      <td>NaN</td>\n",
              "      <td>NaN</td>\n",
              "      <td>4</td>\n",
              "      <td>0.0</td>\n",
              "      <td>1.0</td>\n",
              "      <td>3</td>\n",
              "      <td>0.0</td>\n",
              "      <td>0</td>\n",
              "      <td>1</td>\n",
              "      <td>2016</td>\n",
              "      <td>9</td>\n",
              "      <td>28</td>\n",
              "      <td>2016</td>\n",
              "      <td>9</td>\n",
              "      <td>28</td>\n",
              "    </tr>\n",
              "    <tr>\n",
              "      <th>2</th>\n",
              "      <td>0011056874471185769</td>\n",
              "      <td>1</td>\n",
              "      <td>Social</td>\n",
              "      <td>20161205</td>\n",
              "      <td>1480996024</td>\n",
              "      <td>Chrome</td>\n",
              "      <td>Windows</td>\n",
              "      <td>False</td>\n",
              "      <td>desktop</td>\n",
              "      <td>Asia</td>\n",
              "      <td>Southeast Asia</td>\n",
              "      <td>Philippines</td>\n",
              "      <td>not available in demo dataset</td>\n",
              "      <td>not available in demo dataset</td>\n",
              "      <td>not available in demo dataset</td>\n",
              "      <td>pldt.net</td>\n",
              "      <td>(not set)</td>\n",
              "      <td>youtube.com</td>\n",
              "      <td>referral</td>\n",
              "      <td>NaN</td>\n",
              "      <td>NaN</td>\n",
              "      <td>/yt/about/</td>\n",
              "      <td>NaN</td>\n",
              "      <td>NaN</td>\n",
              "      <td>2</td>\n",
              "      <td>1</td>\n",
              "      <td>Social</td>\n",
              "      <td>20161205</td>\n",
              "      <td>1</td>\n",
              "      <td>1480996024</td>\n",
              "      <td>Chrome</td>\n",
              "      <td>Windows</td>\n",
              "      <td>False</td>\n",
              "      <td>desktop</td>\n",
              "      <td>(not set)</td>\n",
              "      <td>youtube.com</td>\n",
              "      <td>referral</td>\n",
              "      <td>NaN</td>\n",
              "      <td>NaN</td>\n",
              "      <td>/yt/about/</td>\n",
              "      <td>NaN</td>\n",
              "      <td>NaN</td>\n",
              "      <td>2</td>\n",
              "      <td>0.0</td>\n",
              "      <td>1.0</td>\n",
              "      <td>2</td>\n",
              "      <td>0.0</td>\n",
              "      <td>0</td>\n",
              "      <td>1</td>\n",
              "      <td>2016</td>\n",
              "      <td>12</td>\n",
              "      <td>5</td>\n",
              "      <td>2016</td>\n",
              "      <td>12</td>\n",
              "      <td>5</td>\n",
              "    </tr>\n",
              "    <tr>\n",
              "      <th>3</th>\n",
              "      <td>0014443856125569702</td>\n",
              "      <td>1</td>\n",
              "      <td>Social</td>\n",
              "      <td>20161002</td>\n",
              "      <td>1475423502</td>\n",
              "      <td>Opera</td>\n",
              "      <td>Windows</td>\n",
              "      <td>False</td>\n",
              "      <td>desktop</td>\n",
              "      <td>Europe</td>\n",
              "      <td>Eastern Europe</td>\n",
              "      <td>Romania</td>\n",
              "      <td>Bucharest</td>\n",
              "      <td>(not set)</td>\n",
              "      <td>Bucharest</td>\n",
              "      <td>rdsnet.ro</td>\n",
              "      <td>(not set)</td>\n",
              "      <td>youtube.com</td>\n",
              "      <td>referral</td>\n",
              "      <td>NaN</td>\n",
              "      <td>NaN</td>\n",
              "      <td>/yt/about/ro/</td>\n",
              "      <td>NaN</td>\n",
              "      <td>NaN</td>\n",
              "      <td>1</td>\n",
              "      <td>1</td>\n",
              "      <td>Social</td>\n",
              "      <td>20161002</td>\n",
              "      <td>1</td>\n",
              "      <td>1475423502</td>\n",
              "      <td>Opera</td>\n",
              "      <td>Windows</td>\n",
              "      <td>False</td>\n",
              "      <td>desktop</td>\n",
              "      <td>(not set)</td>\n",
              "      <td>youtube.com</td>\n",
              "      <td>referral</td>\n",
              "      <td>NaN</td>\n",
              "      <td>NaN</td>\n",
              "      <td>/yt/about/ro/</td>\n",
              "      <td>NaN</td>\n",
              "      <td>NaN</td>\n",
              "      <td>1</td>\n",
              "      <td>1.0</td>\n",
              "      <td>1.0</td>\n",
              "      <td>1</td>\n",
              "      <td>0.0</td>\n",
              "      <td>0</td>\n",
              "      <td>1</td>\n",
              "      <td>2016</td>\n",
              "      <td>10</td>\n",
              "      <td>2</td>\n",
              "      <td>2016</td>\n",
              "      <td>10</td>\n",
              "      <td>2</td>\n",
              "    </tr>\n",
              "    <tr>\n",
              "      <th>4</th>\n",
              "      <td>0017260116665815114</td>\n",
              "      <td>6</td>\n",
              "      <td>Direct</td>\n",
              "      <td>20170420</td>\n",
              "      <td>1492707286</td>\n",
              "      <td>Safari</td>\n",
              "      <td>Macintosh</td>\n",
              "      <td>False</td>\n",
              "      <td>desktop</td>\n",
              "      <td>Americas</td>\n",
              "      <td>Northern America</td>\n",
              "      <td>United States</td>\n",
              "      <td>not available in demo dataset</td>\n",
              "      <td>not available in demo dataset</td>\n",
              "      <td>not available in demo dataset</td>\n",
              "      <td>comcastbusiness.net</td>\n",
              "      <td>(not set)</td>\n",
              "      <td>(direct)</td>\n",
              "      <td>(none)</td>\n",
              "      <td>NaN</td>\n",
              "      <td>True</td>\n",
              "      <td>NaN</td>\n",
              "      <td>NaN</td>\n",
              "      <td>NaN</td>\n",
              "      <td>2</td>\n",
              "      <td>6</td>\n",
              "      <td>Direct</td>\n",
              "      <td>20170420</td>\n",
              "      <td>6</td>\n",
              "      <td>1492707286</td>\n",
              "      <td>Safari</td>\n",
              "      <td>Macintosh</td>\n",
              "      <td>False</td>\n",
              "      <td>desktop</td>\n",
              "      <td>(not set)</td>\n",
              "      <td>(direct)</td>\n",
              "      <td>(none)</td>\n",
              "      <td>NaN</td>\n",
              "      <td>True</td>\n",
              "      <td>NaN</td>\n",
              "      <td>NaN</td>\n",
              "      <td>NaN</td>\n",
              "      <td>2</td>\n",
              "      <td>0.0</td>\n",
              "      <td>0.0</td>\n",
              "      <td>2</td>\n",
              "      <td>0.0</td>\n",
              "      <td>0</td>\n",
              "      <td>1</td>\n",
              "      <td>2017</td>\n",
              "      <td>4</td>\n",
              "      <td>20</td>\n",
              "      <td>2017</td>\n",
              "      <td>4</td>\n",
              "      <td>20</td>\n",
              "    </tr>\n",
              "  </tbody>\n",
              "</table>\n",
              "</div>"
            ],
            "text/plain": [
              "         fullVisitorId  visitNumberultima  ... mes_primeira dia_primeira\n",
              "0  0002365800130207040                  1  ...            9            4\n",
              "1  0010286039787739137                  1  ...            9           28\n",
              "2  0011056874471185769                  1  ...           12            5\n",
              "3  0014443856125569702                  1  ...           10            2\n",
              "4  0017260116665815114                  6  ...            4           20\n",
              "\n",
              "[5 rows x 55 columns]"
            ]
          },
          "metadata": {
            "tags": []
          },
          "execution_count": 232
        }
      ]
    },
    {
      "cell_type": "code",
      "metadata": {
        "colab": {
          "base_uri": "https://localhost:8080/"
        },
        "id": "7xJhQ-ixzWWo",
        "outputId": "4a780d4f-1cdf-4ca0-8688-2508196d92ca"
      },
      "source": [
        "visitas.shape"
      ],
      "execution_count": null,
      "outputs": [
        {
          "output_type": "execute_result",
          "data": {
            "text/plain": [
              "(9997, 55)"
            ]
          },
          "metadata": {
            "tags": []
          },
          "execution_count": 239
        }
      ]
    },
    {
      "cell_type": "markdown",
      "metadata": {
        "id": "GOPXukqxMn1a"
      },
      "source": [
        "#**5 - Treinando novos modelos**"
      ]
    },
    {
      "cell_type": "markdown",
      "metadata": {
        "id": "5khTpW1b1KHr"
      },
      "source": [
        "##**Identificando os tipos de colunas**"
      ]
    },
    {
      "cell_type": "code",
      "metadata": {
        "id": "9iZSFZ_MChmx",
        "colab": {
          "base_uri": "https://localhost:8080/"
        },
        "outputId": "a85e8acc-9905-419f-c9b7-28f078bfce4b"
      },
      "source": [
        "visitas.dtypes"
      ],
      "execution_count": null,
      "outputs": [
        {
          "output_type": "execute_result",
          "data": {
            "text/plain": [
              "fullVisitorId               object\n",
              "visitNumberultima            int64\n",
              "channelGroupingultima       object\n",
              "dateultima                  object\n",
              "visitStartTimeultima         int64\n",
              "browserultima               object\n",
              "operatingSystemultima       object\n",
              "isMobileultima                bool\n",
              "deviceCategoryultima        object\n",
              "continentultima             object\n",
              "subContinentultima          object\n",
              "countryultima               object\n",
              "regionultima                object\n",
              "metroultima                 object\n",
              "cityultima                  object\n",
              "networkDomainultima         object\n",
              "campaignultima              object\n",
              "sourceultima                object\n",
              "mediumultima                object\n",
              "keywordultima               object\n",
              "isTrueDirectultima          object\n",
              "referralPathultima          object\n",
              "adContentultima             object\n",
              "campaignCodeultima          object\n",
              "hitsultima                  object\n",
              "visitNumberprimeira          int64\n",
              "channelGroupingprimeira     object\n",
              "dateprimeira                object\n",
              "visitNumberprimeira          int64\n",
              "visitStartTimeprimeira       int64\n",
              "browserprimeira             object\n",
              "operatingSystemprimeira     object\n",
              "isMobileprimeira              bool\n",
              "deviceCategoryprimeira      object\n",
              "campaignprimeira            object\n",
              "sourceprimeira              object\n",
              "mediumprimeira              object\n",
              "keywordprimeira             object\n",
              "isTrueDirectprimeira        object\n",
              "referralPathprimeira        object\n",
              "adContentprimeira           object\n",
              "campaignCodeprimeira        object\n",
              "hitsprimeira                object\n",
              "bounces                    float64\n",
              "newVisits                  float64\n",
              "pageviews                    int64\n",
              "transactionRevenue         float64\n",
              "tempo_dif                    int64\n",
              "visits                       int64\n",
              "ano_ultima                   int64\n",
              "mes_ultima                   int64\n",
              "dia_ultima                   int64\n",
              "ano_primeira                 int64\n",
              "mes_primeira                 int64\n",
              "dia_primeira                 int64\n",
              "dtype: object"
            ]
          },
          "metadata": {
            "tags": []
          },
          "execution_count": 241
        }
      ]
    },
    {
      "cell_type": "code",
      "metadata": {
        "colab": {
          "base_uri": "https://localhost:8080/",
          "height": 396
        },
        "id": "hcHPSI6a1ZoY",
        "outputId": "2de13273-e756-40c4-820b-a81c0825293e"
      },
      "source": [
        "visitas.drop('fullVisitorId', inplace=True, axis=1)\n",
        "\n",
        "visitas.head()"
      ],
      "execution_count": null,
      "outputs": [
        {
          "output_type": "execute_result",
          "data": {
            "text/html": [
              "<div>\n",
              "<style scoped>\n",
              "    .dataframe tbody tr th:only-of-type {\n",
              "        vertical-align: middle;\n",
              "    }\n",
              "\n",
              "    .dataframe tbody tr th {\n",
              "        vertical-align: top;\n",
              "    }\n",
              "\n",
              "    .dataframe thead th {\n",
              "        text-align: right;\n",
              "    }\n",
              "</style>\n",
              "<table border=\"1\" class=\"dataframe\">\n",
              "  <thead>\n",
              "    <tr style=\"text-align: right;\">\n",
              "      <th></th>\n",
              "      <th>visitNumberultima</th>\n",
              "      <th>channelGroupingultima</th>\n",
              "      <th>dateultima</th>\n",
              "      <th>visitStartTimeultima</th>\n",
              "      <th>browserultima</th>\n",
              "      <th>operatingSystemultima</th>\n",
              "      <th>isMobileultima</th>\n",
              "      <th>deviceCategoryultima</th>\n",
              "      <th>continentultima</th>\n",
              "      <th>subContinentultima</th>\n",
              "      <th>countryultima</th>\n",
              "      <th>regionultima</th>\n",
              "      <th>metroultima</th>\n",
              "      <th>cityultima</th>\n",
              "      <th>networkDomainultima</th>\n",
              "      <th>campaignultima</th>\n",
              "      <th>sourceultima</th>\n",
              "      <th>mediumultima</th>\n",
              "      <th>keywordultima</th>\n",
              "      <th>isTrueDirectultima</th>\n",
              "      <th>referralPathultima</th>\n",
              "      <th>adContentultima</th>\n",
              "      <th>campaignCodeultima</th>\n",
              "      <th>hitsultima</th>\n",
              "      <th>visitNumberprimeira</th>\n",
              "      <th>channelGroupingprimeira</th>\n",
              "      <th>dateprimeira</th>\n",
              "      <th>visitNumberprimeira</th>\n",
              "      <th>visitStartTimeprimeira</th>\n",
              "      <th>browserprimeira</th>\n",
              "      <th>operatingSystemprimeira</th>\n",
              "      <th>isMobileprimeira</th>\n",
              "      <th>deviceCategoryprimeira</th>\n",
              "      <th>campaignprimeira</th>\n",
              "      <th>sourceprimeira</th>\n",
              "      <th>mediumprimeira</th>\n",
              "      <th>keywordprimeira</th>\n",
              "      <th>isTrueDirectprimeira</th>\n",
              "      <th>referralPathprimeira</th>\n",
              "      <th>adContentprimeira</th>\n",
              "      <th>campaignCodeprimeira</th>\n",
              "      <th>hitsprimeira</th>\n",
              "      <th>bounces</th>\n",
              "      <th>newVisits</th>\n",
              "      <th>pageviews</th>\n",
              "      <th>transactionRevenue</th>\n",
              "      <th>tempo_dif</th>\n",
              "      <th>visits</th>\n",
              "      <th>ano_ultima</th>\n",
              "      <th>mes_ultima</th>\n",
              "      <th>dia_ultima</th>\n",
              "      <th>ano_primeira</th>\n",
              "      <th>mes_primeira</th>\n",
              "      <th>dia_primeira</th>\n",
              "    </tr>\n",
              "  </thead>\n",
              "  <tbody>\n",
              "    <tr>\n",
              "      <th>0</th>\n",
              "      <td>1</td>\n",
              "      <td>Social</td>\n",
              "      <td>20160904</td>\n",
              "      <td>1472974804</td>\n",
              "      <td>Edge</td>\n",
              "      <td>Windows</td>\n",
              "      <td>False</td>\n",
              "      <td>desktop</td>\n",
              "      <td>Europe</td>\n",
              "      <td>Eastern Europe</td>\n",
              "      <td>Ukraine</td>\n",
              "      <td>not available in demo dataset</td>\n",
              "      <td>not available in demo dataset</td>\n",
              "      <td>not available in demo dataset</td>\n",
              "      <td>wildpark.net</td>\n",
              "      <td>(not set)</td>\n",
              "      <td>youtube.com</td>\n",
              "      <td>referral</td>\n",
              "      <td>NaN</td>\n",
              "      <td>NaN</td>\n",
              "      <td>/yt/about/ru/</td>\n",
              "      <td>NaN</td>\n",
              "      <td>NaN</td>\n",
              "      <td>1</td>\n",
              "      <td>1</td>\n",
              "      <td>Social</td>\n",
              "      <td>20160904</td>\n",
              "      <td>1</td>\n",
              "      <td>1472974804</td>\n",
              "      <td>Edge</td>\n",
              "      <td>Windows</td>\n",
              "      <td>False</td>\n",
              "      <td>desktop</td>\n",
              "      <td>(not set)</td>\n",
              "      <td>youtube.com</td>\n",
              "      <td>referral</td>\n",
              "      <td>NaN</td>\n",
              "      <td>NaN</td>\n",
              "      <td>/yt/about/ru/</td>\n",
              "      <td>NaN</td>\n",
              "      <td>NaN</td>\n",
              "      <td>1</td>\n",
              "      <td>1.0</td>\n",
              "      <td>1.0</td>\n",
              "      <td>1</td>\n",
              "      <td>0.0</td>\n",
              "      <td>0</td>\n",
              "      <td>1</td>\n",
              "      <td>2016</td>\n",
              "      <td>9</td>\n",
              "      <td>4</td>\n",
              "      <td>2016</td>\n",
              "      <td>9</td>\n",
              "      <td>4</td>\n",
              "    </tr>\n",
              "    <tr>\n",
              "      <th>1</th>\n",
              "      <td>1</td>\n",
              "      <td>Organic Search</td>\n",
              "      <td>20160928</td>\n",
              "      <td>1475084026</td>\n",
              "      <td>Chrome</td>\n",
              "      <td>Chrome OS</td>\n",
              "      <td>False</td>\n",
              "      <td>desktop</td>\n",
              "      <td>Americas</td>\n",
              "      <td>Northern America</td>\n",
              "      <td>United States</td>\n",
              "      <td>Missouri</td>\n",
              "      <td>Kansas City MO</td>\n",
              "      <td>Kansas City</td>\n",
              "      <td>(not set)</td>\n",
              "      <td>(not set)</td>\n",
              "      <td>google</td>\n",
              "      <td>organic</td>\n",
              "      <td>(not provided)</td>\n",
              "      <td>NaN</td>\n",
              "      <td>NaN</td>\n",
              "      <td>NaN</td>\n",
              "      <td>NaN</td>\n",
              "      <td>4</td>\n",
              "      <td>1</td>\n",
              "      <td>Organic Search</td>\n",
              "      <td>20160928</td>\n",
              "      <td>1</td>\n",
              "      <td>1475084026</td>\n",
              "      <td>Chrome</td>\n",
              "      <td>Chrome OS</td>\n",
              "      <td>False</td>\n",
              "      <td>desktop</td>\n",
              "      <td>(not set)</td>\n",
              "      <td>google</td>\n",
              "      <td>organic</td>\n",
              "      <td>(not provided)</td>\n",
              "      <td>NaN</td>\n",
              "      <td>NaN</td>\n",
              "      <td>NaN</td>\n",
              "      <td>NaN</td>\n",
              "      <td>4</td>\n",
              "      <td>0.0</td>\n",
              "      <td>1.0</td>\n",
              "      <td>3</td>\n",
              "      <td>0.0</td>\n",
              "      <td>0</td>\n",
              "      <td>1</td>\n",
              "      <td>2016</td>\n",
              "      <td>9</td>\n",
              "      <td>28</td>\n",
              "      <td>2016</td>\n",
              "      <td>9</td>\n",
              "      <td>28</td>\n",
              "    </tr>\n",
              "    <tr>\n",
              "      <th>2</th>\n",
              "      <td>1</td>\n",
              "      <td>Social</td>\n",
              "      <td>20161205</td>\n",
              "      <td>1480996024</td>\n",
              "      <td>Chrome</td>\n",
              "      <td>Windows</td>\n",
              "      <td>False</td>\n",
              "      <td>desktop</td>\n",
              "      <td>Asia</td>\n",
              "      <td>Southeast Asia</td>\n",
              "      <td>Philippines</td>\n",
              "      <td>not available in demo dataset</td>\n",
              "      <td>not available in demo dataset</td>\n",
              "      <td>not available in demo dataset</td>\n",
              "      <td>pldt.net</td>\n",
              "      <td>(not set)</td>\n",
              "      <td>youtube.com</td>\n",
              "      <td>referral</td>\n",
              "      <td>NaN</td>\n",
              "      <td>NaN</td>\n",
              "      <td>/yt/about/</td>\n",
              "      <td>NaN</td>\n",
              "      <td>NaN</td>\n",
              "      <td>2</td>\n",
              "      <td>1</td>\n",
              "      <td>Social</td>\n",
              "      <td>20161205</td>\n",
              "      <td>1</td>\n",
              "      <td>1480996024</td>\n",
              "      <td>Chrome</td>\n",
              "      <td>Windows</td>\n",
              "      <td>False</td>\n",
              "      <td>desktop</td>\n",
              "      <td>(not set)</td>\n",
              "      <td>youtube.com</td>\n",
              "      <td>referral</td>\n",
              "      <td>NaN</td>\n",
              "      <td>NaN</td>\n",
              "      <td>/yt/about/</td>\n",
              "      <td>NaN</td>\n",
              "      <td>NaN</td>\n",
              "      <td>2</td>\n",
              "      <td>0.0</td>\n",
              "      <td>1.0</td>\n",
              "      <td>2</td>\n",
              "      <td>0.0</td>\n",
              "      <td>0</td>\n",
              "      <td>1</td>\n",
              "      <td>2016</td>\n",
              "      <td>12</td>\n",
              "      <td>5</td>\n",
              "      <td>2016</td>\n",
              "      <td>12</td>\n",
              "      <td>5</td>\n",
              "    </tr>\n",
              "    <tr>\n",
              "      <th>3</th>\n",
              "      <td>1</td>\n",
              "      <td>Social</td>\n",
              "      <td>20161002</td>\n",
              "      <td>1475423502</td>\n",
              "      <td>Opera</td>\n",
              "      <td>Windows</td>\n",
              "      <td>False</td>\n",
              "      <td>desktop</td>\n",
              "      <td>Europe</td>\n",
              "      <td>Eastern Europe</td>\n",
              "      <td>Romania</td>\n",
              "      <td>Bucharest</td>\n",
              "      <td>(not set)</td>\n",
              "      <td>Bucharest</td>\n",
              "      <td>rdsnet.ro</td>\n",
              "      <td>(not set)</td>\n",
              "      <td>youtube.com</td>\n",
              "      <td>referral</td>\n",
              "      <td>NaN</td>\n",
              "      <td>NaN</td>\n",
              "      <td>/yt/about/ro/</td>\n",
              "      <td>NaN</td>\n",
              "      <td>NaN</td>\n",
              "      <td>1</td>\n",
              "      <td>1</td>\n",
              "      <td>Social</td>\n",
              "      <td>20161002</td>\n",
              "      <td>1</td>\n",
              "      <td>1475423502</td>\n",
              "      <td>Opera</td>\n",
              "      <td>Windows</td>\n",
              "      <td>False</td>\n",
              "      <td>desktop</td>\n",
              "      <td>(not set)</td>\n",
              "      <td>youtube.com</td>\n",
              "      <td>referral</td>\n",
              "      <td>NaN</td>\n",
              "      <td>NaN</td>\n",
              "      <td>/yt/about/ro/</td>\n",
              "      <td>NaN</td>\n",
              "      <td>NaN</td>\n",
              "      <td>1</td>\n",
              "      <td>1.0</td>\n",
              "      <td>1.0</td>\n",
              "      <td>1</td>\n",
              "      <td>0.0</td>\n",
              "      <td>0</td>\n",
              "      <td>1</td>\n",
              "      <td>2016</td>\n",
              "      <td>10</td>\n",
              "      <td>2</td>\n",
              "      <td>2016</td>\n",
              "      <td>10</td>\n",
              "      <td>2</td>\n",
              "    </tr>\n",
              "    <tr>\n",
              "      <th>4</th>\n",
              "      <td>6</td>\n",
              "      <td>Direct</td>\n",
              "      <td>20170420</td>\n",
              "      <td>1492707286</td>\n",
              "      <td>Safari</td>\n",
              "      <td>Macintosh</td>\n",
              "      <td>False</td>\n",
              "      <td>desktop</td>\n",
              "      <td>Americas</td>\n",
              "      <td>Northern America</td>\n",
              "      <td>United States</td>\n",
              "      <td>not available in demo dataset</td>\n",
              "      <td>not available in demo dataset</td>\n",
              "      <td>not available in demo dataset</td>\n",
              "      <td>comcastbusiness.net</td>\n",
              "      <td>(not set)</td>\n",
              "      <td>(direct)</td>\n",
              "      <td>(none)</td>\n",
              "      <td>NaN</td>\n",
              "      <td>True</td>\n",
              "      <td>NaN</td>\n",
              "      <td>NaN</td>\n",
              "      <td>NaN</td>\n",
              "      <td>2</td>\n",
              "      <td>6</td>\n",
              "      <td>Direct</td>\n",
              "      <td>20170420</td>\n",
              "      <td>6</td>\n",
              "      <td>1492707286</td>\n",
              "      <td>Safari</td>\n",
              "      <td>Macintosh</td>\n",
              "      <td>False</td>\n",
              "      <td>desktop</td>\n",
              "      <td>(not set)</td>\n",
              "      <td>(direct)</td>\n",
              "      <td>(none)</td>\n",
              "      <td>NaN</td>\n",
              "      <td>True</td>\n",
              "      <td>NaN</td>\n",
              "      <td>NaN</td>\n",
              "      <td>NaN</td>\n",
              "      <td>2</td>\n",
              "      <td>0.0</td>\n",
              "      <td>0.0</td>\n",
              "      <td>2</td>\n",
              "      <td>0.0</td>\n",
              "      <td>0</td>\n",
              "      <td>1</td>\n",
              "      <td>2017</td>\n",
              "      <td>4</td>\n",
              "      <td>20</td>\n",
              "      <td>2017</td>\n",
              "      <td>4</td>\n",
              "      <td>20</td>\n",
              "    </tr>\n",
              "  </tbody>\n",
              "</table>\n",
              "</div>"
            ],
            "text/plain": [
              "   visitNumberultima channelGroupingultima  ... mes_primeira  dia_primeira\n",
              "0                  1                Social  ...            9             4\n",
              "1                  1        Organic Search  ...            9            28\n",
              "2                  1                Social  ...           12             5\n",
              "3                  1                Social  ...           10             2\n",
              "4                  6                Direct  ...            4            20\n",
              "\n",
              "[5 rows x 54 columns]"
            ]
          },
          "metadata": {
            "tags": []
          },
          "execution_count": 247
        }
      ]
    },
    {
      "cell_type": "code",
      "metadata": {
        "id": "4EFOS9kU1xEY"
      },
      "source": [
        "y = visitas.transactionRevenue.copy()"
      ],
      "execution_count": null,
      "outputs": []
    },
    {
      "cell_type": "code",
      "metadata": {
        "colab": {
          "base_uri": "https://localhost:8080/",
          "height": 396
        },
        "id": "0KLi4WKh2bye",
        "outputId": "4fd7f349-bfc7-4442-900f-45abc88c01eb"
      },
      "source": [
        "x = visitas.drop('transactionRevenue', axis=1)\n",
        "x.head()"
      ],
      "execution_count": null,
      "outputs": [
        {
          "output_type": "execute_result",
          "data": {
            "text/html": [
              "<div>\n",
              "<style scoped>\n",
              "    .dataframe tbody tr th:only-of-type {\n",
              "        vertical-align: middle;\n",
              "    }\n",
              "\n",
              "    .dataframe tbody tr th {\n",
              "        vertical-align: top;\n",
              "    }\n",
              "\n",
              "    .dataframe thead th {\n",
              "        text-align: right;\n",
              "    }\n",
              "</style>\n",
              "<table border=\"1\" class=\"dataframe\">\n",
              "  <thead>\n",
              "    <tr style=\"text-align: right;\">\n",
              "      <th></th>\n",
              "      <th>visitNumberultima</th>\n",
              "      <th>channelGroupingultima</th>\n",
              "      <th>dateultima</th>\n",
              "      <th>visitStartTimeultima</th>\n",
              "      <th>browserultima</th>\n",
              "      <th>operatingSystemultima</th>\n",
              "      <th>isMobileultima</th>\n",
              "      <th>deviceCategoryultima</th>\n",
              "      <th>continentultima</th>\n",
              "      <th>subContinentultima</th>\n",
              "      <th>countryultima</th>\n",
              "      <th>regionultima</th>\n",
              "      <th>metroultima</th>\n",
              "      <th>cityultima</th>\n",
              "      <th>networkDomainultima</th>\n",
              "      <th>campaignultima</th>\n",
              "      <th>sourceultima</th>\n",
              "      <th>mediumultima</th>\n",
              "      <th>keywordultima</th>\n",
              "      <th>isTrueDirectultima</th>\n",
              "      <th>referralPathultima</th>\n",
              "      <th>adContentultima</th>\n",
              "      <th>campaignCodeultima</th>\n",
              "      <th>hitsultima</th>\n",
              "      <th>visitNumberprimeira</th>\n",
              "      <th>channelGroupingprimeira</th>\n",
              "      <th>dateprimeira</th>\n",
              "      <th>visitNumberprimeira</th>\n",
              "      <th>visitStartTimeprimeira</th>\n",
              "      <th>browserprimeira</th>\n",
              "      <th>operatingSystemprimeira</th>\n",
              "      <th>isMobileprimeira</th>\n",
              "      <th>deviceCategoryprimeira</th>\n",
              "      <th>campaignprimeira</th>\n",
              "      <th>sourceprimeira</th>\n",
              "      <th>mediumprimeira</th>\n",
              "      <th>keywordprimeira</th>\n",
              "      <th>isTrueDirectprimeira</th>\n",
              "      <th>referralPathprimeira</th>\n",
              "      <th>adContentprimeira</th>\n",
              "      <th>campaignCodeprimeira</th>\n",
              "      <th>hitsprimeira</th>\n",
              "      <th>bounces</th>\n",
              "      <th>newVisits</th>\n",
              "      <th>pageviews</th>\n",
              "      <th>tempo_dif</th>\n",
              "      <th>visits</th>\n",
              "      <th>ano_ultima</th>\n",
              "      <th>mes_ultima</th>\n",
              "      <th>dia_ultima</th>\n",
              "      <th>ano_primeira</th>\n",
              "      <th>mes_primeira</th>\n",
              "      <th>dia_primeira</th>\n",
              "    </tr>\n",
              "  </thead>\n",
              "  <tbody>\n",
              "    <tr>\n",
              "      <th>0</th>\n",
              "      <td>1</td>\n",
              "      <td>Social</td>\n",
              "      <td>20160904</td>\n",
              "      <td>1472974804</td>\n",
              "      <td>Edge</td>\n",
              "      <td>Windows</td>\n",
              "      <td>False</td>\n",
              "      <td>desktop</td>\n",
              "      <td>Europe</td>\n",
              "      <td>Eastern Europe</td>\n",
              "      <td>Ukraine</td>\n",
              "      <td>not available in demo dataset</td>\n",
              "      <td>not available in demo dataset</td>\n",
              "      <td>not available in demo dataset</td>\n",
              "      <td>wildpark.net</td>\n",
              "      <td>(not set)</td>\n",
              "      <td>youtube.com</td>\n",
              "      <td>referral</td>\n",
              "      <td>NaN</td>\n",
              "      <td>NaN</td>\n",
              "      <td>/yt/about/ru/</td>\n",
              "      <td>NaN</td>\n",
              "      <td>NaN</td>\n",
              "      <td>1</td>\n",
              "      <td>1</td>\n",
              "      <td>Social</td>\n",
              "      <td>20160904</td>\n",
              "      <td>1</td>\n",
              "      <td>1472974804</td>\n",
              "      <td>Edge</td>\n",
              "      <td>Windows</td>\n",
              "      <td>False</td>\n",
              "      <td>desktop</td>\n",
              "      <td>(not set)</td>\n",
              "      <td>youtube.com</td>\n",
              "      <td>referral</td>\n",
              "      <td>NaN</td>\n",
              "      <td>NaN</td>\n",
              "      <td>/yt/about/ru/</td>\n",
              "      <td>NaN</td>\n",
              "      <td>NaN</td>\n",
              "      <td>1</td>\n",
              "      <td>1.0</td>\n",
              "      <td>1.0</td>\n",
              "      <td>1</td>\n",
              "      <td>0</td>\n",
              "      <td>1</td>\n",
              "      <td>2016</td>\n",
              "      <td>9</td>\n",
              "      <td>4</td>\n",
              "      <td>2016</td>\n",
              "      <td>9</td>\n",
              "      <td>4</td>\n",
              "    </tr>\n",
              "    <tr>\n",
              "      <th>1</th>\n",
              "      <td>1</td>\n",
              "      <td>Organic Search</td>\n",
              "      <td>20160928</td>\n",
              "      <td>1475084026</td>\n",
              "      <td>Chrome</td>\n",
              "      <td>Chrome OS</td>\n",
              "      <td>False</td>\n",
              "      <td>desktop</td>\n",
              "      <td>Americas</td>\n",
              "      <td>Northern America</td>\n",
              "      <td>United States</td>\n",
              "      <td>Missouri</td>\n",
              "      <td>Kansas City MO</td>\n",
              "      <td>Kansas City</td>\n",
              "      <td>(not set)</td>\n",
              "      <td>(not set)</td>\n",
              "      <td>google</td>\n",
              "      <td>organic</td>\n",
              "      <td>(not provided)</td>\n",
              "      <td>NaN</td>\n",
              "      <td>NaN</td>\n",
              "      <td>NaN</td>\n",
              "      <td>NaN</td>\n",
              "      <td>4</td>\n",
              "      <td>1</td>\n",
              "      <td>Organic Search</td>\n",
              "      <td>20160928</td>\n",
              "      <td>1</td>\n",
              "      <td>1475084026</td>\n",
              "      <td>Chrome</td>\n",
              "      <td>Chrome OS</td>\n",
              "      <td>False</td>\n",
              "      <td>desktop</td>\n",
              "      <td>(not set)</td>\n",
              "      <td>google</td>\n",
              "      <td>organic</td>\n",
              "      <td>(not provided)</td>\n",
              "      <td>NaN</td>\n",
              "      <td>NaN</td>\n",
              "      <td>NaN</td>\n",
              "      <td>NaN</td>\n",
              "      <td>4</td>\n",
              "      <td>0.0</td>\n",
              "      <td>1.0</td>\n",
              "      <td>3</td>\n",
              "      <td>0</td>\n",
              "      <td>1</td>\n",
              "      <td>2016</td>\n",
              "      <td>9</td>\n",
              "      <td>28</td>\n",
              "      <td>2016</td>\n",
              "      <td>9</td>\n",
              "      <td>28</td>\n",
              "    </tr>\n",
              "    <tr>\n",
              "      <th>2</th>\n",
              "      <td>1</td>\n",
              "      <td>Social</td>\n",
              "      <td>20161205</td>\n",
              "      <td>1480996024</td>\n",
              "      <td>Chrome</td>\n",
              "      <td>Windows</td>\n",
              "      <td>False</td>\n",
              "      <td>desktop</td>\n",
              "      <td>Asia</td>\n",
              "      <td>Southeast Asia</td>\n",
              "      <td>Philippines</td>\n",
              "      <td>not available in demo dataset</td>\n",
              "      <td>not available in demo dataset</td>\n",
              "      <td>not available in demo dataset</td>\n",
              "      <td>pldt.net</td>\n",
              "      <td>(not set)</td>\n",
              "      <td>youtube.com</td>\n",
              "      <td>referral</td>\n",
              "      <td>NaN</td>\n",
              "      <td>NaN</td>\n",
              "      <td>/yt/about/</td>\n",
              "      <td>NaN</td>\n",
              "      <td>NaN</td>\n",
              "      <td>2</td>\n",
              "      <td>1</td>\n",
              "      <td>Social</td>\n",
              "      <td>20161205</td>\n",
              "      <td>1</td>\n",
              "      <td>1480996024</td>\n",
              "      <td>Chrome</td>\n",
              "      <td>Windows</td>\n",
              "      <td>False</td>\n",
              "      <td>desktop</td>\n",
              "      <td>(not set)</td>\n",
              "      <td>youtube.com</td>\n",
              "      <td>referral</td>\n",
              "      <td>NaN</td>\n",
              "      <td>NaN</td>\n",
              "      <td>/yt/about/</td>\n",
              "      <td>NaN</td>\n",
              "      <td>NaN</td>\n",
              "      <td>2</td>\n",
              "      <td>0.0</td>\n",
              "      <td>1.0</td>\n",
              "      <td>2</td>\n",
              "      <td>0</td>\n",
              "      <td>1</td>\n",
              "      <td>2016</td>\n",
              "      <td>12</td>\n",
              "      <td>5</td>\n",
              "      <td>2016</td>\n",
              "      <td>12</td>\n",
              "      <td>5</td>\n",
              "    </tr>\n",
              "    <tr>\n",
              "      <th>3</th>\n",
              "      <td>1</td>\n",
              "      <td>Social</td>\n",
              "      <td>20161002</td>\n",
              "      <td>1475423502</td>\n",
              "      <td>Opera</td>\n",
              "      <td>Windows</td>\n",
              "      <td>False</td>\n",
              "      <td>desktop</td>\n",
              "      <td>Europe</td>\n",
              "      <td>Eastern Europe</td>\n",
              "      <td>Romania</td>\n",
              "      <td>Bucharest</td>\n",
              "      <td>(not set)</td>\n",
              "      <td>Bucharest</td>\n",
              "      <td>rdsnet.ro</td>\n",
              "      <td>(not set)</td>\n",
              "      <td>youtube.com</td>\n",
              "      <td>referral</td>\n",
              "      <td>NaN</td>\n",
              "      <td>NaN</td>\n",
              "      <td>/yt/about/ro/</td>\n",
              "      <td>NaN</td>\n",
              "      <td>NaN</td>\n",
              "      <td>1</td>\n",
              "      <td>1</td>\n",
              "      <td>Social</td>\n",
              "      <td>20161002</td>\n",
              "      <td>1</td>\n",
              "      <td>1475423502</td>\n",
              "      <td>Opera</td>\n",
              "      <td>Windows</td>\n",
              "      <td>False</td>\n",
              "      <td>desktop</td>\n",
              "      <td>(not set)</td>\n",
              "      <td>youtube.com</td>\n",
              "      <td>referral</td>\n",
              "      <td>NaN</td>\n",
              "      <td>NaN</td>\n",
              "      <td>/yt/about/ro/</td>\n",
              "      <td>NaN</td>\n",
              "      <td>NaN</td>\n",
              "      <td>1</td>\n",
              "      <td>1.0</td>\n",
              "      <td>1.0</td>\n",
              "      <td>1</td>\n",
              "      <td>0</td>\n",
              "      <td>1</td>\n",
              "      <td>2016</td>\n",
              "      <td>10</td>\n",
              "      <td>2</td>\n",
              "      <td>2016</td>\n",
              "      <td>10</td>\n",
              "      <td>2</td>\n",
              "    </tr>\n",
              "    <tr>\n",
              "      <th>4</th>\n",
              "      <td>6</td>\n",
              "      <td>Direct</td>\n",
              "      <td>20170420</td>\n",
              "      <td>1492707286</td>\n",
              "      <td>Safari</td>\n",
              "      <td>Macintosh</td>\n",
              "      <td>False</td>\n",
              "      <td>desktop</td>\n",
              "      <td>Americas</td>\n",
              "      <td>Northern America</td>\n",
              "      <td>United States</td>\n",
              "      <td>not available in demo dataset</td>\n",
              "      <td>not available in demo dataset</td>\n",
              "      <td>not available in demo dataset</td>\n",
              "      <td>comcastbusiness.net</td>\n",
              "      <td>(not set)</td>\n",
              "      <td>(direct)</td>\n",
              "      <td>(none)</td>\n",
              "      <td>NaN</td>\n",
              "      <td>True</td>\n",
              "      <td>NaN</td>\n",
              "      <td>NaN</td>\n",
              "      <td>NaN</td>\n",
              "      <td>2</td>\n",
              "      <td>6</td>\n",
              "      <td>Direct</td>\n",
              "      <td>20170420</td>\n",
              "      <td>6</td>\n",
              "      <td>1492707286</td>\n",
              "      <td>Safari</td>\n",
              "      <td>Macintosh</td>\n",
              "      <td>False</td>\n",
              "      <td>desktop</td>\n",
              "      <td>(not set)</td>\n",
              "      <td>(direct)</td>\n",
              "      <td>(none)</td>\n",
              "      <td>NaN</td>\n",
              "      <td>True</td>\n",
              "      <td>NaN</td>\n",
              "      <td>NaN</td>\n",
              "      <td>NaN</td>\n",
              "      <td>2</td>\n",
              "      <td>0.0</td>\n",
              "      <td>0.0</td>\n",
              "      <td>2</td>\n",
              "      <td>0</td>\n",
              "      <td>1</td>\n",
              "      <td>2017</td>\n",
              "      <td>4</td>\n",
              "      <td>20</td>\n",
              "      <td>2017</td>\n",
              "      <td>4</td>\n",
              "      <td>20</td>\n",
              "    </tr>\n",
              "  </tbody>\n",
              "</table>\n",
              "</div>"
            ],
            "text/plain": [
              "   visitNumberultima channelGroupingultima  ... mes_primeira  dia_primeira\n",
              "0                  1                Social  ...            9             4\n",
              "1                  1        Organic Search  ...            9            28\n",
              "2                  1                Social  ...           12             5\n",
              "3                  1                Social  ...           10             2\n",
              "4                  6                Direct  ...            4            20\n",
              "\n",
              "[5 rows x 53 columns]"
            ]
          },
          "metadata": {
            "tags": []
          },
          "execution_count": 250
        }
      ]
    },
    {
      "cell_type": "code",
      "metadata": {
        "colab": {
          "base_uri": "https://localhost:8080/"
        },
        "id": "4O7rPcvB2pX9",
        "outputId": "723a5942-128f-44f3-ff71-1872a089b9d8"
      },
      "source": [
        "quali = visitas.dtypes[visitas.dtypes == object].keys()\n",
        "quali # todas as variáveis qualitativas"
      ],
      "execution_count": null,
      "outputs": [
        {
          "output_type": "execute_result",
          "data": {
            "text/plain": [
              "Index(['channelGroupingultima', 'dateultima', 'browserultima',\n",
              "       'operatingSystemultima', 'deviceCategoryultima', 'continentultima',\n",
              "       'subContinentultima', 'countryultima', 'regionultima', 'metroultima',\n",
              "       'cityultima', 'networkDomainultima', 'campaignultima', 'sourceultima',\n",
              "       'mediumultima', 'keywordultima', 'isTrueDirectultima',\n",
              "       'referralPathultima', 'adContentultima', 'campaignCodeultima',\n",
              "       'hitsultima', 'channelGroupingprimeira', 'dateprimeira',\n",
              "       'browserprimeira', 'operatingSystemprimeira', 'deviceCategoryprimeira',\n",
              "       'campaignprimeira', 'sourceprimeira', 'mediumprimeira',\n",
              "       'keywordprimeira', 'isTrueDirectprimeira', 'referralPathprimeira',\n",
              "       'adContentprimeira', 'campaignCodeprimeira', 'hitsprimeira'],\n",
              "      dtype='object')"
            ]
          },
          "metadata": {
            "tags": []
          },
          "execution_count": 257
        }
      ]
    },
    {
      "cell_type": "markdown",
      "metadata": {
        "id": "6IbrSGgI3i80"
      },
      "source": [
        "##**Label Encoder**"
      ]
    },
    {
      "cell_type": "code",
      "metadata": {
        "id": "f_dcltju2yZ0"
      },
      "source": [
        "from sklearn.preprocessing import LabelEncoder\n",
        "#label encoder substitui variáveis qualitativas por um número"
      ],
      "execution_count": null,
      "outputs": []
    },
    {
      "cell_type": "markdown",
      "metadata": {
        "id": "3uIM6kl75tJj"
      },
      "source": [
        "Temos que garantir que todos os valores são textos"
      ]
    },
    {
      "cell_type": "code",
      "metadata": {
        "id": "gf9ttWYe53yI"
      },
      "source": [
        "strings = list(x.operatingSystemultima.values.astype('str')) #garanto que todos os valores são textos"
      ],
      "execution_count": null,
      "outputs": []
    },
    {
      "cell_type": "code",
      "metadata": {
        "id": "ynhl7aM_4hsI"
      },
      "source": [
        "lbl = LabelEncoder()"
      ],
      "execution_count": null,
      "outputs": []
    },
    {
      "cell_type": "code",
      "metadata": {
        "colab": {
          "base_uri": "https://localhost:8080/"
        },
        "id": "Kiih7Sku4nWV",
        "outputId": "7440ea0f-6b33-4712-8178-62b5a7c84990"
      },
      "source": [
        "lbl.fit(strings) # fit aprende com os dados"
      ],
      "execution_count": null,
      "outputs": [
        {
          "output_type": "execute_result",
          "data": {
            "text/plain": [
              "LabelEncoder()"
            ]
          },
          "metadata": {
            "tags": []
          },
          "execution_count": 273
        }
      ]
    },
    {
      "cell_type": "code",
      "metadata": {
        "colab": {
          "base_uri": "https://localhost:8080/"
        },
        "id": "AXteNtCB5Ly5",
        "outputId": "e2209d3a-4857-45f2-c871-89f46ce901d4"
      },
      "source": [
        "lbl.transform(strings) #onde quero aplicar e transforma os dados"
      ],
      "execution_count": null,
      "outputs": [
        {
          "output_type": "execute_result",
          "data": {
            "text/plain": [
              "array([ 9,  3,  9, ..., 11,  1,  9])"
            ]
          },
          "metadata": {
            "tags": []
          },
          "execution_count": 274
        }
      ]
    },
    {
      "cell_type": "markdown",
      "metadata": {
        "id": "isR1NDGy7Mx6"
      },
      "source": [
        "**Fazendo para todas as variáveis**"
      ]
    },
    {
      "cell_type": "code",
      "metadata": {
        "colab": {
          "base_uri": "https://localhost:8080/"
        },
        "id": "U6ijEoZM5x0C",
        "outputId": "7ed4bd09-cc72-4efd-a594-e0b97865e527"
      },
      "source": [
        "for coluna in quali:\n",
        "  lbl = LabelEncoder()\n",
        "  strings=list(x[coluna].values.astype('str'))\n",
        "  lbl.fit(strings)\n",
        "  x[coluna] = lbl.transform(strings)\n"
      ],
      "execution_count": null,
      "outputs": [
        {
          "output_type": "stream",
          "text": [
            "/usr/local/lib/python3.6/dist-packages/ipykernel_launcher.py:5: SettingWithCopyWarning: \n",
            "A value is trying to be set on a copy of a slice from a DataFrame.\n",
            "Try using .loc[row_indexer,col_indexer] = value instead\n",
            "\n",
            "See the caveats in the documentation: https://pandas.pydata.org/pandas-docs/stable/user_guide/indexing.html#returning-a-view-versus-a-copy\n",
            "  \"\"\"\n"
          ],
          "name": "stderr"
        }
      ]
    },
    {
      "cell_type": "code",
      "metadata": {
        "colab": {
          "base_uri": "https://localhost:8080/",
          "height": 222
        },
        "id": "kYyY4HJN7Bpf",
        "outputId": "62f60d81-c908-466e-9c6b-c6f0e6e9a29b"
      },
      "source": [
        "x.head()"
      ],
      "execution_count": null,
      "outputs": [
        {
          "output_type": "execute_result",
          "data": {
            "text/html": [
              "<div>\n",
              "<style scoped>\n",
              "    .dataframe tbody tr th:only-of-type {\n",
              "        vertical-align: middle;\n",
              "    }\n",
              "\n",
              "    .dataframe tbody tr th {\n",
              "        vertical-align: top;\n",
              "    }\n",
              "\n",
              "    .dataframe thead th {\n",
              "        text-align: right;\n",
              "    }\n",
              "</style>\n",
              "<table border=\"1\" class=\"dataframe\">\n",
              "  <thead>\n",
              "    <tr style=\"text-align: right;\">\n",
              "      <th></th>\n",
              "      <th>visitNumberultima</th>\n",
              "      <th>channelGroupingultima</th>\n",
              "      <th>dateultima</th>\n",
              "      <th>visitStartTimeultima</th>\n",
              "      <th>browserultima</th>\n",
              "      <th>operatingSystemultima</th>\n",
              "      <th>isMobileultima</th>\n",
              "      <th>deviceCategoryultima</th>\n",
              "      <th>continentultima</th>\n",
              "      <th>subContinentultima</th>\n",
              "      <th>countryultima</th>\n",
              "      <th>regionultima</th>\n",
              "      <th>metroultima</th>\n",
              "      <th>cityultima</th>\n",
              "      <th>networkDomainultima</th>\n",
              "      <th>campaignultima</th>\n",
              "      <th>sourceultima</th>\n",
              "      <th>mediumultima</th>\n",
              "      <th>keywordultima</th>\n",
              "      <th>isTrueDirectultima</th>\n",
              "      <th>referralPathultima</th>\n",
              "      <th>adContentultima</th>\n",
              "      <th>campaignCodeultima</th>\n",
              "      <th>hitsultima</th>\n",
              "      <th>visitNumberprimeira</th>\n",
              "      <th>channelGroupingprimeira</th>\n",
              "      <th>dateprimeira</th>\n",
              "      <th>visitNumberprimeira</th>\n",
              "      <th>visitStartTimeprimeira</th>\n",
              "      <th>browserprimeira</th>\n",
              "      <th>operatingSystemprimeira</th>\n",
              "      <th>isMobileprimeira</th>\n",
              "      <th>deviceCategoryprimeira</th>\n",
              "      <th>campaignprimeira</th>\n",
              "      <th>sourceprimeira</th>\n",
              "      <th>mediumprimeira</th>\n",
              "      <th>keywordprimeira</th>\n",
              "      <th>isTrueDirectprimeira</th>\n",
              "      <th>referralPathprimeira</th>\n",
              "      <th>adContentprimeira</th>\n",
              "      <th>campaignCodeprimeira</th>\n",
              "      <th>hitsprimeira</th>\n",
              "      <th>bounces</th>\n",
              "      <th>newVisits</th>\n",
              "      <th>pageviews</th>\n",
              "      <th>tempo_dif</th>\n",
              "      <th>visits</th>\n",
              "      <th>ano_ultima</th>\n",
              "      <th>mes_ultima</th>\n",
              "      <th>dia_ultima</th>\n",
              "      <th>ano_primeira</th>\n",
              "      <th>mes_primeira</th>\n",
              "      <th>dia_primeira</th>\n",
              "    </tr>\n",
              "  </thead>\n",
              "  <tbody>\n",
              "    <tr>\n",
              "      <th>0</th>\n",
              "      <td>1</td>\n",
              "      <td>7</td>\n",
              "      <td>34</td>\n",
              "      <td>1472974804</td>\n",
              "      <td>7</td>\n",
              "      <td>9</td>\n",
              "      <td>False</td>\n",
              "      <td>0</td>\n",
              "      <td>4</td>\n",
              "      <td>7</td>\n",
              "      <td>135</td>\n",
              "      <td>205</td>\n",
              "      <td>50</td>\n",
              "      <td>286</td>\n",
              "      <td>1652</td>\n",
              "      <td>0</td>\n",
              "      <td>74</td>\n",
              "      <td>6</td>\n",
              "      <td>81</td>\n",
              "      <td>1</td>\n",
              "      <td>174</td>\n",
              "      <td>11</td>\n",
              "      <td>1</td>\n",
              "      <td>0</td>\n",
              "      <td>1</td>\n",
              "      <td>7</td>\n",
              "      <td>34</td>\n",
              "      <td>1</td>\n",
              "      <td>1472974804</td>\n",
              "      <td>7</td>\n",
              "      <td>9</td>\n",
              "      <td>False</td>\n",
              "      <td>0</td>\n",
              "      <td>0</td>\n",
              "      <td>72</td>\n",
              "      <td>6</td>\n",
              "      <td>80</td>\n",
              "      <td>1</td>\n",
              "      <td>174</td>\n",
              "      <td>10</td>\n",
              "      <td>1</td>\n",
              "      <td>0</td>\n",
              "      <td>1.0</td>\n",
              "      <td>1.0</td>\n",
              "      <td>1</td>\n",
              "      <td>0</td>\n",
              "      <td>1</td>\n",
              "      <td>2016</td>\n",
              "      <td>9</td>\n",
              "      <td>4</td>\n",
              "      <td>2016</td>\n",
              "      <td>9</td>\n",
              "      <td>4</td>\n",
              "    </tr>\n",
              "    <tr>\n",
              "      <th>1</th>\n",
              "      <td>1</td>\n",
              "      <td>4</td>\n",
              "      <td>58</td>\n",
              "      <td>1475084026</td>\n",
              "      <td>5</td>\n",
              "      <td>3</td>\n",
              "      <td>False</td>\n",
              "      <td>0</td>\n",
              "      <td>2</td>\n",
              "      <td>11</td>\n",
              "      <td>138</td>\n",
              "      <td>116</td>\n",
              "      <td>20</td>\n",
              "      <td>120</td>\n",
              "      <td>0</td>\n",
              "      <td>0</td>\n",
              "      <td>23</td>\n",
              "      <td>5</td>\n",
              "      <td>4</td>\n",
              "      <td>1</td>\n",
              "      <td>192</td>\n",
              "      <td>11</td>\n",
              "      <td>1</td>\n",
              "      <td>39</td>\n",
              "      <td>1</td>\n",
              "      <td>4</td>\n",
              "      <td>58</td>\n",
              "      <td>1</td>\n",
              "      <td>1475084026</td>\n",
              "      <td>5</td>\n",
              "      <td>3</td>\n",
              "      <td>False</td>\n",
              "      <td>0</td>\n",
              "      <td>0</td>\n",
              "      <td>20</td>\n",
              "      <td>5</td>\n",
              "      <td>4</td>\n",
              "      <td>1</td>\n",
              "      <td>192</td>\n",
              "      <td>10</td>\n",
              "      <td>1</td>\n",
              "      <td>39</td>\n",
              "      <td>0.0</td>\n",
              "      <td>1.0</td>\n",
              "      <td>3</td>\n",
              "      <td>0</td>\n",
              "      <td>1</td>\n",
              "      <td>2016</td>\n",
              "      <td>9</td>\n",
              "      <td>28</td>\n",
              "      <td>2016</td>\n",
              "      <td>9</td>\n",
              "      <td>28</td>\n",
              "    </tr>\n",
              "    <tr>\n",
              "      <th>2</th>\n",
              "      <td>1</td>\n",
              "      <td>7</td>\n",
              "      <td>126</td>\n",
              "      <td>1480996024</td>\n",
              "      <td>5</td>\n",
              "      <td>9</td>\n",
              "      <td>False</td>\n",
              "      <td>0</td>\n",
              "      <td>3</td>\n",
              "      <td>15</td>\n",
              "      <td>101</td>\n",
              "      <td>205</td>\n",
              "      <td>50</td>\n",
              "      <td>286</td>\n",
              "      <td>1106</td>\n",
              "      <td>0</td>\n",
              "      <td>74</td>\n",
              "      <td>6</td>\n",
              "      <td>81</td>\n",
              "      <td>1</td>\n",
              "      <td>124</td>\n",
              "      <td>11</td>\n",
              "      <td>1</td>\n",
              "      <td>16</td>\n",
              "      <td>1</td>\n",
              "      <td>7</td>\n",
              "      <td>126</td>\n",
              "      <td>1</td>\n",
              "      <td>1480996024</td>\n",
              "      <td>5</td>\n",
              "      <td>9</td>\n",
              "      <td>False</td>\n",
              "      <td>0</td>\n",
              "      <td>0</td>\n",
              "      <td>72</td>\n",
              "      <td>6</td>\n",
              "      <td>80</td>\n",
              "      <td>1</td>\n",
              "      <td>124</td>\n",
              "      <td>10</td>\n",
              "      <td>1</td>\n",
              "      <td>17</td>\n",
              "      <td>0.0</td>\n",
              "      <td>1.0</td>\n",
              "      <td>2</td>\n",
              "      <td>0</td>\n",
              "      <td>1</td>\n",
              "      <td>2016</td>\n",
              "      <td>12</td>\n",
              "      <td>5</td>\n",
              "      <td>2016</td>\n",
              "      <td>12</td>\n",
              "      <td>5</td>\n",
              "    </tr>\n",
              "    <tr>\n",
              "      <th>3</th>\n",
              "      <td>1</td>\n",
              "      <td>7</td>\n",
              "      <td>62</td>\n",
              "      <td>1475423502</td>\n",
              "      <td>15</td>\n",
              "      <td>9</td>\n",
              "      <td>False</td>\n",
              "      <td>0</td>\n",
              "      <td>4</td>\n",
              "      <td>7</td>\n",
              "      <td>106</td>\n",
              "      <td>24</td>\n",
              "      <td>0</td>\n",
              "      <td>37</td>\n",
              "      <td>1165</td>\n",
              "      <td>0</td>\n",
              "      <td>74</td>\n",
              "      <td>6</td>\n",
              "      <td>81</td>\n",
              "      <td>1</td>\n",
              "      <td>173</td>\n",
              "      <td>11</td>\n",
              "      <td>1</td>\n",
              "      <td>0</td>\n",
              "      <td>1</td>\n",
              "      <td>7</td>\n",
              "      <td>62</td>\n",
              "      <td>1</td>\n",
              "      <td>1475423502</td>\n",
              "      <td>15</td>\n",
              "      <td>9</td>\n",
              "      <td>False</td>\n",
              "      <td>0</td>\n",
              "      <td>0</td>\n",
              "      <td>72</td>\n",
              "      <td>6</td>\n",
              "      <td>80</td>\n",
              "      <td>1</td>\n",
              "      <td>173</td>\n",
              "      <td>10</td>\n",
              "      <td>1</td>\n",
              "      <td>0</td>\n",
              "      <td>1.0</td>\n",
              "      <td>1.0</td>\n",
              "      <td>1</td>\n",
              "      <td>0</td>\n",
              "      <td>1</td>\n",
              "      <td>2016</td>\n",
              "      <td>10</td>\n",
              "      <td>2</td>\n",
              "      <td>2016</td>\n",
              "      <td>10</td>\n",
              "      <td>2</td>\n",
              "    </tr>\n",
              "    <tr>\n",
              "      <th>4</th>\n",
              "      <td>6</td>\n",
              "      <td>2</td>\n",
              "      <td>262</td>\n",
              "      <td>1492707286</td>\n",
              "      <td>18</td>\n",
              "      <td>6</td>\n",
              "      <td>False</td>\n",
              "      <td>0</td>\n",
              "      <td>2</td>\n",
              "      <td>11</td>\n",
              "      <td>138</td>\n",
              "      <td>205</td>\n",
              "      <td>50</td>\n",
              "      <td>286</td>\n",
              "      <td>333</td>\n",
              "      <td>0</td>\n",
              "      <td>0</td>\n",
              "      <td>0</td>\n",
              "      <td>81</td>\n",
              "      <td>0</td>\n",
              "      <td>192</td>\n",
              "      <td>11</td>\n",
              "      <td>1</td>\n",
              "      <td>16</td>\n",
              "      <td>6</td>\n",
              "      <td>2</td>\n",
              "      <td>262</td>\n",
              "      <td>6</td>\n",
              "      <td>1492707286</td>\n",
              "      <td>18</td>\n",
              "      <td>6</td>\n",
              "      <td>False</td>\n",
              "      <td>0</td>\n",
              "      <td>0</td>\n",
              "      <td>0</td>\n",
              "      <td>0</td>\n",
              "      <td>80</td>\n",
              "      <td>0</td>\n",
              "      <td>192</td>\n",
              "      <td>10</td>\n",
              "      <td>1</td>\n",
              "      <td>17</td>\n",
              "      <td>0.0</td>\n",
              "      <td>0.0</td>\n",
              "      <td>2</td>\n",
              "      <td>0</td>\n",
              "      <td>1</td>\n",
              "      <td>2017</td>\n",
              "      <td>4</td>\n",
              "      <td>20</td>\n",
              "      <td>2017</td>\n",
              "      <td>4</td>\n",
              "      <td>20</td>\n",
              "    </tr>\n",
              "  </tbody>\n",
              "</table>\n",
              "</div>"
            ],
            "text/plain": [
              "   visitNumberultima  channelGroupingultima  ...  mes_primeira  dia_primeira\n",
              "0                  1                      7  ...             9             4\n",
              "1                  1                      4  ...             9            28\n",
              "2                  1                      7  ...            12             5\n",
              "3                  1                      7  ...            10             2\n",
              "4                  6                      2  ...             4            20\n",
              "\n",
              "[5 rows x 53 columns]"
            ]
          },
          "metadata": {
            "tags": []
          },
          "execution_count": 277
        }
      ]
    },
    {
      "cell_type": "markdown",
      "metadata": {
        "id": "DDh9xWS-9IAO"
      },
      "source": [
        "##**Treinando uma regressão linear**\n"
      ]
    },
    {
      "cell_type": "code",
      "metadata": {
        "id": "AwaNcffZ8PzY"
      },
      "source": [
        "x_train, x_test, y_train, y_test= train_test_split(x,y, test_size=0.3, random_state=42)"
      ],
      "execution_count": null,
      "outputs": []
    },
    {
      "cell_type": "code",
      "metadata": {
        "colab": {
          "base_uri": "https://localhost:8080/"
        },
        "id": "nsQ0ZsNe9X1i",
        "outputId": "ee82a5c5-d62c-4110-9eb9-7e2de7087771"
      },
      "source": [
        "reg = LinearRegression()\n",
        "reg.fit(x_train, y_train)"
      ],
      "execution_count": null,
      "outputs": [
        {
          "output_type": "execute_result",
          "data": {
            "text/plain": [
              "LinearRegression(copy_X=True, fit_intercept=True, n_jobs=None, normalize=False)"
            ]
          },
          "metadata": {
            "tags": []
          },
          "execution_count": 281
        }
      ]
    },
    {
      "cell_type": "code",
      "metadata": {
        "id": "B903Idp9-A24"
      },
      "source": [
        "reg_predict = reg.predict(x_test)"
      ],
      "execution_count": null,
      "outputs": []
    },
    {
      "cell_type": "markdown",
      "metadata": {
        "id": "3LlfhTY4AEQS"
      },
      "source": [
        "Notamos valores negativos, vamos converter esses valores para zero, por isso criamos a regra no reg predict"
      ]
    },
    {
      "cell_type": "code",
      "metadata": {
        "id": "FYiV7Y28AUVs"
      },
      "source": [
        "reg_predict[reg_predict < 0] = 0"
      ],
      "execution_count": null,
      "outputs": []
    },
    {
      "cell_type": "code",
      "metadata": {
        "colab": {
          "base_uri": "https://localhost:8080/",
          "height": 202
        },
        "id": "mcFF4pXZ-HTa",
        "outputId": "6ecac18f-7a1e-4ecb-91db-2a5644a5e203"
      },
      "source": [
        "resultados = pd.DataFrame()\n",
        "resultados['revenue'] = y_test\n",
        "resultados['predict'] = reg_predict\n",
        "resultados['erro']= reg_predict - y_test\n",
        "\n",
        "resultados.head()"
      ],
      "execution_count": null,
      "outputs": [
        {
          "output_type": "execute_result",
          "data": {
            "text/html": [
              "<div>\n",
              "<style scoped>\n",
              "    .dataframe tbody tr th:only-of-type {\n",
              "        vertical-align: middle;\n",
              "    }\n",
              "\n",
              "    .dataframe tbody tr th {\n",
              "        vertical-align: top;\n",
              "    }\n",
              "\n",
              "    .dataframe thead th {\n",
              "        text-align: right;\n",
              "    }\n",
              "</style>\n",
              "<table border=\"1\" class=\"dataframe\">\n",
              "  <thead>\n",
              "    <tr style=\"text-align: right;\">\n",
              "      <th></th>\n",
              "      <th>revenue</th>\n",
              "      <th>predict</th>\n",
              "      <th>erro</th>\n",
              "    </tr>\n",
              "  </thead>\n",
              "  <tbody>\n",
              "    <tr>\n",
              "      <th>4122</th>\n",
              "      <td>0.0</td>\n",
              "      <td>0.196245</td>\n",
              "      <td>0.196245</td>\n",
              "    </tr>\n",
              "    <tr>\n",
              "      <th>4065</th>\n",
              "      <td>0.0</td>\n",
              "      <td>0.000000</td>\n",
              "      <td>0.000000</td>\n",
              "    </tr>\n",
              "    <tr>\n",
              "      <th>1731</th>\n",
              "      <td>0.0</td>\n",
              "      <td>0.000000</td>\n",
              "      <td>0.000000</td>\n",
              "    </tr>\n",
              "    <tr>\n",
              "      <th>4740</th>\n",
              "      <td>0.0</td>\n",
              "      <td>0.000000</td>\n",
              "      <td>0.000000</td>\n",
              "    </tr>\n",
              "    <tr>\n",
              "      <th>6391</th>\n",
              "      <td>0.0</td>\n",
              "      <td>0.000000</td>\n",
              "      <td>0.000000</td>\n",
              "    </tr>\n",
              "  </tbody>\n",
              "</table>\n",
              "</div>"
            ],
            "text/plain": [
              "      revenue   predict      erro\n",
              "4122      0.0  0.196245  0.196245\n",
              "4065      0.0  0.000000  0.000000\n",
              "1731      0.0  0.000000  0.000000\n",
              "4740      0.0  0.000000  0.000000\n",
              "6391      0.0  0.000000  0.000000"
            ]
          },
          "metadata": {
            "tags": []
          },
          "execution_count": 296
        }
      ]
    },
    {
      "cell_type": "code",
      "metadata": {
        "colab": {
          "base_uri": "https://localhost:8080/"
        },
        "id": "8MKf5v9J-m4v",
        "outputId": "c647dc97-e446-490d-f549-c377c483f170"
      },
      "source": [
        "print(f'A média do revenue é {resultados.revenue.mean()} com desvio padrão de {resultados.revenue.std()}')\n",
        "print(f'A média da previsão é {resultados.predict.mean()} com desvio padrão de {resultados.predict.std()}')"
      ],
      "execution_count": null,
      "outputs": [
        {
          "output_type": "stream",
          "text": [
            "A média do revenue é 2.302663333333333 com desvio padrão de 28.40031066300714\n",
            "A média da previsão é 2.6029579329901416 com desvio padrão de 9.649205784327197\n"
          ],
          "name": "stdout"
        }
      ]
    },
    {
      "cell_type": "code",
      "metadata": {
        "colab": {
          "base_uri": "https://localhost:8080/",
          "height": 1000
        },
        "id": "XkJD6f7i_Urr",
        "outputId": "2a316996-71b7-4c7c-cd16-0d6009990509"
      },
      "source": [
        "resultados[resultados.revenue > 0]"
      ],
      "execution_count": null,
      "outputs": [
        {
          "output_type": "execute_result",
          "data": {
            "text/html": [
              "<div>\n",
              "<style scoped>\n",
              "    .dataframe tbody tr th:only-of-type {\n",
              "        vertical-align: middle;\n",
              "    }\n",
              "\n",
              "    .dataframe tbody tr th {\n",
              "        vertical-align: top;\n",
              "    }\n",
              "\n",
              "    .dataframe thead th {\n",
              "        text-align: right;\n",
              "    }\n",
              "</style>\n",
              "<table border=\"1\" class=\"dataframe\">\n",
              "  <thead>\n",
              "    <tr style=\"text-align: right;\">\n",
              "      <th></th>\n",
              "      <th>revenue</th>\n",
              "      <th>predict</th>\n",
              "      <th>erro</th>\n",
              "    </tr>\n",
              "  </thead>\n",
              "  <tbody>\n",
              "    <tr>\n",
              "      <th>3006</th>\n",
              "      <td>32.49</td>\n",
              "      <td>14.405661</td>\n",
              "      <td>-18.084339</td>\n",
              "    </tr>\n",
              "    <tr>\n",
              "      <th>5928</th>\n",
              "      <td>74.85</td>\n",
              "      <td>36.827039</td>\n",
              "      <td>-38.022961</td>\n",
              "    </tr>\n",
              "    <tr>\n",
              "      <th>8361</th>\n",
              "      <td>424.50</td>\n",
              "      <td>17.896655</td>\n",
              "      <td>-406.603345</td>\n",
              "    </tr>\n",
              "    <tr>\n",
              "      <th>8612</th>\n",
              "      <td>55.99</td>\n",
              "      <td>16.905466</td>\n",
              "      <td>-39.084534</td>\n",
              "    </tr>\n",
              "    <tr>\n",
              "      <th>416</th>\n",
              "      <td>15.19</td>\n",
              "      <td>22.319092</td>\n",
              "      <td>7.129092</td>\n",
              "    </tr>\n",
              "    <tr>\n",
              "      <th>4077</th>\n",
              "      <td>5.97</td>\n",
              "      <td>14.845100</td>\n",
              "      <td>8.875100</td>\n",
              "    </tr>\n",
              "    <tr>\n",
              "      <th>8146</th>\n",
              "      <td>27.19</td>\n",
              "      <td>13.184905</td>\n",
              "      <td>-14.005095</td>\n",
              "    </tr>\n",
              "    <tr>\n",
              "      <th>4908</th>\n",
              "      <td>372.65</td>\n",
              "      <td>131.932983</td>\n",
              "      <td>-240.717017</td>\n",
              "    </tr>\n",
              "    <tr>\n",
              "      <th>9395</th>\n",
              "      <td>29.98</td>\n",
              "      <td>20.174207</td>\n",
              "      <td>-9.805793</td>\n",
              "    </tr>\n",
              "    <tr>\n",
              "      <th>8728</th>\n",
              "      <td>101.95</td>\n",
              "      <td>87.109516</td>\n",
              "      <td>-14.840484</td>\n",
              "    </tr>\n",
              "    <tr>\n",
              "      <th>9609</th>\n",
              "      <td>95.80</td>\n",
              "      <td>13.482004</td>\n",
              "      <td>-82.317996</td>\n",
              "    </tr>\n",
              "    <tr>\n",
              "      <th>1691</th>\n",
              "      <td>19.19</td>\n",
              "      <td>57.427582</td>\n",
              "      <td>38.237582</td>\n",
              "    </tr>\n",
              "    <tr>\n",
              "      <th>568</th>\n",
              "      <td>278.03</td>\n",
              "      <td>44.530642</td>\n",
              "      <td>-233.499358</td>\n",
              "    </tr>\n",
              "    <tr>\n",
              "      <th>8288</th>\n",
              "      <td>478.40</td>\n",
              "      <td>31.086228</td>\n",
              "      <td>-447.313772</td>\n",
              "    </tr>\n",
              "    <tr>\n",
              "      <th>5478</th>\n",
              "      <td>112.37</td>\n",
              "      <td>40.998696</td>\n",
              "      <td>-71.371304</td>\n",
              "    </tr>\n",
              "    <tr>\n",
              "      <th>532</th>\n",
              "      <td>7.99</td>\n",
              "      <td>13.142982</td>\n",
              "      <td>5.152982</td>\n",
              "    </tr>\n",
              "    <tr>\n",
              "      <th>3033</th>\n",
              "      <td>39.99</td>\n",
              "      <td>9.005991</td>\n",
              "      <td>-30.984009</td>\n",
              "    </tr>\n",
              "    <tr>\n",
              "      <th>7508</th>\n",
              "      <td>479.03</td>\n",
              "      <td>51.658464</td>\n",
              "      <td>-427.371536</td>\n",
              "    </tr>\n",
              "    <tr>\n",
              "      <th>9918</th>\n",
              "      <td>45.57</td>\n",
              "      <td>33.123383</td>\n",
              "      <td>-12.446617</td>\n",
              "    </tr>\n",
              "    <tr>\n",
              "      <th>8542</th>\n",
              "      <td>25.90</td>\n",
              "      <td>99.011414</td>\n",
              "      <td>73.111414</td>\n",
              "    </tr>\n",
              "    <tr>\n",
              "      <th>742</th>\n",
              "      <td>41.72</td>\n",
              "      <td>10.831505</td>\n",
              "      <td>-30.888495</td>\n",
              "    </tr>\n",
              "    <tr>\n",
              "      <th>5331</th>\n",
              "      <td>489.20</td>\n",
              "      <td>30.623816</td>\n",
              "      <td>-458.576184</td>\n",
              "    </tr>\n",
              "    <tr>\n",
              "      <th>9742</th>\n",
              "      <td>239.88</td>\n",
              "      <td>13.742287</td>\n",
              "      <td>-226.137713</td>\n",
              "    </tr>\n",
              "    <tr>\n",
              "      <th>3948</th>\n",
              "      <td>23.97</td>\n",
              "      <td>79.041225</td>\n",
              "      <td>55.071225</td>\n",
              "    </tr>\n",
              "    <tr>\n",
              "      <th>5457</th>\n",
              "      <td>647.53</td>\n",
              "      <td>194.429320</td>\n",
              "      <td>-453.100680</td>\n",
              "    </tr>\n",
              "    <tr>\n",
              "      <th>5157</th>\n",
              "      <td>33.59</td>\n",
              "      <td>2.288449</td>\n",
              "      <td>-31.301551</td>\n",
              "    </tr>\n",
              "    <tr>\n",
              "      <th>7282</th>\n",
              "      <td>26.95</td>\n",
              "      <td>196.801519</td>\n",
              "      <td>169.851519</td>\n",
              "    </tr>\n",
              "    <tr>\n",
              "      <th>6765</th>\n",
              "      <td>64.94</td>\n",
              "      <td>65.349887</td>\n",
              "      <td>0.409887</td>\n",
              "    </tr>\n",
              "    <tr>\n",
              "      <th>467</th>\n",
              "      <td>67.19</td>\n",
              "      <td>14.370880</td>\n",
              "      <td>-52.819120</td>\n",
              "    </tr>\n",
              "    <tr>\n",
              "      <th>3653</th>\n",
              "      <td>49.19</td>\n",
              "      <td>54.951582</td>\n",
              "      <td>5.761582</td>\n",
              "    </tr>\n",
              "    <tr>\n",
              "      <th>5381</th>\n",
              "      <td>374.85</td>\n",
              "      <td>17.187553</td>\n",
              "      <td>-357.662447</td>\n",
              "    </tr>\n",
              "    <tr>\n",
              "      <th>5314</th>\n",
              "      <td>107.94</td>\n",
              "      <td>59.961053</td>\n",
              "      <td>-47.978947</td>\n",
              "    </tr>\n",
              "    <tr>\n",
              "      <th>6680</th>\n",
              "      <td>8.48</td>\n",
              "      <td>85.669925</td>\n",
              "      <td>77.189925</td>\n",
              "    </tr>\n",
              "    <tr>\n",
              "      <th>132</th>\n",
              "      <td>26.49</td>\n",
              "      <td>15.976834</td>\n",
              "      <td>-10.513166</td>\n",
              "    </tr>\n",
              "    <tr>\n",
              "      <th>8098</th>\n",
              "      <td>24.27</td>\n",
              "      <td>15.663430</td>\n",
              "      <td>-8.606570</td>\n",
              "    </tr>\n",
              "    <tr>\n",
              "      <th>7942</th>\n",
              "      <td>52.02</td>\n",
              "      <td>32.394403</td>\n",
              "      <td>-19.625597</td>\n",
              "    </tr>\n",
              "    <tr>\n",
              "      <th>8314</th>\n",
              "      <td>119.99</td>\n",
              "      <td>27.568824</td>\n",
              "      <td>-92.421176</td>\n",
              "    </tr>\n",
              "    <tr>\n",
              "      <th>9085</th>\n",
              "      <td>14.00</td>\n",
              "      <td>10.301110</td>\n",
              "      <td>-3.698890</td>\n",
              "    </tr>\n",
              "    <tr>\n",
              "      <th>3656</th>\n",
              "      <td>217.44</td>\n",
              "      <td>25.857588</td>\n",
              "      <td>-191.582412</td>\n",
              "    </tr>\n",
              "    <tr>\n",
              "      <th>4317</th>\n",
              "      <td>284.34</td>\n",
              "      <td>69.100746</td>\n",
              "      <td>-215.239254</td>\n",
              "    </tr>\n",
              "    <tr>\n",
              "      <th>3319</th>\n",
              "      <td>330.51</td>\n",
              "      <td>39.544283</td>\n",
              "      <td>-290.965717</td>\n",
              "    </tr>\n",
              "    <tr>\n",
              "      <th>5729</th>\n",
              "      <td>79.16</td>\n",
              "      <td>52.431922</td>\n",
              "      <td>-26.728078</td>\n",
              "    </tr>\n",
              "    <tr>\n",
              "      <th>9580</th>\n",
              "      <td>13.59</td>\n",
              "      <td>37.274742</td>\n",
              "      <td>23.684742</td>\n",
              "    </tr>\n",
              "    <tr>\n",
              "      <th>7612</th>\n",
              "      <td>239.60</td>\n",
              "      <td>17.920918</td>\n",
              "      <td>-221.679082</td>\n",
              "    </tr>\n",
              "    <tr>\n",
              "      <th>3910</th>\n",
              "      <td>32.94</td>\n",
              "      <td>39.364363</td>\n",
              "      <td>6.424363</td>\n",
              "    </tr>\n",
              "    <tr>\n",
              "      <th>6568</th>\n",
              "      <td>3.49</td>\n",
              "      <td>17.763389</td>\n",
              "      <td>14.273389</td>\n",
              "    </tr>\n",
              "    <tr>\n",
              "      <th>4818</th>\n",
              "      <td>571.69</td>\n",
              "      <td>113.569292</td>\n",
              "      <td>-458.120708</td>\n",
              "    </tr>\n",
              "  </tbody>\n",
              "</table>\n",
              "</div>"
            ],
            "text/plain": [
              "      revenue     predict        erro\n",
              "3006    32.49   14.405661  -18.084339\n",
              "5928    74.85   36.827039  -38.022961\n",
              "8361   424.50   17.896655 -406.603345\n",
              "8612    55.99   16.905466  -39.084534\n",
              "416     15.19   22.319092    7.129092\n",
              "4077     5.97   14.845100    8.875100\n",
              "8146    27.19   13.184905  -14.005095\n",
              "4908   372.65  131.932983 -240.717017\n",
              "9395    29.98   20.174207   -9.805793\n",
              "8728   101.95   87.109516  -14.840484\n",
              "9609    95.80   13.482004  -82.317996\n",
              "1691    19.19   57.427582   38.237582\n",
              "568    278.03   44.530642 -233.499358\n",
              "8288   478.40   31.086228 -447.313772\n",
              "5478   112.37   40.998696  -71.371304\n",
              "532      7.99   13.142982    5.152982\n",
              "3033    39.99    9.005991  -30.984009\n",
              "7508   479.03   51.658464 -427.371536\n",
              "9918    45.57   33.123383  -12.446617\n",
              "8542    25.90   99.011414   73.111414\n",
              "742     41.72   10.831505  -30.888495\n",
              "5331   489.20   30.623816 -458.576184\n",
              "9742   239.88   13.742287 -226.137713\n",
              "3948    23.97   79.041225   55.071225\n",
              "5457   647.53  194.429320 -453.100680\n",
              "5157    33.59    2.288449  -31.301551\n",
              "7282    26.95  196.801519  169.851519\n",
              "6765    64.94   65.349887    0.409887\n",
              "467     67.19   14.370880  -52.819120\n",
              "3653    49.19   54.951582    5.761582\n",
              "5381   374.85   17.187553 -357.662447\n",
              "5314   107.94   59.961053  -47.978947\n",
              "6680     8.48   85.669925   77.189925\n",
              "132     26.49   15.976834  -10.513166\n",
              "8098    24.27   15.663430   -8.606570\n",
              "7942    52.02   32.394403  -19.625597\n",
              "8314   119.99   27.568824  -92.421176\n",
              "9085    14.00   10.301110   -3.698890\n",
              "3656   217.44   25.857588 -191.582412\n",
              "4317   284.34   69.100746 -215.239254\n",
              "3319   330.51   39.544283 -290.965717\n",
              "5729    79.16   52.431922  -26.728078\n",
              "9580    13.59   37.274742   23.684742\n",
              "7612   239.60   17.920918 -221.679082\n",
              "3910    32.94   39.364363    6.424363\n",
              "6568     3.49   17.763389   14.273389\n",
              "4818   571.69  113.569292 -458.120708"
            ]
          },
          "metadata": {
            "tags": []
          },
          "execution_count": 298
        }
      ]
    },
    {
      "cell_type": "code",
      "metadata": {
        "colab": {
          "base_uri": "https://localhost:8080/"
        },
        "id": "tfcQQf_EA9lr",
        "outputId": "1b678085-5149-459a-bfd2-2b46f31e1ef8"
      },
      "source": [
        "np.sqrt(mean_squared_error(y_test, reg_predict)) "
      ],
      "execution_count": null,
      "outputs": [
        {
          "output_type": "execute_result",
          "data": {
            "text/plain": [
              "25.026336442902135"
            ]
          },
          "metadata": {
            "tags": []
          },
          "execution_count": 299
        }
      ]
    },
    {
      "cell_type": "code",
      "metadata": {
        "colab": {
          "base_uri": "https://localhost:8080/"
        },
        "id": "dkwxVlpVBFo5",
        "outputId": "7a8dce3a-760c-4abe-f6f3-3504ddfaa1d1"
      },
      "source": [
        "# para comparação\n",
        "df_quant.transactionRevenue.std()"
      ],
      "execution_count": null,
      "outputs": [
        {
          "output_type": "execute_result",
          "data": {
            "text/plain": [
              "25.131162674666623"
            ]
          },
          "metadata": {
            "tags": []
          },
          "execution_count": 302
        }
      ]
    },
    {
      "cell_type": "markdown",
      "metadata": {
        "id": "Zju3VcpjBhx5"
      },
      "source": [
        "**valor de desvio padrão bem próximo**"
      ]
    },
    {
      "cell_type": "code",
      "metadata": {
        "colab": {
          "base_uri": "https://localhost:8080/",
          "height": 337
        },
        "id": "0LbgrZk2BSII",
        "outputId": "b2198be3-dcb6-46f2-bdbb-ea78166a37e1"
      },
      "source": [
        "sns.boxenplot(reg_predict) # \n",
        "#representa bem mais do que o modelo anterior pois os valores variam até 200 \n",
        "#enquanto no anterios ficava numa pequena faixa entre 1 e 2"
      ],
      "execution_count": null,
      "outputs": [
        {
          "output_type": "stream",
          "text": [
            "/usr/local/lib/python3.6/dist-packages/seaborn/_decorators.py:43: FutureWarning: Pass the following variable as a keyword arg: x. From version 0.12, the only valid positional argument will be `data`, and passing other arguments without an explicit keyword will result in an error or misinterpretation.\n",
            "  FutureWarning\n"
          ],
          "name": "stderr"
        },
        {
          "output_type": "execute_result",
          "data": {
            "text/plain": [
              "<matplotlib.axes._subplots.AxesSubplot at 0x7f2a55296c88>"
            ]
          },
          "metadata": {
            "tags": []
          },
          "execution_count": 304
        },
        {
          "output_type": "display_data",
          "data": {
            "image/png": "[encoded data removed]",
            "text/plain": [
              "<Figure size 432x288 with 1 Axes>"
            ]
          },
          "metadata": {
            "tags": [],
            "needs_background": "light"
          }
        }
      ]
    },
    {
      "cell_type": "markdown",
      "metadata": {
        "id": "Swzr-VZaCSTE"
      },
      "source": [
        "##**Treinando um Gradient Boosting**\n",
        "\n",
        "Em vez de fazer apenas um preditor para a base inteira ele criará pequenos vários pequenos.\n",
        "Cria um modelo e aprende com ele, esse aprendizado e passado para os seguintes modelos."
      ]
    },
    {
      "cell_type": "code",
      "metadata": {
        "id": "n3c4mnSXBo0N"
      },
      "source": [
        "from sklearn.ensemble import GradientBoostingRegressor"
      ],
      "execution_count": null,
      "outputs": []
    },
    {
      "cell_type": "code",
      "metadata": {
        "id": "KE1AfpldDBtX"
      },
      "source": [
        "gb = GradientBoostingRegressor(random_state=42)"
      ],
      "execution_count": null,
      "outputs": []
    },
    {
      "cell_type": "code",
      "metadata": {
        "colab": {
          "base_uri": "https://localhost:8080/"
        },
        "id": "-EFzGsaRDEJw",
        "outputId": "9cfab2a2-9903-424e-e768-7fdda2c27b75"
      },
      "source": [
        "gb.fit(x_train, y_train)"
      ],
      "execution_count": null,
      "outputs": [
        {
          "output_type": "execute_result",
          "data": {
            "text/plain": [
              "GradientBoostingRegressor(alpha=0.9, ccp_alpha=0.0, criterion='friedman_mse',\n",
              "                          init=None, learning_rate=0.1, loss='ls', max_depth=3,\n",
              "                          max_features=None, max_leaf_nodes=None,\n",
              "                          min_impurity_decrease=0.0, min_impurity_split=None,\n",
              "                          min_samples_leaf=1, min_samples_split=2,\n",
              "                          min_weight_fraction_leaf=0.0, n_estimators=100,\n",
              "                          n_iter_no_change=None, presort='deprecated',\n",
              "                          random_state=None, subsample=1.0, tol=0.0001,\n",
              "                          validation_fraction=0.1, verbose=0, warm_start=False)"
            ]
          },
          "metadata": {
            "tags": []
          },
          "execution_count": 308
        }
      ]
    },
    {
      "cell_type": "code",
      "metadata": {
        "id": "_TBeNzV6Dd6k"
      },
      "source": [
        "gb_predict = gb.predict(x_test)"
      ],
      "execution_count": null,
      "outputs": []
    },
    {
      "cell_type": "code",
      "metadata": {
        "colab": {
          "base_uri": "https://localhost:8080/"
        },
        "id": "eha4-4GfDr9I",
        "outputId": "c6be3468-789a-4c18-db3b-6801f748caf1"
      },
      "source": [
        "gb_predict"
      ],
      "execution_count": null,
      "outputs": [
        {
          "output_type": "execute_result",
          "data": {
            "text/plain": [
              "array([ 0.14399303, -0.01154569, -0.03554255, ...,  0.22898756,\n",
              "        0.20131164, -0.03832608])"
            ]
          },
          "metadata": {
            "tags": []
          },
          "execution_count": 310
        }
      ]
    },
    {
      "cell_type": "code",
      "metadata": {
        "colab": {
          "base_uri": "https://localhost:8080/"
        },
        "id": "xXgtnqtCDtj_",
        "outputId": "59f75fdf-a536-43ab-bfe0-bb9412d0c4c0"
      },
      "source": [
        "gb_predict[gb_predict < 0] = 0\n",
        "\n",
        "gb_predict"
      ],
      "execution_count": null,
      "outputs": [
        {
          "output_type": "execute_result",
          "data": {
            "text/plain": [
              "array([0.14399303, 0.        , 0.        , ..., 0.22898756, 0.20131164,\n",
              "       0.        ])"
            ]
          },
          "metadata": {
            "tags": []
          },
          "execution_count": 311
        }
      ]
    },
    {
      "cell_type": "code",
      "metadata": {
        "colab": {
          "base_uri": "https://localhost:8080/",
          "height": 202
        },
        "id": "hyH72AIjD3Xb",
        "outputId": "a617923d-09f1-4448-e2b1-ed4289553d02"
      },
      "source": [
        "resultados = pd.DataFrame()\n",
        "resultados['revenue'] = y_test\n",
        "resultados['predict'] = gb_predict\n",
        "resultados['erro']= gb_predict - y_test\n",
        "\n",
        "resultados.head()"
      ],
      "execution_count": null,
      "outputs": [
        {
          "output_type": "execute_result",
          "data": {
            "text/html": [
              "<div>\n",
              "<style scoped>\n",
              "    .dataframe tbody tr th:only-of-type {\n",
              "        vertical-align: middle;\n",
              "    }\n",
              "\n",
              "    .dataframe tbody tr th {\n",
              "        vertical-align: top;\n",
              "    }\n",
              "\n",
              "    .dataframe thead th {\n",
              "        text-align: right;\n",
              "    }\n",
              "</style>\n",
              "<table border=\"1\" class=\"dataframe\">\n",
              "  <thead>\n",
              "    <tr style=\"text-align: right;\">\n",
              "      <th></th>\n",
              "      <th>revenue</th>\n",
              "      <th>predict</th>\n",
              "      <th>erro</th>\n",
              "    </tr>\n",
              "  </thead>\n",
              "  <tbody>\n",
              "    <tr>\n",
              "      <th>4122</th>\n",
              "      <td>0.0</td>\n",
              "      <td>0.143993</td>\n",
              "      <td>0.143993</td>\n",
              "    </tr>\n",
              "    <tr>\n",
              "      <th>4065</th>\n",
              "      <td>0.0</td>\n",
              "      <td>0.000000</td>\n",
              "      <td>0.000000</td>\n",
              "    </tr>\n",
              "    <tr>\n",
              "      <th>1731</th>\n",
              "      <td>0.0</td>\n",
              "      <td>0.000000</td>\n",
              "      <td>0.000000</td>\n",
              "    </tr>\n",
              "    <tr>\n",
              "      <th>4740</th>\n",
              "      <td>0.0</td>\n",
              "      <td>0.000000</td>\n",
              "      <td>0.000000</td>\n",
              "    </tr>\n",
              "    <tr>\n",
              "      <th>6391</th>\n",
              "      <td>0.0</td>\n",
              "      <td>0.852498</td>\n",
              "      <td>0.852498</td>\n",
              "    </tr>\n",
              "  </tbody>\n",
              "</table>\n",
              "</div>"
            ],
            "text/plain": [
              "      revenue   predict      erro\n",
              "4122      0.0  0.143993  0.143993\n",
              "4065      0.0  0.000000  0.000000\n",
              "1731      0.0  0.000000  0.000000\n",
              "4740      0.0  0.000000  0.000000\n",
              "6391      0.0  0.852498  0.852498"
            ]
          },
          "metadata": {
            "tags": []
          },
          "execution_count": 312
        }
      ]
    },
    {
      "cell_type": "code",
      "metadata": {
        "colab": {
          "base_uri": "https://localhost:8080/"
        },
        "id": "NHllFJ23EMxu",
        "outputId": "e656176d-81c4-45e3-d8cf-79a3a19cf44d"
      },
      "source": [
        "print(f'A média do revenue é {resultados.revenue.mean()} com desvio padrão de {resultados.revenue.std()}')\n",
        "print(f'A média da previsão é {resultados.predict.mean()} com desvio padrão de {resultados.predict.std()}')"
      ],
      "execution_count": null,
      "outputs": [
        {
          "output_type": "stream",
          "text": [
            "A média do revenue é 2.302663333333333 com desvio padrão de 28.40031066300714\n",
            "A média da previsão é 2.1829274936664125 com desvio padrão de 15.393558035576719\n"
          ],
          "name": "stdout"
        }
      ]
    },
    {
      "cell_type": "code",
      "metadata": {
        "colab": {
          "base_uri": "https://localhost:8080/"
        },
        "id": "3UtvTG3GEPBG",
        "outputId": "4857c6c7-92d6-4ba3-9d28-e930be86c0f1"
      },
      "source": [
        "np.sqrt(mean_squared_error(y_test, gb_predict)) \n"
      ],
      "execution_count": null,
      "outputs": [
        {
          "output_type": "execute_result",
          "data": {
            "text/plain": [
              "23.51548651640668"
            ]
          },
          "metadata": {
            "tags": []
          },
          "execution_count": 316
        }
      ]
    },
    {
      "cell_type": "code",
      "metadata": {
        "id": "oquK2P0yEsmG",
        "colab": {
          "base_uri": "https://localhost:8080/"
        },
        "outputId": "55a8bf0b-f99b-490d-e09f-5da479db7b4f"
      },
      "source": [
        "# para comparação\n",
        "df_quant.transactionRevenue.std()"
      ],
      "execution_count": null,
      "outputs": [
        {
          "output_type": "execute_result",
          "data": {
            "text/plain": [
              "25.131162674666623"
            ]
          },
          "metadata": {
            "tags": []
          },
          "execution_count": 317
        }
      ]
    },
    {
      "cell_type": "code",
      "metadata": {
        "colab": {
          "base_uri": "https://localhost:8080/",
          "height": 337
        },
        "id": "U-sUQMdsEmMD",
        "outputId": "98d8050d-3fba-4a6f-a7de-a6f12c1def9f"
      },
      "source": [
        "sns.boxenplot(gb_predict)"
      ],
      "execution_count": null,
      "outputs": [
        {
          "output_type": "stream",
          "text": [
            "/usr/local/lib/python3.6/dist-packages/seaborn/_decorators.py:43: FutureWarning: Pass the following variable as a keyword arg: x. From version 0.12, the only valid positional argument will be `data`, and passing other arguments without an explicit keyword will result in an error or misinterpretation.\n",
            "  FutureWarning\n"
          ],
          "name": "stderr"
        },
        {
          "output_type": "execute_result",
          "data": {
            "text/plain": [
              "<matplotlib.axes._subplots.AxesSubplot at 0x7f2a533f9f28>"
            ]
          },
          "metadata": {
            "tags": []
          },
          "execution_count": 315
        },
        {
          "output_type": "display_data",
          "data": {
            "image/png": "[encoded data removed]",
            "text/plain": [
              "<Figure size 432x288 with 1 Axes>"
            ]
          },
          "metadata": {
            "tags": [],
            "needs_background": "light"
          }
        }
      ]
    }
  ]
}